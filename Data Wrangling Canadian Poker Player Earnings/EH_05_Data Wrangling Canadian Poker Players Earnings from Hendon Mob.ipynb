{
 "cells": [
  {
   "cell_type": "markdown",
   "id": "8f26ab46",
   "metadata": {},
   "source": [
    "# EH_05_Data Wrangling Canadian Poker Player Earnings\n",
    "Prepared by Eric Hui\n",
    "\n",
    "## Purpose\n",
    "Web scraping and wrangling Canadian poker player earnings from Hendon Mob Poker Database\n",
    "\n",
    "## Methodology\n",
    "Using Python and requests, we will web scrape detailed information of the top Canadian poker players. Then make visualizations and observe any interesting trends."
   ]
  },
  {
   "cell_type": "markdown",
   "id": "d4521a0a",
   "metadata": {},
   "source": [
    "## Install/Import dependencies"
   ]
  },
  {
   "cell_type": "code",
   "execution_count": 439,
   "id": "3368410a",
   "metadata": {
    "collapsed": true
   },
   "outputs": [
    {
     "name": "stdout",
     "output_type": "stream",
     "text": [
      "Requirement already satisfied: pandas in d:\\programs\\anaconda3\\lib\\site-packages (1.4.2)\n",
      "Requirement already satisfied: numpy>=1.18.5 in d:\\programs\\anaconda3\\lib\\site-packages (from pandas) (1.21.5)\n",
      "Requirement already satisfied: python-dateutil>=2.8.1 in d:\\programs\\anaconda3\\lib\\site-packages (from pandas) (2.8.2)\n",
      "Requirement already satisfied: pytz>=2020.1 in d:\\programs\\anaconda3\\lib\\site-packages (from pandas) (2022.1)\n",
      "Requirement already satisfied: six>=1.5 in d:\\programs\\anaconda3\\lib\\site-packages (from python-dateutil>=2.8.1->pandas) (1.16.0)\n",
      "Requirement already satisfied: plotly in d:\\programs\\anaconda3\\lib\\site-packages (5.6.0)\n",
      "Requirement already satisfied: six in d:\\programs\\anaconda3\\lib\\site-packages (from plotly) (1.16.0)\n",
      "Requirement already satisfied: tenacity>=6.2.0 in d:\\programs\\anaconda3\\lib\\site-packages (from plotly) (8.0.1)\n",
      "Requirement already satisfied: seaborn in d:\\programs\\anaconda3\\lib\\site-packages (0.11.2)\n",
      "Requirement already satisfied: numpy>=1.15 in d:\\programs\\anaconda3\\lib\\site-packages (from seaborn) (1.21.5)\n",
      "Requirement already satisfied: matplotlib>=2.2 in d:\\programs\\anaconda3\\lib\\site-packages (from seaborn) (3.5.1)\n",
      "Requirement already satisfied: scipy>=1.0 in d:\\programs\\anaconda3\\lib\\site-packages (from seaborn) (1.7.3)\n",
      "Requirement already satisfied: pandas>=0.23 in d:\\programs\\anaconda3\\lib\\site-packages (from seaborn) (1.4.2)\n",
      "Requirement already satisfied: packaging>=20.0 in d:\\programs\\anaconda3\\lib\\site-packages (from matplotlib>=2.2->seaborn) (21.3)\n",
      "Requirement already satisfied: pyparsing>=2.2.1 in d:\\programs\\anaconda3\\lib\\site-packages (from matplotlib>=2.2->seaborn) (3.0.4)\n",
      "Requirement already satisfied: pillow>=6.2.0 in d:\\programs\\anaconda3\\lib\\site-packages (from matplotlib>=2.2->seaborn) (9.0.1)\n",
      "Requirement already satisfied: cycler>=0.10 in d:\\programs\\anaconda3\\lib\\site-packages (from matplotlib>=2.2->seaborn) (0.11.0)\n",
      "Requirement already satisfied: kiwisolver>=1.0.1 in d:\\programs\\anaconda3\\lib\\site-packages (from matplotlib>=2.2->seaborn) (1.4.2)\n",
      "Requirement already satisfied: python-dateutil>=2.7 in d:\\programs\\anaconda3\\lib\\site-packages (from matplotlib>=2.2->seaborn) (2.8.2)\n",
      "Requirement already satisfied: fonttools>=4.22.0 in d:\\programs\\anaconda3\\lib\\site-packages (from matplotlib>=2.2->seaborn) (4.25.0)\n",
      "Requirement already satisfied: pytz>=2020.1 in d:\\programs\\anaconda3\\lib\\site-packages (from pandas>=0.23->seaborn) (2022.1)\n",
      "Requirement already satisfied: six>=1.5 in d:\\programs\\anaconda3\\lib\\site-packages (from python-dateutil>=2.7->matplotlib>=2.2->seaborn) (1.16.0)\n"
     ]
    }
   ],
   "source": [
    "!pip install pandas;\n",
    "!pip install plotly;\n",
    "!pip install seaborn;"
   ]
  },
  {
   "cell_type": "code",
   "execution_count": 216,
   "id": "6d1ec4ec",
   "metadata": {},
   "outputs": [],
   "source": [
    "# Data manipulation\n",
    "import pandas as pd\n",
    "import numpy as np\n",
    "import itertools\n",
    "\n",
    "# Web\n",
    "import requests\n",
    "from bs4 import BeautifulSoup as bsoup\n",
    "\n",
    "# Time/Sleep\n",
    "import time\n",
    "import datetime\n",
    "import random\n",
    "\n",
    "# Visualizations\n",
    "import plotly.express as px\n",
    "import plotly.graph_objects as go\n",
    "from plotly.subplots import make_subplots\n",
    "import matplotlib.pyplot as plt\n",
    "import seaborn as sns\n",
    "%matplotlib inline"
   ]
  },
  {
   "cell_type": "markdown",
   "id": "650f3ce3",
   "metadata": {},
   "source": [
    "# Parameter definition\n",
    "We set all relevant parameters for our notebook. By convention, parameters are uppercase, while all the \n",
    "other variables follow Python's guidelines."
   ]
  },
  {
   "cell_type": "code",
   "execution_count": 3,
   "id": "17e9bce5",
   "metadata": {},
   "outputs": [],
   "source": [
    "BASE_URL=\"https://pokerdb.thehendonmob.com\" # starting base url\n",
    "RANK_URL=\"/ranking/4119\"\n",
    "MAX_NUM_PAGES=30 # number of pages"
   ]
  },
  {
   "cell_type": "markdown",
   "id": "709430ed",
   "metadata": {},
   "source": [
    "\n",
    "# Data import\n",
    "We retrieve all the required data for the analysis."
   ]
  },
  {
   "cell_type": "markdown",
   "id": "66e6a144",
   "metadata": {},
   "source": [
    "#### Helper Functions"
   ]
  },
  {
   "cell_type": "code",
   "execution_count": 4,
   "id": "080173b5",
   "metadata": {},
   "outputs": [],
   "source": [
    "def scrape_page(url):\n",
    "    '''\n",
    "    Scrape a page from base url\n",
    "    '''\n",
    "    r=requests.get(url, headers={'User-Agent': 'Mozilla/5.0'})\n",
    "    soup=bsoup(r.text)\n",
    "    temp=soup.find_all('div', {'class':'block-common'})\n",
    "    raw_table=temp[1].find('table', {'class':'table'})\n",
    "    table=raw_table.find_all('tr')\n",
    "    return get_ranking_table_data(table)\n",
    "\n",
    "def get_ranking_table_data(table):\n",
    "    '''\n",
    "    Parse ranking table data and return it as a nested list (convert to dataframe afterwards)\n",
    "    Returns: list \n",
    "    '''\n",
    "    ranking_data=[]\n",
    "    for row in table:\n",
    "        rank=row.find('td',{'class':'place'}).text # ranking\n",
    "        name=row.find('td',{'class':'name'}).text.strip() # player name\n",
    "        # player detailed info url, replace with s for stats page\n",
    "        player_url=str(row.find('a',href=True)['href']).replace('=r','=s') \n",
    "        ranking_data.append([rank,name,player_url])\n",
    "    return ranking_data\n",
    "   \n",
    "def scrape(num_pages):\n",
    "    '''\n",
    "    Scrape a predetermined number of pages\n",
    "    '''\n",
    "    if num_pages>MAX_NUM_PAGES:\n",
    "        print('Error: Too many pages')\n",
    "        return None\n",
    "    total_data=[]\n",
    "    num_pages+=1\n",
    "    sum=0\n",
    "    for i in range(1,num_pages):\n",
    "        total_data.append(scrape_page(BASE_URL+RANK_URL+\"/\"+str(i)))\n",
    "        print(f'{len(total_data[i-1])} records retreived on page {i}')\n",
    "        #if i<num_pages-1:\n",
    "        #    wait=random.randint(6,12)\n",
    "        #    print(f'Sleeping for {wait} seconds')\n",
    "        #    time.sleep(wait)\n",
    "    print(f'Operation complete. Total of {len(total_data)} pages scraped.')    \n",
    "    total_data=list(itertools.chain(*total_data))\n",
    "    print(f'Total of {len(total_data)} records scraped')\n",
    "    return total_data"
   ]
  },
  {
   "cell_type": "markdown",
   "id": "ee3ad385",
   "metadata": {},
   "source": [
    "### Scrape data"
   ]
  },
  {
   "cell_type": "code",
   "execution_count": 5,
   "id": "08b5958a",
   "metadata": {},
   "outputs": [
    {
     "name": "stdout",
     "output_type": "stream",
     "text": [
      "100 records retreived on page 1\n",
      "100 records retreived on page 2\n",
      "100 records retreived on page 3\n",
      "100 records retreived on page 4\n",
      "100 records retreived on page 5\n",
      "100 records retreived on page 6\n",
      "100 records retreived on page 7\n",
      "100 records retreived on page 8\n",
      "100 records retreived on page 9\n",
      "100 records retreived on page 10\n",
      "100 records retreived on page 11\n",
      "100 records retreived on page 12\n",
      "100 records retreived on page 13\n",
      "100 records retreived on page 14\n",
      "100 records retreived on page 15\n",
      "100 records retreived on page 16\n",
      "100 records retreived on page 17\n",
      "100 records retreived on page 18\n",
      "100 records retreived on page 19\n",
      "100 records retreived on page 20\n",
      "100 records retreived on page 21\n",
      "100 records retreived on page 22\n",
      "100 records retreived on page 23\n",
      "100 records retreived on page 24\n",
      "100 records retreived on page 25\n",
      "100 records retreived on page 26\n",
      "100 records retreived on page 27\n",
      "100 records retreived on page 28\n",
      "100 records retreived on page 29\n",
      "22 records retreived on page 30\n",
      "Operation complete. Total of 30 pages scraped.\n",
      "Total of 2922 records scraped\n"
     ]
    },
    {
     "data": {
      "text/html": [
       "<div>\n",
       "<style scoped>\n",
       "    .dataframe tbody tr th:only-of-type {\n",
       "        vertical-align: middle;\n",
       "    }\n",
       "\n",
       "    .dataframe tbody tr th {\n",
       "        vertical-align: top;\n",
       "    }\n",
       "\n",
       "    .dataframe thead th {\n",
       "        text-align: right;\n",
       "    }\n",
       "</style>\n",
       "<table border=\"1\" class=\"dataframe\">\n",
       "  <thead>\n",
       "    <tr style=\"text-align: right;\">\n",
       "      <th></th>\n",
       "      <th>0</th>\n",
       "      <th>1</th>\n",
       "      <th>2</th>\n",
       "    </tr>\n",
       "  </thead>\n",
       "  <tbody>\n",
       "    <tr>\n",
       "      <th>0</th>\n",
       "      <td>1st</td>\n",
       "      <td>Daniel Negreanu</td>\n",
       "      <td>/player.php?a=s&amp;n=181</td>\n",
       "    </tr>\n",
       "    <tr>\n",
       "      <th>1</th>\n",
       "      <td>2nd</td>\n",
       "      <td>Timothy Adams</td>\n",
       "      <td>/player.php?a=s&amp;n=88149</td>\n",
       "    </tr>\n",
       "    <tr>\n",
       "      <th>2</th>\n",
       "      <td>3rd</td>\n",
       "      <td>Sam Greenwood</td>\n",
       "      <td>/player.php?a=s&amp;n=113537</td>\n",
       "    </tr>\n",
       "    <tr>\n",
       "      <th>3</th>\n",
       "      <td>4th</td>\n",
       "      <td>Daniel Dvoress</td>\n",
       "      <td>/player.php?a=s&amp;n=264160</td>\n",
       "    </tr>\n",
       "    <tr>\n",
       "      <th>4</th>\n",
       "      <td>5th</td>\n",
       "      <td>Mike McDonald</td>\n",
       "      <td>/player.php?a=s&amp;n=96339</td>\n",
       "    </tr>\n",
       "    <tr>\n",
       "      <th>...</th>\n",
       "      <td>...</td>\n",
       "      <td>...</td>\n",
       "      <td>...</td>\n",
       "    </tr>\n",
       "    <tr>\n",
       "      <th>2917</th>\n",
       "      <td>2,918th</td>\n",
       "      <td>Ricardo Teves</td>\n",
       "      <td>/player.php?a=s&amp;n=680943</td>\n",
       "    </tr>\n",
       "    <tr>\n",
       "      <th>2918</th>\n",
       "      <td>2,919th</td>\n",
       "      <td>Jushia Jackson</td>\n",
       "      <td>/player.php?a=s&amp;n=666704</td>\n",
       "    </tr>\n",
       "    <tr>\n",
       "      <th>2919</th>\n",
       "      <td>2,920th</td>\n",
       "      <td>Graham Richards</td>\n",
       "      <td>/player.php?a=s&amp;n=699883</td>\n",
       "    </tr>\n",
       "    <tr>\n",
       "      <th>2920</th>\n",
       "      <td>2,921st</td>\n",
       "      <td>Stephen Goodger</td>\n",
       "      <td>/player.php?a=s&amp;n=949949</td>\n",
       "    </tr>\n",
       "    <tr>\n",
       "      <th>2921</th>\n",
       "      <td>2,921st</td>\n",
       "      <td>Karen Paul</td>\n",
       "      <td>/player.php?a=s&amp;n=156062</td>\n",
       "    </tr>\n",
       "  </tbody>\n",
       "</table>\n",
       "<p>2922 rows × 3 columns</p>\n",
       "</div>"
      ],
      "text/plain": [
       "            0                1                         2\n",
       "0         1st  Daniel Negreanu     /player.php?a=s&n=181\n",
       "1         2nd    Timothy Adams   /player.php?a=s&n=88149\n",
       "2         3rd    Sam Greenwood  /player.php?a=s&n=113537\n",
       "3         4th   Daniel Dvoress  /player.php?a=s&n=264160\n",
       "4         5th    Mike McDonald   /player.php?a=s&n=96339\n",
       "...       ...              ...                       ...\n",
       "2917  2,918th    Ricardo Teves  /player.php?a=s&n=680943\n",
       "2918  2,919th   Jushia Jackson  /player.php?a=s&n=666704\n",
       "2919  2,920th  Graham Richards  /player.php?a=s&n=699883\n",
       "2920  2,921st  Stephen Goodger  /player.php?a=s&n=949949\n",
       "2921  2,921st       Karen Paul  /player.php?a=s&n=156062\n",
       "\n",
       "[2922 rows x 3 columns]"
      ]
     },
     "execution_count": 5,
     "metadata": {},
     "output_type": "execute_result"
    }
   ],
   "source": [
    "# scrape 30 pages worth of players\n",
    "raw_data=scrape(num_pages=30)\n",
    "\n",
    "df_players_url=pd.DataFrame(raw_data)\n",
    "df_players_url"
   ]
  },
  {
   "cell_type": "markdown",
   "id": "28d538be",
   "metadata": {},
   "source": [
    "### Get earnings stats from every player\n",
    "\n",
    "#### Helper Functions"
   ]
  },
  {
   "cell_type": "code",
   "execution_count": 22,
   "id": "607c1781",
   "metadata": {},
   "outputs": [],
   "source": [
    "def scrape_player_tables(url):\n",
    "    '''\n",
    "    Scrape tables from a player page\n",
    "    '''\n",
    "    r=requests.get(url, headers={'User-Agent': 'Mozilla/5.0'})\n",
    "    tables=pd.read_html(r.text)\n",
    "    \n",
    "    return tables\n",
    "\n",
    "def format_player_earnings(player_earnings,player_name):\n",
    "    '''\n",
    "    Pass in a dataframe containing a player's earnings in all regions and return only the world region\n",
    "    '''\n",
    "    df=player_earnings\n",
    "    new_header = df.iloc[0] #grab the first row for the header\n",
    "    df = df[1:]             #take the data less the header row\n",
    "    df.columns = new_header #set the header row as the df header\n",
    "\n",
    "    # format and drop \"Total\" Earnings\n",
    "    earnings_world=pd.concat([df.iloc[:,0],df.World],axis=1)\n",
    "    earnings_world.columns=['Total',player_name]\n",
    "    earnings_world=earnings_world.iloc[1:].reset_index(drop=True).T\n",
    "    \n",
    "    new_header = earnings_world.iloc[0] #grab the first row for the header\n",
    "    earnings_world = earnings_world[1:] #take the data less the header row\n",
    "    earnings_world.columns = new_header #set the header row as the df header\n",
    "    \n",
    "    return earnings_world\n",
    "\n",
    "def get_all_player_earnings(players_table):\n",
    "    '''\n",
    "    Parse every player url in the players url table and return the earnings of the all players as a series\n",
    "    '''\n",
    "    start = time.time()\n",
    "    all_player_earnings=[]\n",
    "    #player_names_list=players_table[1] #reference 2nd column for names\n",
    "    #url_list=players_table[2] #reference 3rd column in for urls\n",
    "    \n",
    "    players=zip(players_table[1],players_table[2])\n",
    "    total=len(players_table)\n",
    "    \n",
    "    for i,d in enumerate(players,start=0): \n",
    "        # retrieve all tables \n",
    "        #print(d[1])\n",
    "        player_data=scrape_player_tables(BASE_URL+d[1]);\n",
    "                \n",
    "        # table 2 contains earnings data\n",
    "        player_earnings=player_data[2]\n",
    "        all_player_earnings.append(format_player_earnings(player_earnings,d[0])); # format to only world earnings\n",
    "        \n",
    "        print(f'Players parsed: {i+1}/{total}',end='\\r')\n",
    "    \n",
    "    print(f'\\nOperation completed. Time elapsed: {str(datetime.timedelta(seconds = round(time.time()-start,2)))} seconds.')\n",
    "    \n",
    "    return all_player_earnings"
   ]
  },
  {
   "cell_type": "markdown",
   "id": "db6f7bf2",
   "metadata": {},
   "source": [
    "### Scrape the earnings statistics"
   ]
  },
  {
   "cell_type": "code",
   "execution_count": 23,
   "id": "5e93defc",
   "metadata": {
    "scrolled": true
   },
   "outputs": [
    {
     "name": "stdout",
     "output_type": "stream",
     "text": [
      "Players parsed: 2922/2922\n",
      "Operation completed. Time elapsed: 0:24:20.230000 seconds.\n"
     ]
    }
   ],
   "source": [
    "player_earnings=get_all_player_earnings(df_players_url)"
   ]
  },
  {
   "cell_type": "markdown",
   "id": "61e04068",
   "metadata": {},
   "source": [
    "### Store to notebook"
   ]
  },
  {
   "cell_type": "code",
   "execution_count": 25,
   "id": "039d7529",
   "metadata": {},
   "outputs": [
    {
     "name": "stdout",
     "output_type": "stream",
     "text": [
      "Stored 'player_earnings' (list)\n"
     ]
    }
   ],
   "source": [
    "# store to this notebook\n",
    "%store player_earnings"
   ]
  },
  {
   "cell_type": "code",
   "execution_count": 27,
   "id": "e1563d54",
   "metadata": {},
   "outputs": [],
   "source": [
    "# retrieve\n",
    "%store -r player_earnings"
   ]
  },
  {
   "cell_type": "markdown",
   "id": "2958c8ad",
   "metadata": {},
   "source": [
    "## Data preprocessing\n",
    "\n",
    "Now that the data has been scraped, clean it a bit\n",
    "\n",
    "#### Helper Functions"
   ]
  },
  {
   "cell_type": "code",
   "execution_count": 29,
   "id": "260213f9",
   "metadata": {},
   "outputs": [],
   "source": [
    "def append_player_earnings(player_earnings):\n",
    "    '''\n",
    "    Return a nested list of all player's earnings.\n",
    "    '''\n",
    "    new_player_earnings=[]\n",
    "    for i in (player_earnings):\n",
    "        new_player_earnings.append(i.iloc[0])\n",
    "    return new_player_earnings"
   ]
  },
  {
   "cell_type": "code",
   "execution_count": 109,
   "id": "0c732cab",
   "metadata": {},
   "outputs": [
    {
     "name": "stdout",
     "output_type": "stream",
     "text": [
      "<class 'pandas.core.frame.DataFrame'>\n",
      "Index: 2922 entries, Daniel Negreanu to Karen Paul\n",
      "Data columns (total 37 columns):\n",
      " #   Column  Non-Null Count  Dtype \n",
      "---  ------  --------------  ----- \n",
      " 0   2022    514 non-null    object\n",
      " 1   2021    565 non-null    object\n",
      " 2   2020    789 non-null    object\n",
      " 3   2019    1396 non-null   object\n",
      " 4   2018    1447 non-null   object\n",
      " 5   2017    1347 non-null   object\n",
      " 6   2016    1291 non-null   object\n",
      " 7   2015    1191 non-null   object\n",
      " 8   2014    1119 non-null   object\n",
      " 9   2013    1041 non-null   object\n",
      " 10  2012    870 non-null    object\n",
      " 11  2011    727 non-null    object\n",
      " 12  2010    634 non-null    object\n",
      " 13  2009    476 non-null    object\n",
      " 14  2008    347 non-null    object\n",
      " 15  2007    247 non-null    object\n",
      " 16  2006    158 non-null    object\n",
      " 17  2005    116 non-null    object\n",
      " 18  2004    67 non-null     object\n",
      " 19  2003    33 non-null     object\n",
      " 20  2002    29 non-null     object\n",
      " 21  2001    24 non-null     object\n",
      " 22  2000    24 non-null     object\n",
      " 23  1999    21 non-null     object\n",
      " 24  1998    17 non-null     object\n",
      " 25  1997    13 non-null     object\n",
      " 26  1996    9 non-null      object\n",
      " 27  1995    9 non-null      object\n",
      " 28  1994    9 non-null      object\n",
      " 29  1993    6 non-null      object\n",
      " 30  1992    5 non-null      object\n",
      " 31  1991    2 non-null      object\n",
      " 32  1990    1 non-null      object\n",
      " 33  1989    1 non-null      object\n",
      " 34  1988    1 non-null      object\n",
      " 35  1987    1 non-null      object\n",
      " 36  1986    1 non-null      object\n",
      "dtypes: object(37)\n",
      "memory usage: 867.5+ KB\n"
     ]
    }
   ],
   "source": [
    "all_player_earnings=append_player_earnings(player_earnings)\n",
    "df_player_earnings=pd.DataFrame(all_player_earnings)\n",
    "df_player_earnings.info()"
   ]
  },
  {
   "cell_type": "markdown",
   "id": "839ede5c",
   "metadata": {},
   "source": [
    "## Data Preprocessing\n",
    "\n",
    "Fill NA's and '-' with '0'\n",
    "\n",
    "#### Helper Functions"
   ]
  },
  {
   "cell_type": "code",
   "execution_count": 339,
   "id": "43a3d8f0",
   "metadata": {},
   "outputs": [
    {
     "name": "stderr",
     "output_type": "stream",
     "text": [
      "<ipython-input-339-c5204ca5bb92>:8: FutureWarning:\n",
      "\n",
      "The default value of regex will change from True to False in a future version. In addition, single character regular expressions will*not* be treated as literal strings when regex=True.\n",
      "\n"
     ]
    },
    {
     "data": {
      "text/html": [
       "<div>\n",
       "<style scoped>\n",
       "    .dataframe tbody tr th:only-of-type {\n",
       "        vertical-align: middle;\n",
       "    }\n",
       "\n",
       "    .dataframe tbody tr th {\n",
       "        vertical-align: top;\n",
       "    }\n",
       "\n",
       "    .dataframe thead th {\n",
       "        text-align: right;\n",
       "    }\n",
       "</style>\n",
       "<table border=\"1\" class=\"dataframe\">\n",
       "  <thead>\n",
       "    <tr style=\"text-align: right;\">\n",
       "      <th>Total</th>\n",
       "      <th>2022</th>\n",
       "      <th>2021</th>\n",
       "      <th>2020</th>\n",
       "      <th>2019</th>\n",
       "      <th>2018</th>\n",
       "      <th>2017</th>\n",
       "      <th>2016</th>\n",
       "      <th>2015</th>\n",
       "      <th>2014</th>\n",
       "      <th>2013</th>\n",
       "      <th>...</th>\n",
       "      <th>1995</th>\n",
       "      <th>1994</th>\n",
       "      <th>1993</th>\n",
       "      <th>1992</th>\n",
       "      <th>1991</th>\n",
       "      <th>1990</th>\n",
       "      <th>1989</th>\n",
       "      <th>1988</th>\n",
       "      <th>1987</th>\n",
       "      <th>1986</th>\n",
       "    </tr>\n",
       "  </thead>\n",
       "  <tbody>\n",
       "    <tr>\n",
       "      <th>Daniel Negreanu</th>\n",
       "      <td>1046977</td>\n",
       "      <td>3122121</td>\n",
       "      <td>0</td>\n",
       "      <td>2223111</td>\n",
       "      <td>4510383</td>\n",
       "      <td>2700645</td>\n",
       "      <td>302452</td>\n",
       "      <td>2482489</td>\n",
       "      <td>10284118</td>\n",
       "      <td>3208630</td>\n",
       "      <td>...</td>\n",
       "      <td>0</td>\n",
       "      <td>0</td>\n",
       "      <td>0</td>\n",
       "      <td>0</td>\n",
       "      <td>0</td>\n",
       "      <td>0</td>\n",
       "      <td>0</td>\n",
       "      <td>0</td>\n",
       "      <td>0</td>\n",
       "      <td>0</td>\n",
       "    </tr>\n",
       "    <tr>\n",
       "      <th>Timothy Adams</th>\n",
       "      <td>2490345</td>\n",
       "      <td>1127500</td>\n",
       "      <td>5854376</td>\n",
       "      <td>8253042</td>\n",
       "      <td>2416870</td>\n",
       "      <td>3686371</td>\n",
       "      <td>1669636</td>\n",
       "      <td>218796</td>\n",
       "      <td>70205</td>\n",
       "      <td>1155362</td>\n",
       "      <td>...</td>\n",
       "      <td>0</td>\n",
       "      <td>0</td>\n",
       "      <td>0</td>\n",
       "      <td>0</td>\n",
       "      <td>0</td>\n",
       "      <td>0</td>\n",
       "      <td>0</td>\n",
       "      <td>0</td>\n",
       "      <td>0</td>\n",
       "      <td>0</td>\n",
       "    </tr>\n",
       "    <tr>\n",
       "      <th>Sam Greenwood</th>\n",
       "      <td>1864511</td>\n",
       "      <td>0</td>\n",
       "      <td>1403908</td>\n",
       "      <td>8373326</td>\n",
       "      <td>5747463</td>\n",
       "      <td>2457584</td>\n",
       "      <td>2029026</td>\n",
       "      <td>2040020</td>\n",
       "      <td>92094</td>\n",
       "      <td>212412</td>\n",
       "      <td>...</td>\n",
       "      <td>0</td>\n",
       "      <td>0</td>\n",
       "      <td>0</td>\n",
       "      <td>0</td>\n",
       "      <td>0</td>\n",
       "      <td>0</td>\n",
       "      <td>0</td>\n",
       "      <td>0</td>\n",
       "      <td>0</td>\n",
       "      <td>0</td>\n",
       "    </tr>\n",
       "    <tr>\n",
       "      <th>Daniel Dvoress</th>\n",
       "      <td>4899998</td>\n",
       "      <td>0</td>\n",
       "      <td>0</td>\n",
       "      <td>8928195</td>\n",
       "      <td>943809</td>\n",
       "      <td>3897847</td>\n",
       "      <td>1188942</td>\n",
       "      <td>737050</td>\n",
       "      <td>180553</td>\n",
       "      <td>28300</td>\n",
       "      <td>...</td>\n",
       "      <td>0</td>\n",
       "      <td>0</td>\n",
       "      <td>0</td>\n",
       "      <td>0</td>\n",
       "      <td>0</td>\n",
       "      <td>0</td>\n",
       "      <td>0</td>\n",
       "      <td>0</td>\n",
       "      <td>0</td>\n",
       "      <td>0</td>\n",
       "    </tr>\n",
       "    <tr>\n",
       "      <th>Mike McDonald</th>\n",
       "      <td>78250</td>\n",
       "      <td>0</td>\n",
       "      <td>0</td>\n",
       "      <td>46504</td>\n",
       "      <td>0</td>\n",
       "      <td>205176</td>\n",
       "      <td>544361</td>\n",
       "      <td>2427532</td>\n",
       "      <td>4423442</td>\n",
       "      <td>1112203</td>\n",
       "      <td>...</td>\n",
       "      <td>0</td>\n",
       "      <td>0</td>\n",
       "      <td>0</td>\n",
       "      <td>0</td>\n",
       "      <td>0</td>\n",
       "      <td>0</td>\n",
       "      <td>0</td>\n",
       "      <td>0</td>\n",
       "      <td>0</td>\n",
       "      <td>0</td>\n",
       "    </tr>\n",
       "    <tr>\n",
       "      <th>...</th>\n",
       "      <td>...</td>\n",
       "      <td>...</td>\n",
       "      <td>...</td>\n",
       "      <td>...</td>\n",
       "      <td>...</td>\n",
       "      <td>...</td>\n",
       "      <td>...</td>\n",
       "      <td>...</td>\n",
       "      <td>...</td>\n",
       "      <td>...</td>\n",
       "      <td>...</td>\n",
       "      <td>...</td>\n",
       "      <td>...</td>\n",
       "      <td>...</td>\n",
       "      <td>...</td>\n",
       "      <td>...</td>\n",
       "      <td>...</td>\n",
       "      <td>...</td>\n",
       "      <td>...</td>\n",
       "      <td>...</td>\n",
       "      <td>...</td>\n",
       "    </tr>\n",
       "    <tr>\n",
       "      <th>Ricardo Teves</th>\n",
       "      <td>0</td>\n",
       "      <td>0</td>\n",
       "      <td>0</td>\n",
       "      <td>134</td>\n",
       "      <td>0</td>\n",
       "      <td>0</td>\n",
       "      <td>0</td>\n",
       "      <td>0</td>\n",
       "      <td>0</td>\n",
       "      <td>0</td>\n",
       "      <td>...</td>\n",
       "      <td>0</td>\n",
       "      <td>0</td>\n",
       "      <td>0</td>\n",
       "      <td>0</td>\n",
       "      <td>0</td>\n",
       "      <td>0</td>\n",
       "      <td>0</td>\n",
       "      <td>0</td>\n",
       "      <td>0</td>\n",
       "      <td>0</td>\n",
       "    </tr>\n",
       "    <tr>\n",
       "      <th>Jushia Jackson</th>\n",
       "      <td>0</td>\n",
       "      <td>0</td>\n",
       "      <td>0</td>\n",
       "      <td>132</td>\n",
       "      <td>0</td>\n",
       "      <td>0</td>\n",
       "      <td>0</td>\n",
       "      <td>0</td>\n",
       "      <td>0</td>\n",
       "      <td>0</td>\n",
       "      <td>...</td>\n",
       "      <td>0</td>\n",
       "      <td>0</td>\n",
       "      <td>0</td>\n",
       "      <td>0</td>\n",
       "      <td>0</td>\n",
       "      <td>0</td>\n",
       "      <td>0</td>\n",
       "      <td>0</td>\n",
       "      <td>0</td>\n",
       "      <td>0</td>\n",
       "    </tr>\n",
       "    <tr>\n",
       "      <th>Graham Richards</th>\n",
       "      <td>0</td>\n",
       "      <td>0</td>\n",
       "      <td>0</td>\n",
       "      <td>103</td>\n",
       "      <td>0</td>\n",
       "      <td>0</td>\n",
       "      <td>0</td>\n",
       "      <td>0</td>\n",
       "      <td>0</td>\n",
       "      <td>0</td>\n",
       "      <td>...</td>\n",
       "      <td>0</td>\n",
       "      <td>0</td>\n",
       "      <td>0</td>\n",
       "      <td>0</td>\n",
       "      <td>0</td>\n",
       "      <td>0</td>\n",
       "      <td>0</td>\n",
       "      <td>0</td>\n",
       "      <td>0</td>\n",
       "      <td>0</td>\n",
       "    </tr>\n",
       "    <tr>\n",
       "      <th>Stephen Goodger</th>\n",
       "      <td>100</td>\n",
       "      <td>0</td>\n",
       "      <td>0</td>\n",
       "      <td>0</td>\n",
       "      <td>0</td>\n",
       "      <td>0</td>\n",
       "      <td>0</td>\n",
       "      <td>0</td>\n",
       "      <td>0</td>\n",
       "      <td>0</td>\n",
       "      <td>...</td>\n",
       "      <td>0</td>\n",
       "      <td>0</td>\n",
       "      <td>0</td>\n",
       "      <td>0</td>\n",
       "      <td>0</td>\n",
       "      <td>0</td>\n",
       "      <td>0</td>\n",
       "      <td>0</td>\n",
       "      <td>0</td>\n",
       "      <td>0</td>\n",
       "    </tr>\n",
       "    <tr>\n",
       "      <th>Karen Paul</th>\n",
       "      <td>0</td>\n",
       "      <td>0</td>\n",
       "      <td>0</td>\n",
       "      <td>0</td>\n",
       "      <td>0</td>\n",
       "      <td>0</td>\n",
       "      <td>0</td>\n",
       "      <td>0</td>\n",
       "      <td>0</td>\n",
       "      <td>0</td>\n",
       "      <td>...</td>\n",
       "      <td>0</td>\n",
       "      <td>0</td>\n",
       "      <td>0</td>\n",
       "      <td>0</td>\n",
       "      <td>0</td>\n",
       "      <td>0</td>\n",
       "      <td>0</td>\n",
       "      <td>0</td>\n",
       "      <td>0</td>\n",
       "      <td>0</td>\n",
       "    </tr>\n",
       "  </tbody>\n",
       "</table>\n",
       "<p>2922 rows × 37 columns</p>\n",
       "</div>"
      ],
      "text/plain": [
       "Total               2022     2021     2020     2019     2018     2017  \\\n",
       "Daniel Negreanu  1046977  3122121        0  2223111  4510383  2700645   \n",
       "Timothy Adams    2490345  1127500  5854376  8253042  2416870  3686371   \n",
       "Sam Greenwood    1864511        0  1403908  8373326  5747463  2457584   \n",
       "Daniel Dvoress   4899998        0        0  8928195   943809  3897847   \n",
       "Mike McDonald      78250        0        0    46504        0   205176   \n",
       "...                  ...      ...      ...      ...      ...      ...   \n",
       "Ricardo Teves          0        0        0      134        0        0   \n",
       "Jushia Jackson         0        0        0      132        0        0   \n",
       "Graham Richards        0        0        0      103        0        0   \n",
       "Stephen Goodger      100        0        0        0        0        0   \n",
       "Karen Paul             0        0        0        0        0        0   \n",
       "\n",
       "Total               2016     2015      2014     2013  ...  1995  1994  1993  \\\n",
       "Daniel Negreanu   302452  2482489  10284118  3208630  ...     0     0     0   \n",
       "Timothy Adams    1669636   218796     70205  1155362  ...     0     0     0   \n",
       "Sam Greenwood    2029026  2040020     92094   212412  ...     0     0     0   \n",
       "Daniel Dvoress   1188942   737050    180553    28300  ...     0     0     0   \n",
       "Mike McDonald     544361  2427532   4423442  1112203  ...     0     0     0   \n",
       "...                  ...      ...       ...      ...  ...   ...   ...   ...   \n",
       "Ricardo Teves          0        0         0        0  ...     0     0     0   \n",
       "Jushia Jackson         0        0         0        0  ...     0     0     0   \n",
       "Graham Richards        0        0         0        0  ...     0     0     0   \n",
       "Stephen Goodger        0        0         0        0  ...     0     0     0   \n",
       "Karen Paul             0        0         0        0  ...     0     0     0   \n",
       "\n",
       "Total            1992  1991  1990  1989  1988  1987  1986  \n",
       "Daniel Negreanu     0     0     0     0     0     0     0  \n",
       "Timothy Adams       0     0     0     0     0     0     0  \n",
       "Sam Greenwood       0     0     0     0     0     0     0  \n",
       "Daniel Dvoress      0     0     0     0     0     0     0  \n",
       "Mike McDonald       0     0     0     0     0     0     0  \n",
       "...               ...   ...   ...   ...   ...   ...   ...  \n",
       "Ricardo Teves       0     0     0     0     0     0     0  \n",
       "Jushia Jackson      0     0     0     0     0     0     0  \n",
       "Graham Richards     0     0     0     0     0     0     0  \n",
       "Stephen Goodger     0     0     0     0     0     0     0  \n",
       "Karen Paul          0     0     0     0     0     0     0  \n",
       "\n",
       "[2922 rows x 37 columns]"
      ]
     },
     "execution_count": 339,
     "metadata": {},
     "output_type": "execute_result"
    }
   ],
   "source": [
    "# df_player_earnings=df_player_earnings.replace('-',0)\n",
    "# df_player_earnings=df_player_earnings.replace(',','', regex=True)\n",
    "# df_player_earnings=df_player_earnings.fillna(value=0)\n",
    "\n",
    "def clean_player_earnings_table(df):\n",
    "    for c in df.columns:\n",
    "        df=df.fillna(value=0) # fill nan\n",
    "        df[c]=df[c].map(str).str.replace('$','').str.strip()  # remove dollar sign\n",
    "        df[c]=df[c].map(str).str.replace(',','').str.strip()  # remove comma\n",
    "        df[c]=df[c].map(str).str.replace('-','0').str.strip()  # remove dash\n",
    "    df=df.apply(pd.to_numeric) # change to numeric datatype\n",
    "    return df\n",
    "\n",
    "df=clean_player_earnings_table(df_player_earnings)\n",
    "df"
   ]
  },
  {
   "cell_type": "markdown",
   "id": "708666a7",
   "metadata": {},
   "source": [
    "# Visualization 1.a\n",
    "\n",
    "Transform dataframes for visualization"
   ]
  },
  {
   "cell_type": "code",
   "execution_count": 340,
   "id": "63bcc92f",
   "metadata": {},
   "outputs": [
    {
     "data": {
      "text/html": [
       "<div>\n",
       "<style scoped>\n",
       "    .dataframe tbody tr th:only-of-type {\n",
       "        vertical-align: middle;\n",
       "    }\n",
       "\n",
       "    .dataframe tbody tr th {\n",
       "        vertical-align: top;\n",
       "    }\n",
       "\n",
       "    .dataframe thead th {\n",
       "        text-align: right;\n",
       "    }\n",
       "</style>\n",
       "<table border=\"1\" class=\"dataframe\">\n",
       "  <thead>\n",
       "    <tr style=\"text-align: right;\">\n",
       "      <th></th>\n",
       "      <th>All Players</th>\n",
       "      <th>Top 100</th>\n",
       "      <th>Top 25</th>\n",
       "      <th>Top 10</th>\n",
       "      <th>Top 3</th>\n",
       "    </tr>\n",
       "    <tr>\n",
       "      <th>Total</th>\n",
       "      <th></th>\n",
       "      <th></th>\n",
       "      <th></th>\n",
       "      <th></th>\n",
       "      <th></th>\n",
       "    </tr>\n",
       "  </thead>\n",
       "  <tbody>\n",
       "    <tr>\n",
       "      <th>1986</th>\n",
       "      <td>75600</td>\n",
       "      <td>0</td>\n",
       "      <td>0</td>\n",
       "      <td>0</td>\n",
       "      <td>0</td>\n",
       "    </tr>\n",
       "    <tr>\n",
       "      <th>1987</th>\n",
       "      <td>0</td>\n",
       "      <td>0</td>\n",
       "      <td>0</td>\n",
       "      <td>0</td>\n",
       "      <td>0</td>\n",
       "    </tr>\n",
       "    <tr>\n",
       "      <th>1988</th>\n",
       "      <td>0</td>\n",
       "      <td>0</td>\n",
       "      <td>0</td>\n",
       "      <td>0</td>\n",
       "      <td>0</td>\n",
       "    </tr>\n",
       "    <tr>\n",
       "      <th>1989</th>\n",
       "      <td>0</td>\n",
       "      <td>0</td>\n",
       "      <td>0</td>\n",
       "      <td>0</td>\n",
       "      <td>0</td>\n",
       "    </tr>\n",
       "    <tr>\n",
       "      <th>1990</th>\n",
       "      <td>0</td>\n",
       "      <td>0</td>\n",
       "      <td>0</td>\n",
       "      <td>0</td>\n",
       "      <td>0</td>\n",
       "    </tr>\n",
       "    <tr>\n",
       "      <th>1991</th>\n",
       "      <td>434</td>\n",
       "      <td>0</td>\n",
       "      <td>0</td>\n",
       "      <td>0</td>\n",
       "      <td>0</td>\n",
       "    </tr>\n",
       "    <tr>\n",
       "      <th>1992</th>\n",
       "      <td>5289</td>\n",
       "      <td>0</td>\n",
       "      <td>0</td>\n",
       "      <td>0</td>\n",
       "      <td>0</td>\n",
       "    </tr>\n",
       "    <tr>\n",
       "      <th>1993</th>\n",
       "      <td>13296</td>\n",
       "      <td>0</td>\n",
       "      <td>0</td>\n",
       "      <td>0</td>\n",
       "      <td>0</td>\n",
       "    </tr>\n",
       "    <tr>\n",
       "      <th>1994</th>\n",
       "      <td>35295</td>\n",
       "      <td>0</td>\n",
       "      <td>0</td>\n",
       "      <td>0</td>\n",
       "      <td>0</td>\n",
       "    </tr>\n",
       "    <tr>\n",
       "      <th>1995</th>\n",
       "      <td>133406</td>\n",
       "      <td>0</td>\n",
       "      <td>0</td>\n",
       "      <td>0</td>\n",
       "      <td>0</td>\n",
       "    </tr>\n",
       "    <tr>\n",
       "      <th>1996</th>\n",
       "      <td>73126</td>\n",
       "      <td>0</td>\n",
       "      <td>0</td>\n",
       "      <td>0</td>\n",
       "      <td>0</td>\n",
       "    </tr>\n",
       "    <tr>\n",
       "      <th>1997</th>\n",
       "      <td>113592</td>\n",
       "      <td>75594</td>\n",
       "      <td>75594</td>\n",
       "      <td>75594</td>\n",
       "      <td>75594</td>\n",
       "    </tr>\n",
       "    <tr>\n",
       "      <th>1998</th>\n",
       "      <td>412342</td>\n",
       "      <td>283453</td>\n",
       "      <td>283453</td>\n",
       "      <td>283453</td>\n",
       "      <td>279066</td>\n",
       "    </tr>\n",
       "    <tr>\n",
       "      <th>1999</th>\n",
       "      <td>423713</td>\n",
       "      <td>376398</td>\n",
       "      <td>374227</td>\n",
       "      <td>374227</td>\n",
       "      <td>359947</td>\n",
       "    </tr>\n",
       "    <tr>\n",
       "      <th>2000</th>\n",
       "      <td>67759</td>\n",
       "      <td>42399</td>\n",
       "      <td>42399</td>\n",
       "      <td>42399</td>\n",
       "      <td>10075</td>\n",
       "    </tr>\n",
       "    <tr>\n",
       "      <th>2001</th>\n",
       "      <td>323350</td>\n",
       "      <td>321810</td>\n",
       "      <td>321810</td>\n",
       "      <td>321810</td>\n",
       "      <td>320937</td>\n",
       "    </tr>\n",
       "    <tr>\n",
       "      <th>2002</th>\n",
       "      <td>555394</td>\n",
       "      <td>539439</td>\n",
       "      <td>533529</td>\n",
       "      <td>533529</td>\n",
       "      <td>530798</td>\n",
       "    </tr>\n",
       "    <tr>\n",
       "      <th>2003</th>\n",
       "      <td>707027</td>\n",
       "      <td>636867</td>\n",
       "      <td>590327</td>\n",
       "      <td>590327</td>\n",
       "      <td>532939</td>\n",
       "    </tr>\n",
       "    <tr>\n",
       "      <th>2004</th>\n",
       "      <td>5138365</td>\n",
       "      <td>4779942</td>\n",
       "      <td>4578795</td>\n",
       "      <td>4578795</td>\n",
       "      <td>4465907</td>\n",
       "    </tr>\n",
       "    <tr>\n",
       "      <th>2005</th>\n",
       "      <td>5196240</td>\n",
       "      <td>3906607</td>\n",
       "      <td>2538359</td>\n",
       "      <td>2359632</td>\n",
       "      <td>532312</td>\n",
       "    </tr>\n",
       "    <tr>\n",
       "      <th>2006</th>\n",
       "      <td>11401825</td>\n",
       "      <td>9601774</td>\n",
       "      <td>7929542</td>\n",
       "      <td>3437663</td>\n",
       "      <td>1939965</td>\n",
       "    </tr>\n",
       "    <tr>\n",
       "      <th>2007</th>\n",
       "      <td>14837551</td>\n",
       "      <td>12247435</td>\n",
       "      <td>10233845</td>\n",
       "      <td>2304258</td>\n",
       "      <td>942117</td>\n",
       "    </tr>\n",
       "    <tr>\n",
       "      <th>2008</th>\n",
       "      <td>18363661</td>\n",
       "      <td>16119261</td>\n",
       "      <td>14683542</td>\n",
       "      <td>5666875</td>\n",
       "      <td>1379300</td>\n",
       "    </tr>\n",
       "    <tr>\n",
       "      <th>2009</th>\n",
       "      <td>9589204</td>\n",
       "      <td>7189453</td>\n",
       "      <td>5152687</td>\n",
       "      <td>3331172</td>\n",
       "      <td>1224895</td>\n",
       "    </tr>\n",
       "    <tr>\n",
       "      <th>2010</th>\n",
       "      <td>14402016</td>\n",
       "      <td>10547806</td>\n",
       "      <td>7561503</td>\n",
       "      <td>4770344</td>\n",
       "      <td>752910</td>\n",
       "    </tr>\n",
       "    <tr>\n",
       "      <th>2011</th>\n",
       "      <td>15221002</td>\n",
       "      <td>11373624</td>\n",
       "      <td>6376863</td>\n",
       "      <td>4367067</td>\n",
       "      <td>1602560</td>\n",
       "    </tr>\n",
       "    <tr>\n",
       "      <th>2012</th>\n",
       "      <td>12903397</td>\n",
       "      <td>9091082</td>\n",
       "      <td>6358937</td>\n",
       "      <td>4334249</td>\n",
       "      <td>2576667</td>\n",
       "    </tr>\n",
       "    <tr>\n",
       "      <th>2013</th>\n",
       "      <td>21768702</td>\n",
       "      <td>16979339</td>\n",
       "      <td>13951064</td>\n",
       "      <td>10484288</td>\n",
       "      <td>4576404</td>\n",
       "    </tr>\n",
       "    <tr>\n",
       "      <th>2014</th>\n",
       "      <td>31541842</td>\n",
       "      <td>26503499</td>\n",
       "      <td>22615340</td>\n",
       "      <td>19018961</td>\n",
       "      <td>10446417</td>\n",
       "    </tr>\n",
       "    <tr>\n",
       "      <th>2015</th>\n",
       "      <td>17978364</td>\n",
       "      <td>13540747</td>\n",
       "      <td>11328030</td>\n",
       "      <td>10513437</td>\n",
       "      <td>4741305</td>\n",
       "    </tr>\n",
       "    <tr>\n",
       "      <th>2016</th>\n",
       "      <td>23420866</td>\n",
       "      <td>17790083</td>\n",
       "      <td>13099970</td>\n",
       "      <td>8715912</td>\n",
       "      <td>4001114</td>\n",
       "    </tr>\n",
       "    <tr>\n",
       "      <th>2017</th>\n",
       "      <td>30177551</td>\n",
       "      <td>22714606</td>\n",
       "      <td>18754790</td>\n",
       "      <td>15595368</td>\n",
       "      <td>8844600</td>\n",
       "    </tr>\n",
       "    <tr>\n",
       "      <th>2018</th>\n",
       "      <td>35058444</td>\n",
       "      <td>26135077</td>\n",
       "      <td>21237506</td>\n",
       "      <td>18774352</td>\n",
       "      <td>12674716</td>\n",
       "    </tr>\n",
       "    <tr>\n",
       "      <th>2019</th>\n",
       "      <td>55659884</td>\n",
       "      <td>45362645</td>\n",
       "      <td>39892078</td>\n",
       "      <td>33509766</td>\n",
       "      <td>18849479</td>\n",
       "    </tr>\n",
       "    <tr>\n",
       "      <th>2020</th>\n",
       "      <td>13037867</td>\n",
       "      <td>10701565</td>\n",
       "      <td>8832119</td>\n",
       "      <td>7506308</td>\n",
       "      <td>7258284</td>\n",
       "    </tr>\n",
       "    <tr>\n",
       "      <th>2021</th>\n",
       "      <td>11017879</td>\n",
       "      <td>7886097</td>\n",
       "      <td>6220937</td>\n",
       "      <td>5332074</td>\n",
       "      <td>4249621</td>\n",
       "    </tr>\n",
       "    <tr>\n",
       "      <th>2022</th>\n",
       "      <td>15477613</td>\n",
       "      <td>12065962</td>\n",
       "      <td>10730638</td>\n",
       "      <td>10439388</td>\n",
       "      <td>5401833</td>\n",
       "    </tr>\n",
       "  </tbody>\n",
       "</table>\n",
       "</div>"
      ],
      "text/plain": [
       "       All Players   Top 100    Top 25    Top 10     Top 3\n",
       "Total                                                     \n",
       "1986         75600         0         0         0         0\n",
       "1987             0         0         0         0         0\n",
       "1988             0         0         0         0         0\n",
       "1989             0         0         0         0         0\n",
       "1990             0         0         0         0         0\n",
       "1991           434         0         0         0         0\n",
       "1992          5289         0         0         0         0\n",
       "1993         13296         0         0         0         0\n",
       "1994         35295         0         0         0         0\n",
       "1995        133406         0         0         0         0\n",
       "1996         73126         0         0         0         0\n",
       "1997        113592     75594     75594     75594     75594\n",
       "1998        412342    283453    283453    283453    279066\n",
       "1999        423713    376398    374227    374227    359947\n",
       "2000         67759     42399     42399     42399     10075\n",
       "2001        323350    321810    321810    321810    320937\n",
       "2002        555394    539439    533529    533529    530798\n",
       "2003        707027    636867    590327    590327    532939\n",
       "2004       5138365   4779942   4578795   4578795   4465907\n",
       "2005       5196240   3906607   2538359   2359632    532312\n",
       "2006      11401825   9601774   7929542   3437663   1939965\n",
       "2007      14837551  12247435  10233845   2304258    942117\n",
       "2008      18363661  16119261  14683542   5666875   1379300\n",
       "2009       9589204   7189453   5152687   3331172   1224895\n",
       "2010      14402016  10547806   7561503   4770344    752910\n",
       "2011      15221002  11373624   6376863   4367067   1602560\n",
       "2012      12903397   9091082   6358937   4334249   2576667\n",
       "2013      21768702  16979339  13951064  10484288   4576404\n",
       "2014      31541842  26503499  22615340  19018961  10446417\n",
       "2015      17978364  13540747  11328030  10513437   4741305\n",
       "2016      23420866  17790083  13099970   8715912   4001114\n",
       "2017      30177551  22714606  18754790  15595368   8844600\n",
       "2018      35058444  26135077  21237506  18774352  12674716\n",
       "2019      55659884  45362645  39892078  33509766  18849479\n",
       "2020      13037867  10701565   8832119   7506308   7258284\n",
       "2021      11017879   7886097   6220937   5332074   4249621\n",
       "2022      15477613  12065962  10730638  10439388   5401833"
      ]
     },
     "execution_count": 340,
     "metadata": {},
     "output_type": "execute_result"
    }
   ],
   "source": [
    "all_players=df.sum(axis=0)\n",
    "top100=df[:100].sum(axis=0)\n",
    "top25=df[:25].sum(axis=0)\n",
    "top10=df[:10].sum(axis=0)\n",
    "top3=df[:3].sum(axis=0)\n",
    "\n",
    "df_plot=pd.DataFrame([all_players,top100,top25,top10,top3])\n",
    "df_plot=df_plot[df_plot.columns[::-1]].T\n",
    "df_plot.columns=['All Players','Top 100','Top 25' ,'Top 10','Top 3']\n",
    "\n",
    "df_plot"
   ]
  },
  {
   "cell_type": "code",
   "execution_count": 229,
   "id": "69dd8729",
   "metadata": {},
   "outputs": [
    {
     "data": {
      "text/plain": [
       "Total\n",
       "1986       75600\n",
       "1987           0\n",
       "1988           0\n",
       "1989           0\n",
       "1990           0\n",
       "1991         434\n",
       "1992        5289\n",
       "1993       13296\n",
       "1994       35295\n",
       "1995      133406\n",
       "1996       73126\n",
       "1997      113592\n",
       "1998      412342\n",
       "1999      423713\n",
       "2000       67759\n",
       "2001      323350\n",
       "2002      555394\n",
       "2003      707027\n",
       "2004     5138365\n",
       "2005     5196240\n",
       "2006    11401825\n",
       "2007    14837551\n",
       "2008    18363661\n",
       "2009     9589204\n",
       "2010    14402016\n",
       "2011    15221002\n",
       "2012    12903397\n",
       "2013    21768702\n",
       "2014    31541842\n",
       "2015    17978364\n",
       "2016    23420866\n",
       "2017    30177551\n",
       "2018    35058444\n",
       "2019    55659884\n",
       "2020    13037867\n",
       "2021    11017879\n",
       "2022    15477613\n",
       "dtype: int64"
      ]
     },
     "execution_count": 229,
     "metadata": {},
     "output_type": "execute_result"
    }
   ],
   "source": [
    "df_all_players"
   ]
  },
  {
   "cell_type": "code",
   "execution_count": 341,
   "id": "c50cf40d",
   "metadata": {},
   "outputs": [
    {
     "data": {
      "application/vnd.plotly.v1+json": {
       "config": {
        "plotlyServerURL": "https://plot.ly"
       },
       "data": [
        {
         "hovertemplate": "variable=All Players<br>Total=%{x}<br>value=%{y}<extra></extra>",
         "legendgroup": "All Players",
         "line": {
          "color": "#636efa",
          "dash": "solid"
         },
         "marker": {
          "symbol": "circle"
         },
         "mode": "lines",
         "name": "All Players",
         "orientation": "v",
         "showlegend": true,
         "type": "scatter",
         "x": [
          "1986",
          "1987",
          "1988",
          "1989",
          "1990",
          "1991",
          "1992",
          "1993",
          "1994",
          "1995",
          "1996",
          "1997",
          "1998",
          "1999",
          "2000",
          "2001",
          "2002",
          "2003",
          "2004",
          "2005",
          "2006",
          "2007",
          "2008",
          "2009",
          "2010",
          "2011",
          "2012",
          "2013",
          "2014",
          "2015",
          "2016",
          "2017",
          "2018",
          "2019",
          "2020",
          "2021",
          "2022"
         ],
         "xaxis": "x",
         "y": [
          75600,
          0,
          0,
          0,
          0,
          434,
          5289,
          13296,
          35295,
          133406,
          73126,
          113592,
          412342,
          423713,
          67759,
          323350,
          555394,
          707027,
          5138365,
          5196240,
          11401825,
          14837551,
          18363661,
          9589204,
          14402016,
          15221002,
          12903397,
          21768702,
          31541842,
          17978364,
          23420866,
          30177551,
          35058444,
          55659884,
          13037867,
          11017879,
          15477613
         ],
         "yaxis": "y"
        },
        {
         "hovertemplate": "variable=Top 100<br>Total=%{x}<br>value=%{y}<extra></extra>",
         "legendgroup": "Top 100",
         "line": {
          "color": "#EF553B",
          "dash": "solid"
         },
         "marker": {
          "symbol": "circle"
         },
         "mode": "lines",
         "name": "Top 100",
         "orientation": "v",
         "showlegend": true,
         "type": "scatter",
         "x": [
          "1986",
          "1987",
          "1988",
          "1989",
          "1990",
          "1991",
          "1992",
          "1993",
          "1994",
          "1995",
          "1996",
          "1997",
          "1998",
          "1999",
          "2000",
          "2001",
          "2002",
          "2003",
          "2004",
          "2005",
          "2006",
          "2007",
          "2008",
          "2009",
          "2010",
          "2011",
          "2012",
          "2013",
          "2014",
          "2015",
          "2016",
          "2017",
          "2018",
          "2019",
          "2020",
          "2021",
          "2022"
         ],
         "xaxis": "x",
         "y": [
          0,
          0,
          0,
          0,
          0,
          0,
          0,
          0,
          0,
          0,
          0,
          75594,
          283453,
          376398,
          42399,
          321810,
          539439,
          636867,
          4779942,
          3906607,
          9601774,
          12247435,
          16119261,
          7189453,
          10547806,
          11373624,
          9091082,
          16979339,
          26503499,
          13540747,
          17790083,
          22714606,
          26135077,
          45362645,
          10701565,
          7886097,
          12065962
         ],
         "yaxis": "y"
        },
        {
         "hovertemplate": "variable=Top 25<br>Total=%{x}<br>value=%{y}<extra></extra>",
         "legendgroup": "Top 25",
         "line": {
          "color": "#00cc96",
          "dash": "solid"
         },
         "marker": {
          "symbol": "circle"
         },
         "mode": "lines",
         "name": "Top 25",
         "orientation": "v",
         "showlegend": true,
         "type": "scatter",
         "x": [
          "1986",
          "1987",
          "1988",
          "1989",
          "1990",
          "1991",
          "1992",
          "1993",
          "1994",
          "1995",
          "1996",
          "1997",
          "1998",
          "1999",
          "2000",
          "2001",
          "2002",
          "2003",
          "2004",
          "2005",
          "2006",
          "2007",
          "2008",
          "2009",
          "2010",
          "2011",
          "2012",
          "2013",
          "2014",
          "2015",
          "2016",
          "2017",
          "2018",
          "2019",
          "2020",
          "2021",
          "2022"
         ],
         "xaxis": "x",
         "y": [
          0,
          0,
          0,
          0,
          0,
          0,
          0,
          0,
          0,
          0,
          0,
          75594,
          283453,
          374227,
          42399,
          321810,
          533529,
          590327,
          4578795,
          2538359,
          7929542,
          10233845,
          14683542,
          5152687,
          7561503,
          6376863,
          6358937,
          13951064,
          22615340,
          11328030,
          13099970,
          18754790,
          21237506,
          39892078,
          8832119,
          6220937,
          10730638
         ],
         "yaxis": "y"
        },
        {
         "hovertemplate": "variable=Top 10<br>Total=%{x}<br>value=%{y}<extra></extra>",
         "legendgroup": "Top 10",
         "line": {
          "color": "#ab63fa",
          "dash": "solid"
         },
         "marker": {
          "symbol": "circle"
         },
         "mode": "lines",
         "name": "Top 10",
         "orientation": "v",
         "showlegend": true,
         "type": "scatter",
         "x": [
          "1986",
          "1987",
          "1988",
          "1989",
          "1990",
          "1991",
          "1992",
          "1993",
          "1994",
          "1995",
          "1996",
          "1997",
          "1998",
          "1999",
          "2000",
          "2001",
          "2002",
          "2003",
          "2004",
          "2005",
          "2006",
          "2007",
          "2008",
          "2009",
          "2010",
          "2011",
          "2012",
          "2013",
          "2014",
          "2015",
          "2016",
          "2017",
          "2018",
          "2019",
          "2020",
          "2021",
          "2022"
         ],
         "xaxis": "x",
         "y": [
          0,
          0,
          0,
          0,
          0,
          0,
          0,
          0,
          0,
          0,
          0,
          75594,
          283453,
          374227,
          42399,
          321810,
          533529,
          590327,
          4578795,
          2359632,
          3437663,
          2304258,
          5666875,
          3331172,
          4770344,
          4367067,
          4334249,
          10484288,
          19018961,
          10513437,
          8715912,
          15595368,
          18774352,
          33509766,
          7506308,
          5332074,
          10439388
         ],
         "yaxis": "y"
        },
        {
         "hovertemplate": "variable=Top 3<br>Total=%{x}<br>value=%{y}<extra></extra>",
         "legendgroup": "Top 3",
         "line": {
          "color": "#FFA15A",
          "dash": "solid"
         },
         "marker": {
          "symbol": "circle"
         },
         "mode": "lines",
         "name": "Top 3",
         "orientation": "v",
         "showlegend": true,
         "type": "scatter",
         "x": [
          "1986",
          "1987",
          "1988",
          "1989",
          "1990",
          "1991",
          "1992",
          "1993",
          "1994",
          "1995",
          "1996",
          "1997",
          "1998",
          "1999",
          "2000",
          "2001",
          "2002",
          "2003",
          "2004",
          "2005",
          "2006",
          "2007",
          "2008",
          "2009",
          "2010",
          "2011",
          "2012",
          "2013",
          "2014",
          "2015",
          "2016",
          "2017",
          "2018",
          "2019",
          "2020",
          "2021",
          "2022"
         ],
         "xaxis": "x",
         "y": [
          0,
          0,
          0,
          0,
          0,
          0,
          0,
          0,
          0,
          0,
          0,
          75594,
          279066,
          359947,
          10075,
          320937,
          530798,
          532939,
          4465907,
          532312,
          1939965,
          942117,
          1379300,
          1224895,
          752910,
          1602560,
          2576667,
          4576404,
          10446417,
          4741305,
          4001114,
          8844600,
          12674716,
          18849479,
          7258284,
          4249621,
          5401833
         ],
         "yaxis": "y"
        }
       ],
       "layout": {
        "annotations": [
         {
          "showarrow": false,
          "text": "Great Recession, 2007-2009",
          "x": 21,
          "xanchor": "left",
          "xref": "x",
          "y": 0.5,
          "yanchor": "middle",
          "yref": "y domain"
         },
         {
          "showarrow": false,
          "text": "Covid-19, 2019-Present",
          "x": 33,
          "xanchor": "left",
          "xref": "x",
          "y": 1,
          "yanchor": "top",
          "yref": "y domain"
         }
        ],
        "legend": {
         "title": {
          "text": "variable"
         },
         "tracegroupgap": 0
        },
        "shapes": [
         {
          "fillcolor": "red",
          "line": {
           "width": 0
          },
          "opacity": 0.3,
          "type": "rect",
          "x0": 21,
          "x1": 23,
          "xref": "x",
          "y0": 0,
          "y1": 1,
          "yref": "y domain"
         },
         {
          "fillcolor": "red",
          "line": {
           "width": 0
          },
          "opacity": 0.3,
          "type": "rect",
          "x0": 33,
          "x1": 36,
          "xref": "x",
          "y0": 0,
          "y1": 1,
          "yref": "y domain"
         }
        ],
        "template": {
         "data": {
          "bar": [
           {
            "error_x": {
             "color": "#2a3f5f"
            },
            "error_y": {
             "color": "#2a3f5f"
            },
            "marker": {
             "line": {
              "color": "#E5ECF6",
              "width": 0.5
             },
             "pattern": {
              "fillmode": "overlay",
              "size": 10,
              "solidity": 0.2
             }
            },
            "type": "bar"
           }
          ],
          "barpolar": [
           {
            "marker": {
             "line": {
              "color": "#E5ECF6",
              "width": 0.5
             },
             "pattern": {
              "fillmode": "overlay",
              "size": 10,
              "solidity": 0.2
             }
            },
            "type": "barpolar"
           }
          ],
          "carpet": [
           {
            "aaxis": {
             "endlinecolor": "#2a3f5f",
             "gridcolor": "white",
             "linecolor": "white",
             "minorgridcolor": "white",
             "startlinecolor": "#2a3f5f"
            },
            "baxis": {
             "endlinecolor": "#2a3f5f",
             "gridcolor": "white",
             "linecolor": "white",
             "minorgridcolor": "white",
             "startlinecolor": "#2a3f5f"
            },
            "type": "carpet"
           }
          ],
          "choropleth": [
           {
            "colorbar": {
             "outlinewidth": 0,
             "ticks": ""
            },
            "type": "choropleth"
           }
          ],
          "contour": [
           {
            "colorbar": {
             "outlinewidth": 0,
             "ticks": ""
            },
            "colorscale": [
             [
              0,
              "#0d0887"
             ],
             [
              0.1111111111111111,
              "#46039f"
             ],
             [
              0.2222222222222222,
              "#7201a8"
             ],
             [
              0.3333333333333333,
              "#9c179e"
             ],
             [
              0.4444444444444444,
              "#bd3786"
             ],
             [
              0.5555555555555556,
              "#d8576b"
             ],
             [
              0.6666666666666666,
              "#ed7953"
             ],
             [
              0.7777777777777778,
              "#fb9f3a"
             ],
             [
              0.8888888888888888,
              "#fdca26"
             ],
             [
              1,
              "#f0f921"
             ]
            ],
            "type": "contour"
           }
          ],
          "contourcarpet": [
           {
            "colorbar": {
             "outlinewidth": 0,
             "ticks": ""
            },
            "type": "contourcarpet"
           }
          ],
          "heatmap": [
           {
            "colorbar": {
             "outlinewidth": 0,
             "ticks": ""
            },
            "colorscale": [
             [
              0,
              "#0d0887"
             ],
             [
              0.1111111111111111,
              "#46039f"
             ],
             [
              0.2222222222222222,
              "#7201a8"
             ],
             [
              0.3333333333333333,
              "#9c179e"
             ],
             [
              0.4444444444444444,
              "#bd3786"
             ],
             [
              0.5555555555555556,
              "#d8576b"
             ],
             [
              0.6666666666666666,
              "#ed7953"
             ],
             [
              0.7777777777777778,
              "#fb9f3a"
             ],
             [
              0.8888888888888888,
              "#fdca26"
             ],
             [
              1,
              "#f0f921"
             ]
            ],
            "type": "heatmap"
           }
          ],
          "heatmapgl": [
           {
            "colorbar": {
             "outlinewidth": 0,
             "ticks": ""
            },
            "colorscale": [
             [
              0,
              "#0d0887"
             ],
             [
              0.1111111111111111,
              "#46039f"
             ],
             [
              0.2222222222222222,
              "#7201a8"
             ],
             [
              0.3333333333333333,
              "#9c179e"
             ],
             [
              0.4444444444444444,
              "#bd3786"
             ],
             [
              0.5555555555555556,
              "#d8576b"
             ],
             [
              0.6666666666666666,
              "#ed7953"
             ],
             [
              0.7777777777777778,
              "#fb9f3a"
             ],
             [
              0.8888888888888888,
              "#fdca26"
             ],
             [
              1,
              "#f0f921"
             ]
            ],
            "type": "heatmapgl"
           }
          ],
          "histogram": [
           {
            "marker": {
             "pattern": {
              "fillmode": "overlay",
              "size": 10,
              "solidity": 0.2
             }
            },
            "type": "histogram"
           }
          ],
          "histogram2d": [
           {
            "colorbar": {
             "outlinewidth": 0,
             "ticks": ""
            },
            "colorscale": [
             [
              0,
              "#0d0887"
             ],
             [
              0.1111111111111111,
              "#46039f"
             ],
             [
              0.2222222222222222,
              "#7201a8"
             ],
             [
              0.3333333333333333,
              "#9c179e"
             ],
             [
              0.4444444444444444,
              "#bd3786"
             ],
             [
              0.5555555555555556,
              "#d8576b"
             ],
             [
              0.6666666666666666,
              "#ed7953"
             ],
             [
              0.7777777777777778,
              "#fb9f3a"
             ],
             [
              0.8888888888888888,
              "#fdca26"
             ],
             [
              1,
              "#f0f921"
             ]
            ],
            "type": "histogram2d"
           }
          ],
          "histogram2dcontour": [
           {
            "colorbar": {
             "outlinewidth": 0,
             "ticks": ""
            },
            "colorscale": [
             [
              0,
              "#0d0887"
             ],
             [
              0.1111111111111111,
              "#46039f"
             ],
             [
              0.2222222222222222,
              "#7201a8"
             ],
             [
              0.3333333333333333,
              "#9c179e"
             ],
             [
              0.4444444444444444,
              "#bd3786"
             ],
             [
              0.5555555555555556,
              "#d8576b"
             ],
             [
              0.6666666666666666,
              "#ed7953"
             ],
             [
              0.7777777777777778,
              "#fb9f3a"
             ],
             [
              0.8888888888888888,
              "#fdca26"
             ],
             [
              1,
              "#f0f921"
             ]
            ],
            "type": "histogram2dcontour"
           }
          ],
          "mesh3d": [
           {
            "colorbar": {
             "outlinewidth": 0,
             "ticks": ""
            },
            "type": "mesh3d"
           }
          ],
          "parcoords": [
           {
            "line": {
             "colorbar": {
              "outlinewidth": 0,
              "ticks": ""
             }
            },
            "type": "parcoords"
           }
          ],
          "pie": [
           {
            "automargin": true,
            "type": "pie"
           }
          ],
          "scatter": [
           {
            "marker": {
             "colorbar": {
              "outlinewidth": 0,
              "ticks": ""
             }
            },
            "type": "scatter"
           }
          ],
          "scatter3d": [
           {
            "line": {
             "colorbar": {
              "outlinewidth": 0,
              "ticks": ""
             }
            },
            "marker": {
             "colorbar": {
              "outlinewidth": 0,
              "ticks": ""
             }
            },
            "type": "scatter3d"
           }
          ],
          "scattercarpet": [
           {
            "marker": {
             "colorbar": {
              "outlinewidth": 0,
              "ticks": ""
             }
            },
            "type": "scattercarpet"
           }
          ],
          "scattergeo": [
           {
            "marker": {
             "colorbar": {
              "outlinewidth": 0,
              "ticks": ""
             }
            },
            "type": "scattergeo"
           }
          ],
          "scattergl": [
           {
            "marker": {
             "colorbar": {
              "outlinewidth": 0,
              "ticks": ""
             }
            },
            "type": "scattergl"
           }
          ],
          "scattermapbox": [
           {
            "marker": {
             "colorbar": {
              "outlinewidth": 0,
              "ticks": ""
             }
            },
            "type": "scattermapbox"
           }
          ],
          "scatterpolar": [
           {
            "marker": {
             "colorbar": {
              "outlinewidth": 0,
              "ticks": ""
             }
            },
            "type": "scatterpolar"
           }
          ],
          "scatterpolargl": [
           {
            "marker": {
             "colorbar": {
              "outlinewidth": 0,
              "ticks": ""
             }
            },
            "type": "scatterpolargl"
           }
          ],
          "scatterternary": [
           {
            "marker": {
             "colorbar": {
              "outlinewidth": 0,
              "ticks": ""
             }
            },
            "type": "scatterternary"
           }
          ],
          "surface": [
           {
            "colorbar": {
             "outlinewidth": 0,
             "ticks": ""
            },
            "colorscale": [
             [
              0,
              "#0d0887"
             ],
             [
              0.1111111111111111,
              "#46039f"
             ],
             [
              0.2222222222222222,
              "#7201a8"
             ],
             [
              0.3333333333333333,
              "#9c179e"
             ],
             [
              0.4444444444444444,
              "#bd3786"
             ],
             [
              0.5555555555555556,
              "#d8576b"
             ],
             [
              0.6666666666666666,
              "#ed7953"
             ],
             [
              0.7777777777777778,
              "#fb9f3a"
             ],
             [
              0.8888888888888888,
              "#fdca26"
             ],
             [
              1,
              "#f0f921"
             ]
            ],
            "type": "surface"
           }
          ],
          "table": [
           {
            "cells": {
             "fill": {
              "color": "#EBF0F8"
             },
             "line": {
              "color": "white"
             }
            },
            "header": {
             "fill": {
              "color": "#C8D4E3"
             },
             "line": {
              "color": "white"
             }
            },
            "type": "table"
           }
          ]
         },
         "layout": {
          "annotationdefaults": {
           "arrowcolor": "#2a3f5f",
           "arrowhead": 0,
           "arrowwidth": 1
          },
          "autotypenumbers": "strict",
          "coloraxis": {
           "colorbar": {
            "outlinewidth": 0,
            "ticks": ""
           }
          },
          "colorscale": {
           "diverging": [
            [
             0,
             "#8e0152"
            ],
            [
             0.1,
             "#c51b7d"
            ],
            [
             0.2,
             "#de77ae"
            ],
            [
             0.3,
             "#f1b6da"
            ],
            [
             0.4,
             "#fde0ef"
            ],
            [
             0.5,
             "#f7f7f7"
            ],
            [
             0.6,
             "#e6f5d0"
            ],
            [
             0.7,
             "#b8e186"
            ],
            [
             0.8,
             "#7fbc41"
            ],
            [
             0.9,
             "#4d9221"
            ],
            [
             1,
             "#276419"
            ]
           ],
           "sequential": [
            [
             0,
             "#0d0887"
            ],
            [
             0.1111111111111111,
             "#46039f"
            ],
            [
             0.2222222222222222,
             "#7201a8"
            ],
            [
             0.3333333333333333,
             "#9c179e"
            ],
            [
             0.4444444444444444,
             "#bd3786"
            ],
            [
             0.5555555555555556,
             "#d8576b"
            ],
            [
             0.6666666666666666,
             "#ed7953"
            ],
            [
             0.7777777777777778,
             "#fb9f3a"
            ],
            [
             0.8888888888888888,
             "#fdca26"
            ],
            [
             1,
             "#f0f921"
            ]
           ],
           "sequentialminus": [
            [
             0,
             "#0d0887"
            ],
            [
             0.1111111111111111,
             "#46039f"
            ],
            [
             0.2222222222222222,
             "#7201a8"
            ],
            [
             0.3333333333333333,
             "#9c179e"
            ],
            [
             0.4444444444444444,
             "#bd3786"
            ],
            [
             0.5555555555555556,
             "#d8576b"
            ],
            [
             0.6666666666666666,
             "#ed7953"
            ],
            [
             0.7777777777777778,
             "#fb9f3a"
            ],
            [
             0.8888888888888888,
             "#fdca26"
            ],
            [
             1,
             "#f0f921"
            ]
           ]
          },
          "colorway": [
           "#636efa",
           "#EF553B",
           "#00cc96",
           "#ab63fa",
           "#FFA15A",
           "#19d3f3",
           "#FF6692",
           "#B6E880",
           "#FF97FF",
           "#FECB52"
          ],
          "font": {
           "color": "#2a3f5f"
          },
          "geo": {
           "bgcolor": "white",
           "lakecolor": "white",
           "landcolor": "#E5ECF6",
           "showlakes": true,
           "showland": true,
           "subunitcolor": "white"
          },
          "hoverlabel": {
           "align": "left"
          },
          "hovermode": "closest",
          "mapbox": {
           "style": "light"
          },
          "paper_bgcolor": "white",
          "plot_bgcolor": "#E5ECF6",
          "polar": {
           "angularaxis": {
            "gridcolor": "white",
            "linecolor": "white",
            "ticks": ""
           },
           "bgcolor": "#E5ECF6",
           "radialaxis": {
            "gridcolor": "white",
            "linecolor": "white",
            "ticks": ""
           }
          },
          "scene": {
           "xaxis": {
            "backgroundcolor": "#E5ECF6",
            "gridcolor": "white",
            "gridwidth": 2,
            "linecolor": "white",
            "showbackground": true,
            "ticks": "",
            "zerolinecolor": "white"
           },
           "yaxis": {
            "backgroundcolor": "#E5ECF6",
            "gridcolor": "white",
            "gridwidth": 2,
            "linecolor": "white",
            "showbackground": true,
            "ticks": "",
            "zerolinecolor": "white"
           },
           "zaxis": {
            "backgroundcolor": "#E5ECF6",
            "gridcolor": "white",
            "gridwidth": 2,
            "linecolor": "white",
            "showbackground": true,
            "ticks": "",
            "zerolinecolor": "white"
           }
          },
          "shapedefaults": {
           "line": {
            "color": "#2a3f5f"
           }
          },
          "ternary": {
           "aaxis": {
            "gridcolor": "white",
            "linecolor": "white",
            "ticks": ""
           },
           "baxis": {
            "gridcolor": "white",
            "linecolor": "white",
            "ticks": ""
           },
           "bgcolor": "#E5ECF6",
           "caxis": {
            "gridcolor": "white",
            "linecolor": "white",
            "ticks": ""
           }
          },
          "title": {
           "x": 0.05
          },
          "xaxis": {
           "automargin": true,
           "gridcolor": "white",
           "linecolor": "white",
           "ticks": "",
           "title": {
            "standoff": 15
           },
           "zerolinecolor": "white",
           "zerolinewidth": 2
          },
          "yaxis": {
           "automargin": true,
           "gridcolor": "white",
           "linecolor": "white",
           "ticks": "",
           "title": {
            "standoff": 15
           },
           "zerolinecolor": "white",
           "zerolinewidth": 2
          }
         }
        },
        "title": {
         "text": "Canadian Poker Players - Annual Earnings"
        },
        "xaxis": {
         "anchor": "y",
         "domain": [
          0,
          1
         ],
         "title": {
          "text": "Year"
         }
        },
        "yaxis": {
         "anchor": "x",
         "domain": [
          0,
          1
         ],
         "title": {
          "text": "Amount Earned"
         }
        }
       }
      },
      "text/html": [
       "<div>                            <div id=\"1185f459-ef5d-4a2c-99a6-21e627580e15\" class=\"plotly-graph-div\" style=\"height:525px; width:100%;\"></div>            <script type=\"text/javascript\">                require([\"plotly\"], function(Plotly) {                    window.PLOTLYENV=window.PLOTLYENV || {};                                    if (document.getElementById(\"1185f459-ef5d-4a2c-99a6-21e627580e15\")) {                    Plotly.newPlot(                        \"1185f459-ef5d-4a2c-99a6-21e627580e15\",                        [{\"hovertemplate\":\"variable=All Players<br>Total=%{x}<br>value=%{y}<extra></extra>\",\"legendgroup\":\"All Players\",\"line\":{\"color\":\"#636efa\",\"dash\":\"solid\"},\"marker\":{\"symbol\":\"circle\"},\"mode\":\"lines\",\"name\":\"All Players\",\"orientation\":\"v\",\"showlegend\":true,\"x\":[\"1986\",\"1987\",\"1988\",\"1989\",\"1990\",\"1991\",\"1992\",\"1993\",\"1994\",\"1995\",\"1996\",\"1997\",\"1998\",\"1999\",\"2000\",\"2001\",\"2002\",\"2003\",\"2004\",\"2005\",\"2006\",\"2007\",\"2008\",\"2009\",\"2010\",\"2011\",\"2012\",\"2013\",\"2014\",\"2015\",\"2016\",\"2017\",\"2018\",\"2019\",\"2020\",\"2021\",\"2022\"],\"xaxis\":\"x\",\"y\":[75600,0,0,0,0,434,5289,13296,35295,133406,73126,113592,412342,423713,67759,323350,555394,707027,5138365,5196240,11401825,14837551,18363661,9589204,14402016,15221002,12903397,21768702,31541842,17978364,23420866,30177551,35058444,55659884,13037867,11017879,15477613],\"yaxis\":\"y\",\"type\":\"scatter\"},{\"hovertemplate\":\"variable=Top 100<br>Total=%{x}<br>value=%{y}<extra></extra>\",\"legendgroup\":\"Top 100\",\"line\":{\"color\":\"#EF553B\",\"dash\":\"solid\"},\"marker\":{\"symbol\":\"circle\"},\"mode\":\"lines\",\"name\":\"Top 100\",\"orientation\":\"v\",\"showlegend\":true,\"x\":[\"1986\",\"1987\",\"1988\",\"1989\",\"1990\",\"1991\",\"1992\",\"1993\",\"1994\",\"1995\",\"1996\",\"1997\",\"1998\",\"1999\",\"2000\",\"2001\",\"2002\",\"2003\",\"2004\",\"2005\",\"2006\",\"2007\",\"2008\",\"2009\",\"2010\",\"2011\",\"2012\",\"2013\",\"2014\",\"2015\",\"2016\",\"2017\",\"2018\",\"2019\",\"2020\",\"2021\",\"2022\"],\"xaxis\":\"x\",\"y\":[0,0,0,0,0,0,0,0,0,0,0,75594,283453,376398,42399,321810,539439,636867,4779942,3906607,9601774,12247435,16119261,7189453,10547806,11373624,9091082,16979339,26503499,13540747,17790083,22714606,26135077,45362645,10701565,7886097,12065962],\"yaxis\":\"y\",\"type\":\"scatter\"},{\"hovertemplate\":\"variable=Top 25<br>Total=%{x}<br>value=%{y}<extra></extra>\",\"legendgroup\":\"Top 25\",\"line\":{\"color\":\"#00cc96\",\"dash\":\"solid\"},\"marker\":{\"symbol\":\"circle\"},\"mode\":\"lines\",\"name\":\"Top 25\",\"orientation\":\"v\",\"showlegend\":true,\"x\":[\"1986\",\"1987\",\"1988\",\"1989\",\"1990\",\"1991\",\"1992\",\"1993\",\"1994\",\"1995\",\"1996\",\"1997\",\"1998\",\"1999\",\"2000\",\"2001\",\"2002\",\"2003\",\"2004\",\"2005\",\"2006\",\"2007\",\"2008\",\"2009\",\"2010\",\"2011\",\"2012\",\"2013\",\"2014\",\"2015\",\"2016\",\"2017\",\"2018\",\"2019\",\"2020\",\"2021\",\"2022\"],\"xaxis\":\"x\",\"y\":[0,0,0,0,0,0,0,0,0,0,0,75594,283453,374227,42399,321810,533529,590327,4578795,2538359,7929542,10233845,14683542,5152687,7561503,6376863,6358937,13951064,22615340,11328030,13099970,18754790,21237506,39892078,8832119,6220937,10730638],\"yaxis\":\"y\",\"type\":\"scatter\"},{\"hovertemplate\":\"variable=Top 10<br>Total=%{x}<br>value=%{y}<extra></extra>\",\"legendgroup\":\"Top 10\",\"line\":{\"color\":\"#ab63fa\",\"dash\":\"solid\"},\"marker\":{\"symbol\":\"circle\"},\"mode\":\"lines\",\"name\":\"Top 10\",\"orientation\":\"v\",\"showlegend\":true,\"x\":[\"1986\",\"1987\",\"1988\",\"1989\",\"1990\",\"1991\",\"1992\",\"1993\",\"1994\",\"1995\",\"1996\",\"1997\",\"1998\",\"1999\",\"2000\",\"2001\",\"2002\",\"2003\",\"2004\",\"2005\",\"2006\",\"2007\",\"2008\",\"2009\",\"2010\",\"2011\",\"2012\",\"2013\",\"2014\",\"2015\",\"2016\",\"2017\",\"2018\",\"2019\",\"2020\",\"2021\",\"2022\"],\"xaxis\":\"x\",\"y\":[0,0,0,0,0,0,0,0,0,0,0,75594,283453,374227,42399,321810,533529,590327,4578795,2359632,3437663,2304258,5666875,3331172,4770344,4367067,4334249,10484288,19018961,10513437,8715912,15595368,18774352,33509766,7506308,5332074,10439388],\"yaxis\":\"y\",\"type\":\"scatter\"},{\"hovertemplate\":\"variable=Top 3<br>Total=%{x}<br>value=%{y}<extra></extra>\",\"legendgroup\":\"Top 3\",\"line\":{\"color\":\"#FFA15A\",\"dash\":\"solid\"},\"marker\":{\"symbol\":\"circle\"},\"mode\":\"lines\",\"name\":\"Top 3\",\"orientation\":\"v\",\"showlegend\":true,\"x\":[\"1986\",\"1987\",\"1988\",\"1989\",\"1990\",\"1991\",\"1992\",\"1993\",\"1994\",\"1995\",\"1996\",\"1997\",\"1998\",\"1999\",\"2000\",\"2001\",\"2002\",\"2003\",\"2004\",\"2005\",\"2006\",\"2007\",\"2008\",\"2009\",\"2010\",\"2011\",\"2012\",\"2013\",\"2014\",\"2015\",\"2016\",\"2017\",\"2018\",\"2019\",\"2020\",\"2021\",\"2022\"],\"xaxis\":\"x\",\"y\":[0,0,0,0,0,0,0,0,0,0,0,75594,279066,359947,10075,320937,530798,532939,4465907,532312,1939965,942117,1379300,1224895,752910,1602560,2576667,4576404,10446417,4741305,4001114,8844600,12674716,18849479,7258284,4249621,5401833],\"yaxis\":\"y\",\"type\":\"scatter\"}],                        {\"template\":{\"data\":{\"bar\":[{\"error_x\":{\"color\":\"#2a3f5f\"},\"error_y\":{\"color\":\"#2a3f5f\"},\"marker\":{\"line\":{\"color\":\"#E5ECF6\",\"width\":0.5},\"pattern\":{\"fillmode\":\"overlay\",\"size\":10,\"solidity\":0.2}},\"type\":\"bar\"}],\"barpolar\":[{\"marker\":{\"line\":{\"color\":\"#E5ECF6\",\"width\":0.5},\"pattern\":{\"fillmode\":\"overlay\",\"size\":10,\"solidity\":0.2}},\"type\":\"barpolar\"}],\"carpet\":[{\"aaxis\":{\"endlinecolor\":\"#2a3f5f\",\"gridcolor\":\"white\",\"linecolor\":\"white\",\"minorgridcolor\":\"white\",\"startlinecolor\":\"#2a3f5f\"},\"baxis\":{\"endlinecolor\":\"#2a3f5f\",\"gridcolor\":\"white\",\"linecolor\":\"white\",\"minorgridcolor\":\"white\",\"startlinecolor\":\"#2a3f5f\"},\"type\":\"carpet\"}],\"choropleth\":[{\"colorbar\":{\"outlinewidth\":0,\"ticks\":\"\"},\"type\":\"choropleth\"}],\"contour\":[{\"colorbar\":{\"outlinewidth\":0,\"ticks\":\"\"},\"colorscale\":[[0.0,\"#0d0887\"],[0.1111111111111111,\"#46039f\"],[0.2222222222222222,\"#7201a8\"],[0.3333333333333333,\"#9c179e\"],[0.4444444444444444,\"#bd3786\"],[0.5555555555555556,\"#d8576b\"],[0.6666666666666666,\"#ed7953\"],[0.7777777777777778,\"#fb9f3a\"],[0.8888888888888888,\"#fdca26\"],[1.0,\"#f0f921\"]],\"type\":\"contour\"}],\"contourcarpet\":[{\"colorbar\":{\"outlinewidth\":0,\"ticks\":\"\"},\"type\":\"contourcarpet\"}],\"heatmap\":[{\"colorbar\":{\"outlinewidth\":0,\"ticks\":\"\"},\"colorscale\":[[0.0,\"#0d0887\"],[0.1111111111111111,\"#46039f\"],[0.2222222222222222,\"#7201a8\"],[0.3333333333333333,\"#9c179e\"],[0.4444444444444444,\"#bd3786\"],[0.5555555555555556,\"#d8576b\"],[0.6666666666666666,\"#ed7953\"],[0.7777777777777778,\"#fb9f3a\"],[0.8888888888888888,\"#fdca26\"],[1.0,\"#f0f921\"]],\"type\":\"heatmap\"}],\"heatmapgl\":[{\"colorbar\":{\"outlinewidth\":0,\"ticks\":\"\"},\"colorscale\":[[0.0,\"#0d0887\"],[0.1111111111111111,\"#46039f\"],[0.2222222222222222,\"#7201a8\"],[0.3333333333333333,\"#9c179e\"],[0.4444444444444444,\"#bd3786\"],[0.5555555555555556,\"#d8576b\"],[0.6666666666666666,\"#ed7953\"],[0.7777777777777778,\"#fb9f3a\"],[0.8888888888888888,\"#fdca26\"],[1.0,\"#f0f921\"]],\"type\":\"heatmapgl\"}],\"histogram\":[{\"marker\":{\"pattern\":{\"fillmode\":\"overlay\",\"size\":10,\"solidity\":0.2}},\"type\":\"histogram\"}],\"histogram2d\":[{\"colorbar\":{\"outlinewidth\":0,\"ticks\":\"\"},\"colorscale\":[[0.0,\"#0d0887\"],[0.1111111111111111,\"#46039f\"],[0.2222222222222222,\"#7201a8\"],[0.3333333333333333,\"#9c179e\"],[0.4444444444444444,\"#bd3786\"],[0.5555555555555556,\"#d8576b\"],[0.6666666666666666,\"#ed7953\"],[0.7777777777777778,\"#fb9f3a\"],[0.8888888888888888,\"#fdca26\"],[1.0,\"#f0f921\"]],\"type\":\"histogram2d\"}],\"histogram2dcontour\":[{\"colorbar\":{\"outlinewidth\":0,\"ticks\":\"\"},\"colorscale\":[[0.0,\"#0d0887\"],[0.1111111111111111,\"#46039f\"],[0.2222222222222222,\"#7201a8\"],[0.3333333333333333,\"#9c179e\"],[0.4444444444444444,\"#bd3786\"],[0.5555555555555556,\"#d8576b\"],[0.6666666666666666,\"#ed7953\"],[0.7777777777777778,\"#fb9f3a\"],[0.8888888888888888,\"#fdca26\"],[1.0,\"#f0f921\"]],\"type\":\"histogram2dcontour\"}],\"mesh3d\":[{\"colorbar\":{\"outlinewidth\":0,\"ticks\":\"\"},\"type\":\"mesh3d\"}],\"parcoords\":[{\"line\":{\"colorbar\":{\"outlinewidth\":0,\"ticks\":\"\"}},\"type\":\"parcoords\"}],\"pie\":[{\"automargin\":true,\"type\":\"pie\"}],\"scatter\":[{\"marker\":{\"colorbar\":{\"outlinewidth\":0,\"ticks\":\"\"}},\"type\":\"scatter\"}],\"scatter3d\":[{\"line\":{\"colorbar\":{\"outlinewidth\":0,\"ticks\":\"\"}},\"marker\":{\"colorbar\":{\"outlinewidth\":0,\"ticks\":\"\"}},\"type\":\"scatter3d\"}],\"scattercarpet\":[{\"marker\":{\"colorbar\":{\"outlinewidth\":0,\"ticks\":\"\"}},\"type\":\"scattercarpet\"}],\"scattergeo\":[{\"marker\":{\"colorbar\":{\"outlinewidth\":0,\"ticks\":\"\"}},\"type\":\"scattergeo\"}],\"scattergl\":[{\"marker\":{\"colorbar\":{\"outlinewidth\":0,\"ticks\":\"\"}},\"type\":\"scattergl\"}],\"scattermapbox\":[{\"marker\":{\"colorbar\":{\"outlinewidth\":0,\"ticks\":\"\"}},\"type\":\"scattermapbox\"}],\"scatterpolar\":[{\"marker\":{\"colorbar\":{\"outlinewidth\":0,\"ticks\":\"\"}},\"type\":\"scatterpolar\"}],\"scatterpolargl\":[{\"marker\":{\"colorbar\":{\"outlinewidth\":0,\"ticks\":\"\"}},\"type\":\"scatterpolargl\"}],\"scatterternary\":[{\"marker\":{\"colorbar\":{\"outlinewidth\":0,\"ticks\":\"\"}},\"type\":\"scatterternary\"}],\"surface\":[{\"colorbar\":{\"outlinewidth\":0,\"ticks\":\"\"},\"colorscale\":[[0.0,\"#0d0887\"],[0.1111111111111111,\"#46039f\"],[0.2222222222222222,\"#7201a8\"],[0.3333333333333333,\"#9c179e\"],[0.4444444444444444,\"#bd3786\"],[0.5555555555555556,\"#d8576b\"],[0.6666666666666666,\"#ed7953\"],[0.7777777777777778,\"#fb9f3a\"],[0.8888888888888888,\"#fdca26\"],[1.0,\"#f0f921\"]],\"type\":\"surface\"}],\"table\":[{\"cells\":{\"fill\":{\"color\":\"#EBF0F8\"},\"line\":{\"color\":\"white\"}},\"header\":{\"fill\":{\"color\":\"#C8D4E3\"},\"line\":{\"color\":\"white\"}},\"type\":\"table\"}]},\"layout\":{\"annotationdefaults\":{\"arrowcolor\":\"#2a3f5f\",\"arrowhead\":0,\"arrowwidth\":1},\"autotypenumbers\":\"strict\",\"coloraxis\":{\"colorbar\":{\"outlinewidth\":0,\"ticks\":\"\"}},\"colorscale\":{\"diverging\":[[0,\"#8e0152\"],[0.1,\"#c51b7d\"],[0.2,\"#de77ae\"],[0.3,\"#f1b6da\"],[0.4,\"#fde0ef\"],[0.5,\"#f7f7f7\"],[0.6,\"#e6f5d0\"],[0.7,\"#b8e186\"],[0.8,\"#7fbc41\"],[0.9,\"#4d9221\"],[1,\"#276419\"]],\"sequential\":[[0.0,\"#0d0887\"],[0.1111111111111111,\"#46039f\"],[0.2222222222222222,\"#7201a8\"],[0.3333333333333333,\"#9c179e\"],[0.4444444444444444,\"#bd3786\"],[0.5555555555555556,\"#d8576b\"],[0.6666666666666666,\"#ed7953\"],[0.7777777777777778,\"#fb9f3a\"],[0.8888888888888888,\"#fdca26\"],[1.0,\"#f0f921\"]],\"sequentialminus\":[[0.0,\"#0d0887\"],[0.1111111111111111,\"#46039f\"],[0.2222222222222222,\"#7201a8\"],[0.3333333333333333,\"#9c179e\"],[0.4444444444444444,\"#bd3786\"],[0.5555555555555556,\"#d8576b\"],[0.6666666666666666,\"#ed7953\"],[0.7777777777777778,\"#fb9f3a\"],[0.8888888888888888,\"#fdca26\"],[1.0,\"#f0f921\"]]},\"colorway\":[\"#636efa\",\"#EF553B\",\"#00cc96\",\"#ab63fa\",\"#FFA15A\",\"#19d3f3\",\"#FF6692\",\"#B6E880\",\"#FF97FF\",\"#FECB52\"],\"font\":{\"color\":\"#2a3f5f\"},\"geo\":{\"bgcolor\":\"white\",\"lakecolor\":\"white\",\"landcolor\":\"#E5ECF6\",\"showlakes\":true,\"showland\":true,\"subunitcolor\":\"white\"},\"hoverlabel\":{\"align\":\"left\"},\"hovermode\":\"closest\",\"mapbox\":{\"style\":\"light\"},\"paper_bgcolor\":\"white\",\"plot_bgcolor\":\"#E5ECF6\",\"polar\":{\"angularaxis\":{\"gridcolor\":\"white\",\"linecolor\":\"white\",\"ticks\":\"\"},\"bgcolor\":\"#E5ECF6\",\"radialaxis\":{\"gridcolor\":\"white\",\"linecolor\":\"white\",\"ticks\":\"\"}},\"scene\":{\"xaxis\":{\"backgroundcolor\":\"#E5ECF6\",\"gridcolor\":\"white\",\"gridwidth\":2,\"linecolor\":\"white\",\"showbackground\":true,\"ticks\":\"\",\"zerolinecolor\":\"white\"},\"yaxis\":{\"backgroundcolor\":\"#E5ECF6\",\"gridcolor\":\"white\",\"gridwidth\":2,\"linecolor\":\"white\",\"showbackground\":true,\"ticks\":\"\",\"zerolinecolor\":\"white\"},\"zaxis\":{\"backgroundcolor\":\"#E5ECF6\",\"gridcolor\":\"white\",\"gridwidth\":2,\"linecolor\":\"white\",\"showbackground\":true,\"ticks\":\"\",\"zerolinecolor\":\"white\"}},\"shapedefaults\":{\"line\":{\"color\":\"#2a3f5f\"}},\"ternary\":{\"aaxis\":{\"gridcolor\":\"white\",\"linecolor\":\"white\",\"ticks\":\"\"},\"baxis\":{\"gridcolor\":\"white\",\"linecolor\":\"white\",\"ticks\":\"\"},\"bgcolor\":\"#E5ECF6\",\"caxis\":{\"gridcolor\":\"white\",\"linecolor\":\"white\",\"ticks\":\"\"}},\"title\":{\"x\":0.05},\"xaxis\":{\"automargin\":true,\"gridcolor\":\"white\",\"linecolor\":\"white\",\"ticks\":\"\",\"title\":{\"standoff\":15},\"zerolinecolor\":\"white\",\"zerolinewidth\":2},\"yaxis\":{\"automargin\":true,\"gridcolor\":\"white\",\"linecolor\":\"white\",\"ticks\":\"\",\"title\":{\"standoff\":15},\"zerolinecolor\":\"white\",\"zerolinewidth\":2}}},\"xaxis\":{\"anchor\":\"y\",\"domain\":[0.0,1.0],\"title\":{\"text\":\"Year\"}},\"yaxis\":{\"anchor\":\"x\",\"domain\":[0.0,1.0],\"title\":{\"text\":\"Amount Earned\"}},\"legend\":{\"title\":{\"text\":\"variable\"},\"tracegroupgap\":0},\"title\":{\"text\":\"Canadian Poker Players - Annual Earnings\"},\"shapes\":[{\"fillcolor\":\"red\",\"line\":{\"width\":0},\"opacity\":0.3,\"type\":\"rect\",\"x0\":21,\"x1\":23,\"xref\":\"x\",\"y0\":0,\"y1\":1,\"yref\":\"y domain\"},{\"fillcolor\":\"red\",\"line\":{\"width\":0},\"opacity\":0.3,\"type\":\"rect\",\"x0\":33,\"x1\":36,\"xref\":\"x\",\"y0\":0,\"y1\":1,\"yref\":\"y domain\"}],\"annotations\":[{\"showarrow\":false,\"text\":\"Great Recession, 2007-2009\",\"x\":21,\"xanchor\":\"left\",\"xref\":\"x\",\"y\":0.5,\"yanchor\":\"middle\",\"yref\":\"y domain\"},{\"showarrow\":false,\"text\":\"Covid-19, 2019-Present\",\"x\":33,\"xanchor\":\"left\",\"xref\":\"x\",\"y\":1,\"yanchor\":\"top\",\"yref\":\"y domain\"}]},                        {\"responsive\": true}                    ).then(function(){\n",
       "                            \n",
       "var gd = document.getElementById('1185f459-ef5d-4a2c-99a6-21e627580e15');\n",
       "var x = new MutationObserver(function (mutations, observer) {{\n",
       "        var display = window.getComputedStyle(gd).display;\n",
       "        if (!display || display === 'none') {{\n",
       "            console.log([gd, 'removed!']);\n",
       "            Plotly.purge(gd);\n",
       "            observer.disconnect();\n",
       "        }}\n",
       "}});\n",
       "\n",
       "// Listen for the removal of the full notebook cells\n",
       "var notebookContainer = gd.closest('#notebook-container');\n",
       "if (notebookContainer) {{\n",
       "    x.observe(notebookContainer, {childList: true});\n",
       "}}\n",
       "\n",
       "// Listen for the clearing of the current output cell\n",
       "var outputEl = gd.closest('.output');\n",
       "if (outputEl) {{\n",
       "    x.observe(outputEl, {childList: true});\n",
       "}}\n",
       "\n",
       "                        })                };                });            </script>        </div>"
      ]
     },
     "metadata": {},
     "output_type": "display_data"
    }
   ],
   "source": [
    "fig = px.line(df_plot,\n",
    "              title='Canadian Poker Players - Annual Earnings',\n",
    "              #log_y=True # log scale\n",
    "             )\n",
    "\n",
    "fig = fig.update_layout(xaxis_title=\"Year\", \n",
    "                        yaxis_title=\"Amount Earned\")\n",
    "\n",
    "# highlight 2008 recession\n",
    "fig.add_vrect(x0=21, x1=23,\n",
    "              annotation_text=\"Great Recession, 2007-2009\", annotation_position=\"left\",\n",
    "              fillcolor=\"red\", opacity=0.3, line_width=0)\n",
    "\n",
    "# highlight covid start\n",
    "fig.add_vrect(x0=33, x1=36,\n",
    "              annotation_text=\"Covid-19, 2019-Present\", annotation_position=\"top left\",\n",
    "              fillcolor=\"red\", opacity=0.3, line_width=0)\n",
    "\n",
    "fig.show()"
   ]
  },
  {
   "cell_type": "code",
   "execution_count": 258,
   "id": "40736f32",
   "metadata": {},
   "outputs": [
    {
     "data": {
      "text/html": [
       "<div>\n",
       "<style scoped>\n",
       "    .dataframe tbody tr th:only-of-type {\n",
       "        vertical-align: middle;\n",
       "    }\n",
       "\n",
       "    .dataframe tbody tr th {\n",
       "        vertical-align: top;\n",
       "    }\n",
       "\n",
       "    .dataframe thead th {\n",
       "        text-align: right;\n",
       "    }\n",
       "</style>\n",
       "<table border=\"1\" class=\"dataframe\">\n",
       "  <thead>\n",
       "    <tr style=\"text-align: right;\">\n",
       "      <th>Total</th>\n",
       "      <th>2022</th>\n",
       "      <th>2021</th>\n",
       "      <th>2020</th>\n",
       "      <th>2019</th>\n",
       "      <th>2018</th>\n",
       "      <th>2017</th>\n",
       "      <th>2016</th>\n",
       "      <th>2015</th>\n",
       "      <th>2014</th>\n",
       "      <th>2013</th>\n",
       "      <th>...</th>\n",
       "      <th>1995</th>\n",
       "      <th>1994</th>\n",
       "      <th>1993</th>\n",
       "      <th>1992</th>\n",
       "      <th>1991</th>\n",
       "      <th>1990</th>\n",
       "      <th>1989</th>\n",
       "      <th>1988</th>\n",
       "      <th>1987</th>\n",
       "      <th>1986</th>\n",
       "    </tr>\n",
       "  </thead>\n",
       "  <tbody>\n",
       "    <tr>\n",
       "      <th>All</th>\n",
       "      <td>15477613</td>\n",
       "      <td>11017879</td>\n",
       "      <td>13037867</td>\n",
       "      <td>55659884</td>\n",
       "      <td>35058444</td>\n",
       "      <td>30177551</td>\n",
       "      <td>23420866</td>\n",
       "      <td>17978364</td>\n",
       "      <td>31541842</td>\n",
       "      <td>21768702</td>\n",
       "      <td>...</td>\n",
       "      <td>133406</td>\n",
       "      <td>35295</td>\n",
       "      <td>13296</td>\n",
       "      <td>5289</td>\n",
       "      <td>434</td>\n",
       "      <td>0</td>\n",
       "      <td>0</td>\n",
       "      <td>0</td>\n",
       "      <td>0</td>\n",
       "      <td>75600</td>\n",
       "    </tr>\n",
       "    <tr>\n",
       "      <th>Top 300</th>\n",
       "      <td>13767800</td>\n",
       "      <td>9729760</td>\n",
       "      <td>11965875</td>\n",
       "      <td>50171530</td>\n",
       "      <td>30740420</td>\n",
       "      <td>26668296</td>\n",
       "      <td>21127445</td>\n",
       "      <td>15913463</td>\n",
       "      <td>29275820</td>\n",
       "      <td>19268842</td>\n",
       "      <td>...</td>\n",
       "      <td>133014</td>\n",
       "      <td>26881</td>\n",
       "      <td>808</td>\n",
       "      <td>3345</td>\n",
       "      <td>0</td>\n",
       "      <td>0</td>\n",
       "      <td>0</td>\n",
       "      <td>0</td>\n",
       "      <td>0</td>\n",
       "      <td>0</td>\n",
       "    </tr>\n",
       "    <tr>\n",
       "      <th>Top 100</th>\n",
       "      <td>12065962</td>\n",
       "      <td>7886097</td>\n",
       "      <td>10701565</td>\n",
       "      <td>45362645</td>\n",
       "      <td>26135077</td>\n",
       "      <td>22714606</td>\n",
       "      <td>17790083</td>\n",
       "      <td>13540747</td>\n",
       "      <td>26503499</td>\n",
       "      <td>16979339</td>\n",
       "      <td>...</td>\n",
       "      <td>0</td>\n",
       "      <td>0</td>\n",
       "      <td>0</td>\n",
       "      <td>0</td>\n",
       "      <td>0</td>\n",
       "      <td>0</td>\n",
       "      <td>0</td>\n",
       "      <td>0</td>\n",
       "      <td>0</td>\n",
       "      <td>0</td>\n",
       "    </tr>\n",
       "    <tr>\n",
       "      <th>Top 10</th>\n",
       "      <td>10439388</td>\n",
       "      <td>5332074</td>\n",
       "      <td>7506308</td>\n",
       "      <td>33509766</td>\n",
       "      <td>18774352</td>\n",
       "      <td>15595368</td>\n",
       "      <td>8715912</td>\n",
       "      <td>10513437</td>\n",
       "      <td>19018961</td>\n",
       "      <td>10484288</td>\n",
       "      <td>...</td>\n",
       "      <td>0</td>\n",
       "      <td>0</td>\n",
       "      <td>0</td>\n",
       "      <td>0</td>\n",
       "      <td>0</td>\n",
       "      <td>0</td>\n",
       "      <td>0</td>\n",
       "      <td>0</td>\n",
       "      <td>0</td>\n",
       "      <td>0</td>\n",
       "    </tr>\n",
       "    <tr>\n",
       "      <th>Top 3</th>\n",
       "      <td>10439388</td>\n",
       "      <td>5332074</td>\n",
       "      <td>7506308</td>\n",
       "      <td>33509766</td>\n",
       "      <td>18774352</td>\n",
       "      <td>15595368</td>\n",
       "      <td>8715912</td>\n",
       "      <td>10513437</td>\n",
       "      <td>19018961</td>\n",
       "      <td>10484288</td>\n",
       "      <td>...</td>\n",
       "      <td>0</td>\n",
       "      <td>0</td>\n",
       "      <td>0</td>\n",
       "      <td>0</td>\n",
       "      <td>0</td>\n",
       "      <td>0</td>\n",
       "      <td>0</td>\n",
       "      <td>0</td>\n",
       "      <td>0</td>\n",
       "      <td>0</td>\n",
       "    </tr>\n",
       "  </tbody>\n",
       "</table>\n",
       "<p>5 rows × 37 columns</p>\n",
       "</div>"
      ],
      "text/plain": [
       "Total        2022      2021      2020      2019      2018      2017      2016  \\\n",
       "All      15477613  11017879  13037867  55659884  35058444  30177551  23420866   \n",
       "Top 300  13767800   9729760  11965875  50171530  30740420  26668296  21127445   \n",
       "Top 100  12065962   7886097  10701565  45362645  26135077  22714606  17790083   \n",
       "Top 10   10439388   5332074   7506308  33509766  18774352  15595368   8715912   \n",
       "Top 3    10439388   5332074   7506308  33509766  18774352  15595368   8715912   \n",
       "\n",
       "Total        2015      2014      2013  ...    1995   1994   1993  1992  1991  \\\n",
       "All      17978364  31541842  21768702  ...  133406  35295  13296  5289   434   \n",
       "Top 300  15913463  29275820  19268842  ...  133014  26881    808  3345     0   \n",
       "Top 100  13540747  26503499  16979339  ...       0      0      0     0     0   \n",
       "Top 10   10513437  19018961  10484288  ...       0      0      0     0     0   \n",
       "Top 3    10513437  19018961  10484288  ...       0      0      0     0     0   \n",
       "\n",
       "Total    1990  1989  1988  1987   1986  \n",
       "All         0     0     0     0  75600  \n",
       "Top 300     0     0     0     0      0  \n",
       "Top 100     0     0     0     0      0  \n",
       "Top 10      0     0     0     0      0  \n",
       "Top 3       0     0     0     0      0  \n",
       "\n",
       "[5 rows x 37 columns]"
      ]
     },
     "execution_count": 258,
     "metadata": {},
     "output_type": "execute_result"
    }
   ],
   "source": [
    "df_plot.T"
   ]
  },
  {
   "cell_type": "markdown",
   "id": "ebea5924",
   "metadata": {},
   "source": [
    "## Observations and Insights - 1.b\n",
    "\n",
    "- During the 2007-09 recession, the earnings of the top 3 and top 10 Canadian players were less impacted than the remaining players. It appears that stronger players were able to continue to generate earnings despite economic trouble.\n",
    "\n",
    "\n",
    "- During 2014-2015, the earnings of all Canadian players had fallen fairly uniformly. More research is to be done as to the potential factors affecting this (Eurozone Crisis? Oil pricing crash? Regulation changes? Reduction of tournaments? etc). It is also possible that 2013 was an exceptional year and that the following year is reversion to the mean. \n",
    "\n",
    "\n",
    "- During the ongoing Covid-19 pandemic, the earnings of players also fell more uniformly. A hypothesis could be that the closure of venues and events lead to the reduction of opportunities for all poker players to have any chance of earnings.\n",
    "\n",
    "\n"
   ]
  },
  {
   "cell_type": "markdown",
   "id": "f98f274d",
   "metadata": {},
   "source": [
    "## Visualization 2.a\n",
    "\n",
    "Transform dataframes for visualization"
   ]
  },
  {
   "cell_type": "code",
   "execution_count": 437,
   "id": "164f0532",
   "metadata": {},
   "outputs": [
    {
     "data": {
      "text/html": [
       "<div>\n",
       "<style scoped>\n",
       "    .dataframe tbody tr th:only-of-type {\n",
       "        vertical-align: middle;\n",
       "    }\n",
       "\n",
       "    .dataframe tbody tr th {\n",
       "        vertical-align: top;\n",
       "    }\n",
       "\n",
       "    .dataframe thead th {\n",
       "        text-align: right;\n",
       "    }\n",
       "</style>\n",
       "<table border=\"1\" class=\"dataframe\">\n",
       "  <thead>\n",
       "    <tr style=\"text-align: right;\">\n",
       "      <th></th>\n",
       "      <th>Daniel Negreanu</th>\n",
       "      <th>Timothy Adams</th>\n",
       "      <th>Sam Greenwood</th>\n",
       "    </tr>\n",
       "    <tr>\n",
       "      <th>Total</th>\n",
       "      <th></th>\n",
       "      <th></th>\n",
       "      <th></th>\n",
       "    </tr>\n",
       "  </thead>\n",
       "  <tbody>\n",
       "    <tr>\n",
       "      <th>2018</th>\n",
       "      <td>4510383</td>\n",
       "      <td>2416870</td>\n",
       "      <td>5747463</td>\n",
       "    </tr>\n",
       "    <tr>\n",
       "      <th>2019</th>\n",
       "      <td>2223111</td>\n",
       "      <td>8253042</td>\n",
       "      <td>8373326</td>\n",
       "    </tr>\n",
       "    <tr>\n",
       "      <th>2020</th>\n",
       "      <td>0</td>\n",
       "      <td>5854376</td>\n",
       "      <td>1403908</td>\n",
       "    </tr>\n",
       "    <tr>\n",
       "      <th>2021</th>\n",
       "      <td>3122121</td>\n",
       "      <td>1127500</td>\n",
       "      <td>0</td>\n",
       "    </tr>\n",
       "    <tr>\n",
       "      <th>2022</th>\n",
       "      <td>1046977</td>\n",
       "      <td>2490345</td>\n",
       "      <td>1864511</td>\n",
       "    </tr>\n",
       "  </tbody>\n",
       "</table>\n",
       "</div>"
      ],
      "text/plain": [
       "       Daniel Negreanu  Timothy Adams  Sam Greenwood\n",
       "Total                                               \n",
       "2018           4510383        2416870        5747463\n",
       "2019           2223111        8253042        8373326\n",
       "2020                 0        5854376        1403908\n",
       "2021           3122121        1127500              0\n",
       "2022           1046977        2490345        1864511"
      ]
     },
     "execution_count": 437,
     "metadata": {},
     "output_type": "execute_result"
    }
   ],
   "source": [
    "'''top3_details=df[:3][df.columns[::-1]].unstack().reset_index()\n",
    "top3_details.columns=['Year','Name','Amount']\n",
    "top3_details['Year']=pd.to_numeric(top3_details['Year'])\n",
    "top3_details'''\n",
    "\n",
    "df_top3=df[:3][df.columns[::-1]].T\n",
    "df_top3.tail()"
   ]
  },
  {
   "cell_type": "code",
   "execution_count": 438,
   "id": "27b11700",
   "metadata": {},
   "outputs": [
    {
     "data": {
      "application/vnd.plotly.v1+json": {
       "config": {
        "plotlyServerURL": "https://plot.ly"
       },
       "data": [
        {
         "hovertemplate": "variable=Daniel Negreanu<br>Total=%{x}<br>value=%{y}<extra></extra>",
         "legendgroup": "Daniel Negreanu",
         "line": {
          "color": "#636efa",
          "dash": "solid"
         },
         "marker": {
          "symbol": "circle"
         },
         "mode": "lines",
         "name": "Daniel Negreanu",
         "orientation": "v",
         "showlegend": true,
         "type": "scatter",
         "x": [
          "1986",
          "1987",
          "1988",
          "1989",
          "1990",
          "1991",
          "1992",
          "1993",
          "1994",
          "1995",
          "1996",
          "1997",
          "1998",
          "1999",
          "2000",
          "2001",
          "2002",
          "2003",
          "2004",
          "2005",
          "2006",
          "2007",
          "2008",
          "2009",
          "2010",
          "2011",
          "2012",
          "2013",
          "2014",
          "2015",
          "2016",
          "2017",
          "2018",
          "2019",
          "2020",
          "2021",
          "2022"
         ],
         "xaxis": "x",
         "y": [
          0,
          0,
          0,
          0,
          0,
          0,
          0,
          0,
          0,
          0,
          0,
          75594,
          279066,
          359947,
          10075,
          320937,
          530798,
          532939,
          4465907,
          532312,
          1939965,
          858979,
          1301853,
          1224895,
          683824,
          1534367,
          1690019,
          3208630,
          10284118,
          2482489,
          302452,
          2700645,
          4510383,
          2223111,
          0,
          3122121,
          1046977
         ],
         "yaxis": "y"
        },
        {
         "hovertemplate": "variable=Timothy Adams<br>Total=%{x}<br>value=%{y}<extra></extra>",
         "legendgroup": "Timothy Adams",
         "line": {
          "color": "#EF553B",
          "dash": "solid"
         },
         "marker": {
          "symbol": "circle"
         },
         "mode": "lines",
         "name": "Timothy Adams",
         "orientation": "v",
         "showlegend": true,
         "type": "scatter",
         "x": [
          "1986",
          "1987",
          "1988",
          "1989",
          "1990",
          "1991",
          "1992",
          "1993",
          "1994",
          "1995",
          "1996",
          "1997",
          "1998",
          "1999",
          "2000",
          "2001",
          "2002",
          "2003",
          "2004",
          "2005",
          "2006",
          "2007",
          "2008",
          "2009",
          "2010",
          "2011",
          "2012",
          "2013",
          "2014",
          "2015",
          "2016",
          "2017",
          "2018",
          "2019",
          "2020",
          "2021",
          "2022"
         ],
         "xaxis": "x",
         "y": [
          0,
          0,
          0,
          0,
          0,
          0,
          0,
          0,
          0,
          0,
          0,
          0,
          0,
          0,
          0,
          0,
          0,
          0,
          0,
          0,
          0,
          83138,
          0,
          0,
          44856,
          54851,
          823298,
          1155362,
          70205,
          218796,
          1669636,
          3686371,
          2416870,
          8253042,
          5854376,
          1127500,
          2490345
         ],
         "yaxis": "y"
        },
        {
         "hovertemplate": "variable=Sam Greenwood<br>Total=%{x}<br>value=%{y}<extra></extra>",
         "legendgroup": "Sam Greenwood",
         "line": {
          "color": "#00cc96",
          "dash": "solid"
         },
         "marker": {
          "symbol": "circle"
         },
         "mode": "lines",
         "name": "Sam Greenwood",
         "orientation": "v",
         "showlegend": true,
         "type": "scatter",
         "x": [
          "1986",
          "1987",
          "1988",
          "1989",
          "1990",
          "1991",
          "1992",
          "1993",
          "1994",
          "1995",
          "1996",
          "1997",
          "1998",
          "1999",
          "2000",
          "2001",
          "2002",
          "2003",
          "2004",
          "2005",
          "2006",
          "2007",
          "2008",
          "2009",
          "2010",
          "2011",
          "2012",
          "2013",
          "2014",
          "2015",
          "2016",
          "2017",
          "2018",
          "2019",
          "2020",
          "2021",
          "2022"
         ],
         "xaxis": "x",
         "y": [
          0,
          0,
          0,
          0,
          0,
          0,
          0,
          0,
          0,
          0,
          0,
          0,
          0,
          0,
          0,
          0,
          0,
          0,
          0,
          0,
          0,
          0,
          77447,
          0,
          24230,
          13342,
          63350,
          212412,
          92094,
          2040020,
          2029026,
          2457584,
          5747463,
          8373326,
          1403908,
          0,
          1864511
         ],
         "yaxis": "y"
        }
       ],
       "layout": {
        "legend": {
         "title": {
          "text": "variable"
         },
         "tracegroupgap": 0
        },
        "template": {
         "data": {
          "bar": [
           {
            "error_x": {
             "color": "#2a3f5f"
            },
            "error_y": {
             "color": "#2a3f5f"
            },
            "marker": {
             "line": {
              "color": "#E5ECF6",
              "width": 0.5
             },
             "pattern": {
              "fillmode": "overlay",
              "size": 10,
              "solidity": 0.2
             }
            },
            "type": "bar"
           }
          ],
          "barpolar": [
           {
            "marker": {
             "line": {
              "color": "#E5ECF6",
              "width": 0.5
             },
             "pattern": {
              "fillmode": "overlay",
              "size": 10,
              "solidity": 0.2
             }
            },
            "type": "barpolar"
           }
          ],
          "carpet": [
           {
            "aaxis": {
             "endlinecolor": "#2a3f5f",
             "gridcolor": "white",
             "linecolor": "white",
             "minorgridcolor": "white",
             "startlinecolor": "#2a3f5f"
            },
            "baxis": {
             "endlinecolor": "#2a3f5f",
             "gridcolor": "white",
             "linecolor": "white",
             "minorgridcolor": "white",
             "startlinecolor": "#2a3f5f"
            },
            "type": "carpet"
           }
          ],
          "choropleth": [
           {
            "colorbar": {
             "outlinewidth": 0,
             "ticks": ""
            },
            "type": "choropleth"
           }
          ],
          "contour": [
           {
            "colorbar": {
             "outlinewidth": 0,
             "ticks": ""
            },
            "colorscale": [
             [
              0,
              "#0d0887"
             ],
             [
              0.1111111111111111,
              "#46039f"
             ],
             [
              0.2222222222222222,
              "#7201a8"
             ],
             [
              0.3333333333333333,
              "#9c179e"
             ],
             [
              0.4444444444444444,
              "#bd3786"
             ],
             [
              0.5555555555555556,
              "#d8576b"
             ],
             [
              0.6666666666666666,
              "#ed7953"
             ],
             [
              0.7777777777777778,
              "#fb9f3a"
             ],
             [
              0.8888888888888888,
              "#fdca26"
             ],
             [
              1,
              "#f0f921"
             ]
            ],
            "type": "contour"
           }
          ],
          "contourcarpet": [
           {
            "colorbar": {
             "outlinewidth": 0,
             "ticks": ""
            },
            "type": "contourcarpet"
           }
          ],
          "heatmap": [
           {
            "colorbar": {
             "outlinewidth": 0,
             "ticks": ""
            },
            "colorscale": [
             [
              0,
              "#0d0887"
             ],
             [
              0.1111111111111111,
              "#46039f"
             ],
             [
              0.2222222222222222,
              "#7201a8"
             ],
             [
              0.3333333333333333,
              "#9c179e"
             ],
             [
              0.4444444444444444,
              "#bd3786"
             ],
             [
              0.5555555555555556,
              "#d8576b"
             ],
             [
              0.6666666666666666,
              "#ed7953"
             ],
             [
              0.7777777777777778,
              "#fb9f3a"
             ],
             [
              0.8888888888888888,
              "#fdca26"
             ],
             [
              1,
              "#f0f921"
             ]
            ],
            "type": "heatmap"
           }
          ],
          "heatmapgl": [
           {
            "colorbar": {
             "outlinewidth": 0,
             "ticks": ""
            },
            "colorscale": [
             [
              0,
              "#0d0887"
             ],
             [
              0.1111111111111111,
              "#46039f"
             ],
             [
              0.2222222222222222,
              "#7201a8"
             ],
             [
              0.3333333333333333,
              "#9c179e"
             ],
             [
              0.4444444444444444,
              "#bd3786"
             ],
             [
              0.5555555555555556,
              "#d8576b"
             ],
             [
              0.6666666666666666,
              "#ed7953"
             ],
             [
              0.7777777777777778,
              "#fb9f3a"
             ],
             [
              0.8888888888888888,
              "#fdca26"
             ],
             [
              1,
              "#f0f921"
             ]
            ],
            "type": "heatmapgl"
           }
          ],
          "histogram": [
           {
            "marker": {
             "pattern": {
              "fillmode": "overlay",
              "size": 10,
              "solidity": 0.2
             }
            },
            "type": "histogram"
           }
          ],
          "histogram2d": [
           {
            "colorbar": {
             "outlinewidth": 0,
             "ticks": ""
            },
            "colorscale": [
             [
              0,
              "#0d0887"
             ],
             [
              0.1111111111111111,
              "#46039f"
             ],
             [
              0.2222222222222222,
              "#7201a8"
             ],
             [
              0.3333333333333333,
              "#9c179e"
             ],
             [
              0.4444444444444444,
              "#bd3786"
             ],
             [
              0.5555555555555556,
              "#d8576b"
             ],
             [
              0.6666666666666666,
              "#ed7953"
             ],
             [
              0.7777777777777778,
              "#fb9f3a"
             ],
             [
              0.8888888888888888,
              "#fdca26"
             ],
             [
              1,
              "#f0f921"
             ]
            ],
            "type": "histogram2d"
           }
          ],
          "histogram2dcontour": [
           {
            "colorbar": {
             "outlinewidth": 0,
             "ticks": ""
            },
            "colorscale": [
             [
              0,
              "#0d0887"
             ],
             [
              0.1111111111111111,
              "#46039f"
             ],
             [
              0.2222222222222222,
              "#7201a8"
             ],
             [
              0.3333333333333333,
              "#9c179e"
             ],
             [
              0.4444444444444444,
              "#bd3786"
             ],
             [
              0.5555555555555556,
              "#d8576b"
             ],
             [
              0.6666666666666666,
              "#ed7953"
             ],
             [
              0.7777777777777778,
              "#fb9f3a"
             ],
             [
              0.8888888888888888,
              "#fdca26"
             ],
             [
              1,
              "#f0f921"
             ]
            ],
            "type": "histogram2dcontour"
           }
          ],
          "mesh3d": [
           {
            "colorbar": {
             "outlinewidth": 0,
             "ticks": ""
            },
            "type": "mesh3d"
           }
          ],
          "parcoords": [
           {
            "line": {
             "colorbar": {
              "outlinewidth": 0,
              "ticks": ""
             }
            },
            "type": "parcoords"
           }
          ],
          "pie": [
           {
            "automargin": true,
            "type": "pie"
           }
          ],
          "scatter": [
           {
            "marker": {
             "colorbar": {
              "outlinewidth": 0,
              "ticks": ""
             }
            },
            "type": "scatter"
           }
          ],
          "scatter3d": [
           {
            "line": {
             "colorbar": {
              "outlinewidth": 0,
              "ticks": ""
             }
            },
            "marker": {
             "colorbar": {
              "outlinewidth": 0,
              "ticks": ""
             }
            },
            "type": "scatter3d"
           }
          ],
          "scattercarpet": [
           {
            "marker": {
             "colorbar": {
              "outlinewidth": 0,
              "ticks": ""
             }
            },
            "type": "scattercarpet"
           }
          ],
          "scattergeo": [
           {
            "marker": {
             "colorbar": {
              "outlinewidth": 0,
              "ticks": ""
             }
            },
            "type": "scattergeo"
           }
          ],
          "scattergl": [
           {
            "marker": {
             "colorbar": {
              "outlinewidth": 0,
              "ticks": ""
             }
            },
            "type": "scattergl"
           }
          ],
          "scattermapbox": [
           {
            "marker": {
             "colorbar": {
              "outlinewidth": 0,
              "ticks": ""
             }
            },
            "type": "scattermapbox"
           }
          ],
          "scatterpolar": [
           {
            "marker": {
             "colorbar": {
              "outlinewidth": 0,
              "ticks": ""
             }
            },
            "type": "scatterpolar"
           }
          ],
          "scatterpolargl": [
           {
            "marker": {
             "colorbar": {
              "outlinewidth": 0,
              "ticks": ""
             }
            },
            "type": "scatterpolargl"
           }
          ],
          "scatterternary": [
           {
            "marker": {
             "colorbar": {
              "outlinewidth": 0,
              "ticks": ""
             }
            },
            "type": "scatterternary"
           }
          ],
          "surface": [
           {
            "colorbar": {
             "outlinewidth": 0,
             "ticks": ""
            },
            "colorscale": [
             [
              0,
              "#0d0887"
             ],
             [
              0.1111111111111111,
              "#46039f"
             ],
             [
              0.2222222222222222,
              "#7201a8"
             ],
             [
              0.3333333333333333,
              "#9c179e"
             ],
             [
              0.4444444444444444,
              "#bd3786"
             ],
             [
              0.5555555555555556,
              "#d8576b"
             ],
             [
              0.6666666666666666,
              "#ed7953"
             ],
             [
              0.7777777777777778,
              "#fb9f3a"
             ],
             [
              0.8888888888888888,
              "#fdca26"
             ],
             [
              1,
              "#f0f921"
             ]
            ],
            "type": "surface"
           }
          ],
          "table": [
           {
            "cells": {
             "fill": {
              "color": "#EBF0F8"
             },
             "line": {
              "color": "white"
             }
            },
            "header": {
             "fill": {
              "color": "#C8D4E3"
             },
             "line": {
              "color": "white"
             }
            },
            "type": "table"
           }
          ]
         },
         "layout": {
          "annotationdefaults": {
           "arrowcolor": "#2a3f5f",
           "arrowhead": 0,
           "arrowwidth": 1
          },
          "autotypenumbers": "strict",
          "coloraxis": {
           "colorbar": {
            "outlinewidth": 0,
            "ticks": ""
           }
          },
          "colorscale": {
           "diverging": [
            [
             0,
             "#8e0152"
            ],
            [
             0.1,
             "#c51b7d"
            ],
            [
             0.2,
             "#de77ae"
            ],
            [
             0.3,
             "#f1b6da"
            ],
            [
             0.4,
             "#fde0ef"
            ],
            [
             0.5,
             "#f7f7f7"
            ],
            [
             0.6,
             "#e6f5d0"
            ],
            [
             0.7,
             "#b8e186"
            ],
            [
             0.8,
             "#7fbc41"
            ],
            [
             0.9,
             "#4d9221"
            ],
            [
             1,
             "#276419"
            ]
           ],
           "sequential": [
            [
             0,
             "#0d0887"
            ],
            [
             0.1111111111111111,
             "#46039f"
            ],
            [
             0.2222222222222222,
             "#7201a8"
            ],
            [
             0.3333333333333333,
             "#9c179e"
            ],
            [
             0.4444444444444444,
             "#bd3786"
            ],
            [
             0.5555555555555556,
             "#d8576b"
            ],
            [
             0.6666666666666666,
             "#ed7953"
            ],
            [
             0.7777777777777778,
             "#fb9f3a"
            ],
            [
             0.8888888888888888,
             "#fdca26"
            ],
            [
             1,
             "#f0f921"
            ]
           ],
           "sequentialminus": [
            [
             0,
             "#0d0887"
            ],
            [
             0.1111111111111111,
             "#46039f"
            ],
            [
             0.2222222222222222,
             "#7201a8"
            ],
            [
             0.3333333333333333,
             "#9c179e"
            ],
            [
             0.4444444444444444,
             "#bd3786"
            ],
            [
             0.5555555555555556,
             "#d8576b"
            ],
            [
             0.6666666666666666,
             "#ed7953"
            ],
            [
             0.7777777777777778,
             "#fb9f3a"
            ],
            [
             0.8888888888888888,
             "#fdca26"
            ],
            [
             1,
             "#f0f921"
            ]
           ]
          },
          "colorway": [
           "#636efa",
           "#EF553B",
           "#00cc96",
           "#ab63fa",
           "#FFA15A",
           "#19d3f3",
           "#FF6692",
           "#B6E880",
           "#FF97FF",
           "#FECB52"
          ],
          "font": {
           "color": "#2a3f5f"
          },
          "geo": {
           "bgcolor": "white",
           "lakecolor": "white",
           "landcolor": "#E5ECF6",
           "showlakes": true,
           "showland": true,
           "subunitcolor": "white"
          },
          "hoverlabel": {
           "align": "left"
          },
          "hovermode": "closest",
          "mapbox": {
           "style": "light"
          },
          "paper_bgcolor": "white",
          "plot_bgcolor": "#E5ECF6",
          "polar": {
           "angularaxis": {
            "gridcolor": "white",
            "linecolor": "white",
            "ticks": ""
           },
           "bgcolor": "#E5ECF6",
           "radialaxis": {
            "gridcolor": "white",
            "linecolor": "white",
            "ticks": ""
           }
          },
          "scene": {
           "xaxis": {
            "backgroundcolor": "#E5ECF6",
            "gridcolor": "white",
            "gridwidth": 2,
            "linecolor": "white",
            "showbackground": true,
            "ticks": "",
            "zerolinecolor": "white"
           },
           "yaxis": {
            "backgroundcolor": "#E5ECF6",
            "gridcolor": "white",
            "gridwidth": 2,
            "linecolor": "white",
            "showbackground": true,
            "ticks": "",
            "zerolinecolor": "white"
           },
           "zaxis": {
            "backgroundcolor": "#E5ECF6",
            "gridcolor": "white",
            "gridwidth": 2,
            "linecolor": "white",
            "showbackground": true,
            "ticks": "",
            "zerolinecolor": "white"
           }
          },
          "shapedefaults": {
           "line": {
            "color": "#2a3f5f"
           }
          },
          "ternary": {
           "aaxis": {
            "gridcolor": "white",
            "linecolor": "white",
            "ticks": ""
           },
           "baxis": {
            "gridcolor": "white",
            "linecolor": "white",
            "ticks": ""
           },
           "bgcolor": "#E5ECF6",
           "caxis": {
            "gridcolor": "white",
            "linecolor": "white",
            "ticks": ""
           }
          },
          "title": {
           "x": 0.05
          },
          "xaxis": {
           "automargin": true,
           "gridcolor": "white",
           "linecolor": "white",
           "ticks": "",
           "title": {
            "standoff": 15
           },
           "zerolinecolor": "white",
           "zerolinewidth": 2
          },
          "yaxis": {
           "automargin": true,
           "gridcolor": "white",
           "linecolor": "white",
           "ticks": "",
           "title": {
            "standoff": 15
           },
           "zerolinecolor": "white",
           "zerolinewidth": 2
          }
         }
        },
        "title": {
         "text": "Top 3 Canadian Poker Players - Annual Earnings"
        },
        "xaxis": {
         "anchor": "y",
         "domain": [
          0,
          1
         ],
         "title": {
          "text": "Year"
         }
        },
        "yaxis": {
         "anchor": "x",
         "domain": [
          0,
          1
         ],
         "title": {
          "text": "Amount Earned"
         }
        }
       }
      },
      "text/html": [
       "<div>                            <div id=\"07763f2c-b600-408d-85a1-c0465d11a381\" class=\"plotly-graph-div\" style=\"height:525px; width:100%;\"></div>            <script type=\"text/javascript\">                require([\"plotly\"], function(Plotly) {                    window.PLOTLYENV=window.PLOTLYENV || {};                                    if (document.getElementById(\"07763f2c-b600-408d-85a1-c0465d11a381\")) {                    Plotly.newPlot(                        \"07763f2c-b600-408d-85a1-c0465d11a381\",                        [{\"hovertemplate\":\"variable=Daniel Negreanu<br>Total=%{x}<br>value=%{y}<extra></extra>\",\"legendgroup\":\"Daniel Negreanu\",\"line\":{\"color\":\"#636efa\",\"dash\":\"solid\"},\"marker\":{\"symbol\":\"circle\"},\"mode\":\"lines\",\"name\":\"Daniel Negreanu\",\"orientation\":\"v\",\"showlegend\":true,\"x\":[\"1986\",\"1987\",\"1988\",\"1989\",\"1990\",\"1991\",\"1992\",\"1993\",\"1994\",\"1995\",\"1996\",\"1997\",\"1998\",\"1999\",\"2000\",\"2001\",\"2002\",\"2003\",\"2004\",\"2005\",\"2006\",\"2007\",\"2008\",\"2009\",\"2010\",\"2011\",\"2012\",\"2013\",\"2014\",\"2015\",\"2016\",\"2017\",\"2018\",\"2019\",\"2020\",\"2021\",\"2022\"],\"xaxis\":\"x\",\"y\":[0,0,0,0,0,0,0,0,0,0,0,75594,279066,359947,10075,320937,530798,532939,4465907,532312,1939965,858979,1301853,1224895,683824,1534367,1690019,3208630,10284118,2482489,302452,2700645,4510383,2223111,0,3122121,1046977],\"yaxis\":\"y\",\"type\":\"scatter\"},{\"hovertemplate\":\"variable=Timothy Adams<br>Total=%{x}<br>value=%{y}<extra></extra>\",\"legendgroup\":\"Timothy Adams\",\"line\":{\"color\":\"#EF553B\",\"dash\":\"solid\"},\"marker\":{\"symbol\":\"circle\"},\"mode\":\"lines\",\"name\":\"Timothy Adams\",\"orientation\":\"v\",\"showlegend\":true,\"x\":[\"1986\",\"1987\",\"1988\",\"1989\",\"1990\",\"1991\",\"1992\",\"1993\",\"1994\",\"1995\",\"1996\",\"1997\",\"1998\",\"1999\",\"2000\",\"2001\",\"2002\",\"2003\",\"2004\",\"2005\",\"2006\",\"2007\",\"2008\",\"2009\",\"2010\",\"2011\",\"2012\",\"2013\",\"2014\",\"2015\",\"2016\",\"2017\",\"2018\",\"2019\",\"2020\",\"2021\",\"2022\"],\"xaxis\":\"x\",\"y\":[0,0,0,0,0,0,0,0,0,0,0,0,0,0,0,0,0,0,0,0,0,83138,0,0,44856,54851,823298,1155362,70205,218796,1669636,3686371,2416870,8253042,5854376,1127500,2490345],\"yaxis\":\"y\",\"type\":\"scatter\"},{\"hovertemplate\":\"variable=Sam Greenwood<br>Total=%{x}<br>value=%{y}<extra></extra>\",\"legendgroup\":\"Sam Greenwood\",\"line\":{\"color\":\"#00cc96\",\"dash\":\"solid\"},\"marker\":{\"symbol\":\"circle\"},\"mode\":\"lines\",\"name\":\"Sam Greenwood\",\"orientation\":\"v\",\"showlegend\":true,\"x\":[\"1986\",\"1987\",\"1988\",\"1989\",\"1990\",\"1991\",\"1992\",\"1993\",\"1994\",\"1995\",\"1996\",\"1997\",\"1998\",\"1999\",\"2000\",\"2001\",\"2002\",\"2003\",\"2004\",\"2005\",\"2006\",\"2007\",\"2008\",\"2009\",\"2010\",\"2011\",\"2012\",\"2013\",\"2014\",\"2015\",\"2016\",\"2017\",\"2018\",\"2019\",\"2020\",\"2021\",\"2022\"],\"xaxis\":\"x\",\"y\":[0,0,0,0,0,0,0,0,0,0,0,0,0,0,0,0,0,0,0,0,0,0,77447,0,24230,13342,63350,212412,92094,2040020,2029026,2457584,5747463,8373326,1403908,0,1864511],\"yaxis\":\"y\",\"type\":\"scatter\"}],                        {\"template\":{\"data\":{\"bar\":[{\"error_x\":{\"color\":\"#2a3f5f\"},\"error_y\":{\"color\":\"#2a3f5f\"},\"marker\":{\"line\":{\"color\":\"#E5ECF6\",\"width\":0.5},\"pattern\":{\"fillmode\":\"overlay\",\"size\":10,\"solidity\":0.2}},\"type\":\"bar\"}],\"barpolar\":[{\"marker\":{\"line\":{\"color\":\"#E5ECF6\",\"width\":0.5},\"pattern\":{\"fillmode\":\"overlay\",\"size\":10,\"solidity\":0.2}},\"type\":\"barpolar\"}],\"carpet\":[{\"aaxis\":{\"endlinecolor\":\"#2a3f5f\",\"gridcolor\":\"white\",\"linecolor\":\"white\",\"minorgridcolor\":\"white\",\"startlinecolor\":\"#2a3f5f\"},\"baxis\":{\"endlinecolor\":\"#2a3f5f\",\"gridcolor\":\"white\",\"linecolor\":\"white\",\"minorgridcolor\":\"white\",\"startlinecolor\":\"#2a3f5f\"},\"type\":\"carpet\"}],\"choropleth\":[{\"colorbar\":{\"outlinewidth\":0,\"ticks\":\"\"},\"type\":\"choropleth\"}],\"contour\":[{\"colorbar\":{\"outlinewidth\":0,\"ticks\":\"\"},\"colorscale\":[[0.0,\"#0d0887\"],[0.1111111111111111,\"#46039f\"],[0.2222222222222222,\"#7201a8\"],[0.3333333333333333,\"#9c179e\"],[0.4444444444444444,\"#bd3786\"],[0.5555555555555556,\"#d8576b\"],[0.6666666666666666,\"#ed7953\"],[0.7777777777777778,\"#fb9f3a\"],[0.8888888888888888,\"#fdca26\"],[1.0,\"#f0f921\"]],\"type\":\"contour\"}],\"contourcarpet\":[{\"colorbar\":{\"outlinewidth\":0,\"ticks\":\"\"},\"type\":\"contourcarpet\"}],\"heatmap\":[{\"colorbar\":{\"outlinewidth\":0,\"ticks\":\"\"},\"colorscale\":[[0.0,\"#0d0887\"],[0.1111111111111111,\"#46039f\"],[0.2222222222222222,\"#7201a8\"],[0.3333333333333333,\"#9c179e\"],[0.4444444444444444,\"#bd3786\"],[0.5555555555555556,\"#d8576b\"],[0.6666666666666666,\"#ed7953\"],[0.7777777777777778,\"#fb9f3a\"],[0.8888888888888888,\"#fdca26\"],[1.0,\"#f0f921\"]],\"type\":\"heatmap\"}],\"heatmapgl\":[{\"colorbar\":{\"outlinewidth\":0,\"ticks\":\"\"},\"colorscale\":[[0.0,\"#0d0887\"],[0.1111111111111111,\"#46039f\"],[0.2222222222222222,\"#7201a8\"],[0.3333333333333333,\"#9c179e\"],[0.4444444444444444,\"#bd3786\"],[0.5555555555555556,\"#d8576b\"],[0.6666666666666666,\"#ed7953\"],[0.7777777777777778,\"#fb9f3a\"],[0.8888888888888888,\"#fdca26\"],[1.0,\"#f0f921\"]],\"type\":\"heatmapgl\"}],\"histogram\":[{\"marker\":{\"pattern\":{\"fillmode\":\"overlay\",\"size\":10,\"solidity\":0.2}},\"type\":\"histogram\"}],\"histogram2d\":[{\"colorbar\":{\"outlinewidth\":0,\"ticks\":\"\"},\"colorscale\":[[0.0,\"#0d0887\"],[0.1111111111111111,\"#46039f\"],[0.2222222222222222,\"#7201a8\"],[0.3333333333333333,\"#9c179e\"],[0.4444444444444444,\"#bd3786\"],[0.5555555555555556,\"#d8576b\"],[0.6666666666666666,\"#ed7953\"],[0.7777777777777778,\"#fb9f3a\"],[0.8888888888888888,\"#fdca26\"],[1.0,\"#f0f921\"]],\"type\":\"histogram2d\"}],\"histogram2dcontour\":[{\"colorbar\":{\"outlinewidth\":0,\"ticks\":\"\"},\"colorscale\":[[0.0,\"#0d0887\"],[0.1111111111111111,\"#46039f\"],[0.2222222222222222,\"#7201a8\"],[0.3333333333333333,\"#9c179e\"],[0.4444444444444444,\"#bd3786\"],[0.5555555555555556,\"#d8576b\"],[0.6666666666666666,\"#ed7953\"],[0.7777777777777778,\"#fb9f3a\"],[0.8888888888888888,\"#fdca26\"],[1.0,\"#f0f921\"]],\"type\":\"histogram2dcontour\"}],\"mesh3d\":[{\"colorbar\":{\"outlinewidth\":0,\"ticks\":\"\"},\"type\":\"mesh3d\"}],\"parcoords\":[{\"line\":{\"colorbar\":{\"outlinewidth\":0,\"ticks\":\"\"}},\"type\":\"parcoords\"}],\"pie\":[{\"automargin\":true,\"type\":\"pie\"}],\"scatter\":[{\"marker\":{\"colorbar\":{\"outlinewidth\":0,\"ticks\":\"\"}},\"type\":\"scatter\"}],\"scatter3d\":[{\"line\":{\"colorbar\":{\"outlinewidth\":0,\"ticks\":\"\"}},\"marker\":{\"colorbar\":{\"outlinewidth\":0,\"ticks\":\"\"}},\"type\":\"scatter3d\"}],\"scattercarpet\":[{\"marker\":{\"colorbar\":{\"outlinewidth\":0,\"ticks\":\"\"}},\"type\":\"scattercarpet\"}],\"scattergeo\":[{\"marker\":{\"colorbar\":{\"outlinewidth\":0,\"ticks\":\"\"}},\"type\":\"scattergeo\"}],\"scattergl\":[{\"marker\":{\"colorbar\":{\"outlinewidth\":0,\"ticks\":\"\"}},\"type\":\"scattergl\"}],\"scattermapbox\":[{\"marker\":{\"colorbar\":{\"outlinewidth\":0,\"ticks\":\"\"}},\"type\":\"scattermapbox\"}],\"scatterpolar\":[{\"marker\":{\"colorbar\":{\"outlinewidth\":0,\"ticks\":\"\"}},\"type\":\"scatterpolar\"}],\"scatterpolargl\":[{\"marker\":{\"colorbar\":{\"outlinewidth\":0,\"ticks\":\"\"}},\"type\":\"scatterpolargl\"}],\"scatterternary\":[{\"marker\":{\"colorbar\":{\"outlinewidth\":0,\"ticks\":\"\"}},\"type\":\"scatterternary\"}],\"surface\":[{\"colorbar\":{\"outlinewidth\":0,\"ticks\":\"\"},\"colorscale\":[[0.0,\"#0d0887\"],[0.1111111111111111,\"#46039f\"],[0.2222222222222222,\"#7201a8\"],[0.3333333333333333,\"#9c179e\"],[0.4444444444444444,\"#bd3786\"],[0.5555555555555556,\"#d8576b\"],[0.6666666666666666,\"#ed7953\"],[0.7777777777777778,\"#fb9f3a\"],[0.8888888888888888,\"#fdca26\"],[1.0,\"#f0f921\"]],\"type\":\"surface\"}],\"table\":[{\"cells\":{\"fill\":{\"color\":\"#EBF0F8\"},\"line\":{\"color\":\"white\"}},\"header\":{\"fill\":{\"color\":\"#C8D4E3\"},\"line\":{\"color\":\"white\"}},\"type\":\"table\"}]},\"layout\":{\"annotationdefaults\":{\"arrowcolor\":\"#2a3f5f\",\"arrowhead\":0,\"arrowwidth\":1},\"autotypenumbers\":\"strict\",\"coloraxis\":{\"colorbar\":{\"outlinewidth\":0,\"ticks\":\"\"}},\"colorscale\":{\"diverging\":[[0,\"#8e0152\"],[0.1,\"#c51b7d\"],[0.2,\"#de77ae\"],[0.3,\"#f1b6da\"],[0.4,\"#fde0ef\"],[0.5,\"#f7f7f7\"],[0.6,\"#e6f5d0\"],[0.7,\"#b8e186\"],[0.8,\"#7fbc41\"],[0.9,\"#4d9221\"],[1,\"#276419\"]],\"sequential\":[[0.0,\"#0d0887\"],[0.1111111111111111,\"#46039f\"],[0.2222222222222222,\"#7201a8\"],[0.3333333333333333,\"#9c179e\"],[0.4444444444444444,\"#bd3786\"],[0.5555555555555556,\"#d8576b\"],[0.6666666666666666,\"#ed7953\"],[0.7777777777777778,\"#fb9f3a\"],[0.8888888888888888,\"#fdca26\"],[1.0,\"#f0f921\"]],\"sequentialminus\":[[0.0,\"#0d0887\"],[0.1111111111111111,\"#46039f\"],[0.2222222222222222,\"#7201a8\"],[0.3333333333333333,\"#9c179e\"],[0.4444444444444444,\"#bd3786\"],[0.5555555555555556,\"#d8576b\"],[0.6666666666666666,\"#ed7953\"],[0.7777777777777778,\"#fb9f3a\"],[0.8888888888888888,\"#fdca26\"],[1.0,\"#f0f921\"]]},\"colorway\":[\"#636efa\",\"#EF553B\",\"#00cc96\",\"#ab63fa\",\"#FFA15A\",\"#19d3f3\",\"#FF6692\",\"#B6E880\",\"#FF97FF\",\"#FECB52\"],\"font\":{\"color\":\"#2a3f5f\"},\"geo\":{\"bgcolor\":\"white\",\"lakecolor\":\"white\",\"landcolor\":\"#E5ECF6\",\"showlakes\":true,\"showland\":true,\"subunitcolor\":\"white\"},\"hoverlabel\":{\"align\":\"left\"},\"hovermode\":\"closest\",\"mapbox\":{\"style\":\"light\"},\"paper_bgcolor\":\"white\",\"plot_bgcolor\":\"#E5ECF6\",\"polar\":{\"angularaxis\":{\"gridcolor\":\"white\",\"linecolor\":\"white\",\"ticks\":\"\"},\"bgcolor\":\"#E5ECF6\",\"radialaxis\":{\"gridcolor\":\"white\",\"linecolor\":\"white\",\"ticks\":\"\"}},\"scene\":{\"xaxis\":{\"backgroundcolor\":\"#E5ECF6\",\"gridcolor\":\"white\",\"gridwidth\":2,\"linecolor\":\"white\",\"showbackground\":true,\"ticks\":\"\",\"zerolinecolor\":\"white\"},\"yaxis\":{\"backgroundcolor\":\"#E5ECF6\",\"gridcolor\":\"white\",\"gridwidth\":2,\"linecolor\":\"white\",\"showbackground\":true,\"ticks\":\"\",\"zerolinecolor\":\"white\"},\"zaxis\":{\"backgroundcolor\":\"#E5ECF6\",\"gridcolor\":\"white\",\"gridwidth\":2,\"linecolor\":\"white\",\"showbackground\":true,\"ticks\":\"\",\"zerolinecolor\":\"white\"}},\"shapedefaults\":{\"line\":{\"color\":\"#2a3f5f\"}},\"ternary\":{\"aaxis\":{\"gridcolor\":\"white\",\"linecolor\":\"white\",\"ticks\":\"\"},\"baxis\":{\"gridcolor\":\"white\",\"linecolor\":\"white\",\"ticks\":\"\"},\"bgcolor\":\"#E5ECF6\",\"caxis\":{\"gridcolor\":\"white\",\"linecolor\":\"white\",\"ticks\":\"\"}},\"title\":{\"x\":0.05},\"xaxis\":{\"automargin\":true,\"gridcolor\":\"white\",\"linecolor\":\"white\",\"ticks\":\"\",\"title\":{\"standoff\":15},\"zerolinecolor\":\"white\",\"zerolinewidth\":2},\"yaxis\":{\"automargin\":true,\"gridcolor\":\"white\",\"linecolor\":\"white\",\"ticks\":\"\",\"title\":{\"standoff\":15},\"zerolinecolor\":\"white\",\"zerolinewidth\":2}}},\"xaxis\":{\"anchor\":\"y\",\"domain\":[0.0,1.0],\"title\":{\"text\":\"Year\"}},\"yaxis\":{\"anchor\":\"x\",\"domain\":[0.0,1.0],\"title\":{\"text\":\"Amount Earned\"}},\"legend\":{\"title\":{\"text\":\"variable\"},\"tracegroupgap\":0},\"title\":{\"text\":\"Top 3 Canadian Poker Players - Annual Earnings\"}},                        {\"responsive\": true}                    ).then(function(){\n",
       "                            \n",
       "var gd = document.getElementById('07763f2c-b600-408d-85a1-c0465d11a381');\n",
       "var x = new MutationObserver(function (mutations, observer) {{\n",
       "        var display = window.getComputedStyle(gd).display;\n",
       "        if (!display || display === 'none') {{\n",
       "            console.log([gd, 'removed!']);\n",
       "            Plotly.purge(gd);\n",
       "            observer.disconnect();\n",
       "        }}\n",
       "}});\n",
       "\n",
       "// Listen for the removal of the full notebook cells\n",
       "var notebookContainer = gd.closest('#notebook-container');\n",
       "if (notebookContainer) {{\n",
       "    x.observe(notebookContainer, {childList: true});\n",
       "}}\n",
       "\n",
       "// Listen for the clearing of the current output cell\n",
       "var outputEl = gd.closest('.output');\n",
       "if (outputEl) {{\n",
       "    x.observe(outputEl, {childList: true});\n",
       "}}\n",
       "\n",
       "                        })                };                });            </script>        </div>"
      ]
     },
     "metadata": {},
     "output_type": "display_data"
    }
   ],
   "source": [
    "fig = px.line(df_top3,\n",
    "              title='Top 3 Canadian Poker Players - Annual Earnings',\n",
    "             )\n",
    "fig = fig.update_layout(xaxis_title=\"Year\", \n",
    "                        yaxis_title=\"Amount Earned\")\n",
    "fig.show()"
   ]
  },
  {
   "cell_type": "markdown",
   "id": "0218e19c",
   "metadata": {},
   "source": [
    "## Observations and Insights - 2.b\n",
    "\n",
    "- We can see that Daniel Negreanu earned his greatest amount in 2014 at approx \\\\$10.4 million.\n",
    "- Timothy Adams and Sam Greenwoord are rising stars who earned their highest amounts of approx \\\\$8.25 and \\\\$8.37 million in 2019."
   ]
  }
 ],
 "metadata": {
  "kernelspec": {
   "display_name": "Python 3",
   "language": "python",
   "name": "python3"
  },
  "language_info": {
   "codemirror_mode": {
    "name": "ipython",
    "version": 3
   },
   "file_extension": ".py",
   "mimetype": "text/x-python",
   "name": "python",
   "nbconvert_exporter": "python",
   "pygments_lexer": "ipython3",
   "version": "3.8.8"
  }
 },
 "nbformat": 4,
 "nbformat_minor": 5
}
