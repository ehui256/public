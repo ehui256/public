{
 "cells": [
  {
   "cell_type": "markdown",
   "id": "6df0c2f3",
   "metadata": {},
   "source": [
    "# EH_01_Data Wrangling March of Empires Reviews\n",
    "Prepared by Eric Hui\n",
    "\n",
    "## Purpose\n",
    "Examining the reviews for the game 'March of Empires' on the Steam store\n",
    "\n",
    "## Methodology\n",
    "Using Python and requests, we will web scrape data using Steam's Web API. Each Steam game has an associated appid\n",
    "\n",
    "For March of Empires, the URL on Steam is https://store.steampowered.com/app/702320/March_of_Empires/, and the appid is 702320."
   ]
  },
  {
   "cell_type": "markdown",
   "id": "502a996d",
   "metadata": {},
   "source": [
    "## Import dependencies"
   ]
  },
  {
   "cell_type": "code",
   "execution_count": 1,
   "id": "21fed42e",
   "metadata": {},
   "outputs": [],
   "source": [
    "from bs4 import BeautifulSoup\n",
    "from itertools import chain\n",
    "from fake_useragent import UserAgent\n",
    "import requests\n",
    "import json\n",
    "\n",
    "import time\n",
    "import random\n",
    "from getpass import getpass\n",
    "\n",
    "import pandas as pd\n",
    "import string\n",
    "import re\n",
    "import enchant\n",
    "\n",
    "import matplotlib.pyplot as plt\n",
    "%matplotlib inline\n",
    "import seaborn as sns"
   ]
  },
  {
   "cell_type": "markdown",
   "id": "650f3ce3",
   "metadata": {},
   "source": [
    "# Parameter definition\n",
    "We set all relevant parameters for our notebook. By convention, parameters are uppercase, while all the \n",
    "other variables follow Python's guidelines."
   ]
  },
  {
   "cell_type": "code",
   "execution_count": 2,
   "id": "9c24f6b0",
   "metadata": {},
   "outputs": [],
   "source": [
    "# Gameloft appids on Steam\n",
    "GAMELOFT = {\n",
    "            'Iron Blade: Medieval RPG' : 1087730,\n",
    "            'Dungeon Hunter 5' : 982510,\n",
    "            'Dungeon Hunter Champions' : 915580,\n",
    "            'Modern Combat 5' : 921060,\n",
    "            'Modern Combat Versus' : 723780,\n",
    "            'War Planet Online: Global Conquest' : 719640,\n",
    "            'March of Empires' : 702320,\n",
    "            'Sniper Fury' : 591740\n",
    "            }        "
   ]
  },
  {
   "cell_type": "markdown",
   "id": "3b17cc82",
   "metadata": {},
   "source": [
    "Using Steam's API, it is possible to retrieve reviews by players for a particular game.\n",
    "\n",
    "Review calls take the form:\n",
    "\n",
    "    'http://store.steampowered.com/appreviews/<APP_ID>?json=1'\n",
    "    \n",
    "Reference: https://partner.steamgames.com/doc/store/getreviews\n",
    "\n",
    "Steam API General Reference: https://partner.steamgames.com/doc/webapi"
   ]
  },
  {
   "cell_type": "markdown",
   "id": "709430ed",
   "metadata": {},
   "source": [
    "\n",
    "# Data import\n",
    "We retrieve all the required data for the analysis.\n",
    "\n",
    "### Helper Functions"
   ]
  },
  {
   "cell_type": "code",
   "execution_count": 3,
   "id": "5baec848",
   "metadata": {},
   "outputs": [],
   "source": [
    "def get_reviews_batch(appid, cursor):\n",
    "    '''\n",
    "    Get a batch of reviews if a valid http request is made.\n",
    "    Args: appid --> int, cursor --> str\n",
    "    Returns: batch --> dict/None\n",
    "    '''\n",
    "    parameters = {\n",
    "            'filter':'recent',\n",
    "            'language':'all',\n",
    "            #'day_range':'365',\n",
    "            'cursor': cursor,\n",
    "            'review_type':'all',\n",
    "            'purchase_type':'all',\n",
    "            'num_per_page':'100',\n",
    "            }\n",
    "    reviews_uri = f'http://store.steampowered.com/appreviews/{appid}?json=1'\n",
    "    \n",
    "    # header not necessary but help mimic real user\n",
    "    r = requests.get(reviews_uri, params=parameters, headers={'User-Agent': 'Mozilla/5.0'}) \n",
    "    \n",
    "    batch = None\n",
    "    if r.ok:\n",
    "        #print('Request good. JSON instance returned.')\n",
    "        batch = r.json()\n",
    "    else:\n",
    "        print('Invalid or bad Request')\n",
    "    return batch\n",
    "\n",
    "def get_all_reviews(appid):\n",
    "    '''\n",
    "    Get all reviews for a given app if a valid http request is made.\n",
    "    Args: appid --> int\n",
    "    Returns: reviews --> list\n",
    "    '''\n",
    "    first_batch = get_reviews_batch(appid,'*') # start cursor at *\n",
    "    total_num = first_batch['query_summary']['total_reviews'] # total number of reviews\n",
    "    reviews = first_batch['reviews'] # reviews so far\n",
    "    cursor = first_batch['cursor'] # new cursor\n",
    "    print(f'Total of {len(reviews)}/{total_num} retreived.')\n",
    "    #print(f'Cursor: {cursor}')\n",
    "\n",
    "    while len(reviews) < total_num:\n",
    "        # wait a little bit\n",
    "        time.sleep(0.2)\n",
    "        \n",
    "        next_batch = get_reviews_batch(appid, cursor) # get new batch\n",
    "        cursor = next_batch['cursor'] # set cursor to latest batch cursor\n",
    "        reviews.extend(next_batch['reviews']) # attach new batch\n",
    "        \n",
    "        print(f'Total of {len(reviews)}/{total_num} retreived.')\n",
    "        #print(f'Cursor: {cursor}')\n",
    "\n",
    "    print('All reviews retrieved.')\n",
    "    return reviews"
   ]
  },
  {
   "cell_type": "code",
   "execution_count": 4,
   "id": "8e171a97",
   "metadata": {},
   "outputs": [
    {
     "name": "stdout",
     "output_type": "stream",
     "text": [
      "Total of 100/1180 retreived.\n",
      "Total of 200/1180 retreived.\n",
      "Total of 300/1180 retreived.\n",
      "Total of 400/1180 retreived.\n",
      "Total of 500/1180 retreived.\n",
      "Total of 600/1180 retreived.\n",
      "Total of 700/1180 retreived.\n",
      "Total of 800/1180 retreived.\n",
      "Total of 900/1180 retreived.\n",
      "Total of 1000/1180 retreived.\n",
      "Total of 1100/1180 retreived.\n",
      "Total of 1180/1180 retreived.\n",
      "All reviews retrieved.\n"
     ]
    }
   ],
   "source": [
    "id = GAMELOFT['March of Empires'] \n",
    "reviews = get_all_reviews(id)"
   ]
  },
  {
   "cell_type": "code",
   "execution_count": 5,
   "id": "e210b360",
   "metadata": {},
   "outputs": [
    {
     "name": "stdout",
     "output_type": "stream",
     "text": [
      "Stored 'reviews' (list)\n"
     ]
    }
   ],
   "source": [
    "# store to notebook for ease of access\n",
    "%store reviews"
   ]
  },
  {
   "cell_type": "code",
   "execution_count": 6,
   "id": "22cd5470",
   "metadata": {},
   "outputs": [],
   "source": [
    "# retrieve\n",
    "%store -r reviews"
   ]
  },
  {
   "cell_type": "code",
   "execution_count": 7,
   "id": "58fcff70",
   "metadata": {},
   "outputs": [
    {
     "data": {
      "text/plain": [
       "{'recommendationid': '118057004',\n",
       " 'author': {'steamid': '76561197993103773',\n",
       "  'num_games_owned': 11,\n",
       "  'num_reviews': 2,\n",
       "  'playtime_forever': 1521,\n",
       "  'playtime_last_two_weeks': 1080,\n",
       "  'playtime_at_review': 1196,\n",
       "  'last_played': 1656866065},\n",
       " 'language': 'portuguese',\n",
       " 'review': 'ola que se passa com o jogo \\ndiz erro de conexao e nao cosigo entrar para jogar?\\n',\n",
       " 'timestamp_created': 1656762394,\n",
       " 'timestamp_updated': 1656762394,\n",
       " 'voted_up': True,\n",
       " 'votes_up': 0,\n",
       " 'votes_funny': 0,\n",
       " 'weighted_vote_score': 0,\n",
       " 'comment_count': 0,\n",
       " 'steam_purchase': False,\n",
       " 'received_for_free': False,\n",
       " 'written_during_early_access': False}"
      ]
     },
     "execution_count": 7,
     "metadata": {},
     "output_type": "execute_result"
    }
   ],
   "source": [
    "# preview first review\n",
    "reviews[0]"
   ]
  },
  {
   "cell_type": "markdown",
   "id": "34d6a9d9",
   "metadata": {},
   "source": [
    "## Data preprocessing\n",
    "\n",
    "Now that the raw data has been accessed and imported, it can now be transformed. First use pandas and create a dataframe."
   ]
  },
  {
   "cell_type": "code",
   "execution_count": 8,
   "id": "c31428e1",
   "metadata": {},
   "outputs": [
    {
     "data": {
      "text/html": [
       "<div>\n",
       "<style scoped>\n",
       "    .dataframe tbody tr th:only-of-type {\n",
       "        vertical-align: middle;\n",
       "    }\n",
       "\n",
       "    .dataframe tbody tr th {\n",
       "        vertical-align: top;\n",
       "    }\n",
       "\n",
       "    .dataframe thead th {\n",
       "        text-align: right;\n",
       "    }\n",
       "</style>\n",
       "<table border=\"1\" class=\"dataframe\">\n",
       "  <thead>\n",
       "    <tr style=\"text-align: right;\">\n",
       "      <th></th>\n",
       "      <th>recommendationid</th>\n",
       "      <th>author</th>\n",
       "      <th>language</th>\n",
       "      <th>review</th>\n",
       "      <th>timestamp_created</th>\n",
       "      <th>timestamp_updated</th>\n",
       "      <th>voted_up</th>\n",
       "      <th>votes_up</th>\n",
       "      <th>votes_funny</th>\n",
       "      <th>weighted_vote_score</th>\n",
       "      <th>comment_count</th>\n",
       "      <th>steam_purchase</th>\n",
       "      <th>received_for_free</th>\n",
       "      <th>written_during_early_access</th>\n",
       "    </tr>\n",
       "  </thead>\n",
       "  <tbody>\n",
       "    <tr>\n",
       "      <th>0</th>\n",
       "      <td>118057004</td>\n",
       "      <td>{'steamid': '76561197993103773', 'num_games_ow...</td>\n",
       "      <td>portuguese</td>\n",
       "      <td>ola que se passa com o jogo \\ndiz erro de cone...</td>\n",
       "      <td>1656762394</td>\n",
       "      <td>1656762394</td>\n",
       "      <td>True</td>\n",
       "      <td>0</td>\n",
       "      <td>0</td>\n",
       "      <td>0</td>\n",
       "      <td>0</td>\n",
       "      <td>False</td>\n",
       "      <td>False</td>\n",
       "      <td>False</td>\n",
       "    </tr>\n",
       "    <tr>\n",
       "      <th>1</th>\n",
       "      <td>117936665</td>\n",
       "      <td>{'steamid': '76561199352887065', 'num_games_ow...</td>\n",
       "      <td>english</td>\n",
       "      <td>Well designed and interesting.  GL continually...</td>\n",
       "      <td>1656604756</td>\n",
       "      <td>1656604756</td>\n",
       "      <td>True</td>\n",
       "      <td>0</td>\n",
       "      <td>0</td>\n",
       "      <td>0</td>\n",
       "      <td>0</td>\n",
       "      <td>False</td>\n",
       "      <td>True</td>\n",
       "      <td>False</td>\n",
       "    </tr>\n",
       "    <tr>\n",
       "      <th>2</th>\n",
       "      <td>117802415</td>\n",
       "      <td>{'steamid': '76561199278500439', 'num_games_ow...</td>\n",
       "      <td>english</td>\n",
       "      <td>I like the feature of chat as you are able to ...</td>\n",
       "      <td>1656433810</td>\n",
       "      <td>1656433810</td>\n",
       "      <td>True</td>\n",
       "      <td>0</td>\n",
       "      <td>0</td>\n",
       "      <td>0</td>\n",
       "      <td>0</td>\n",
       "      <td>False</td>\n",
       "      <td>True</td>\n",
       "      <td>False</td>\n",
       "    </tr>\n",
       "    <tr>\n",
       "      <th>3</th>\n",
       "      <td>117547089</td>\n",
       "      <td>{'steamid': '76561199211042912', 'num_games_ow...</td>\n",
       "      <td>english</td>\n",
       "      <td>Great Game</td>\n",
       "      <td>1656116447</td>\n",
       "      <td>1656116447</td>\n",
       "      <td>True</td>\n",
       "      <td>0</td>\n",
       "      <td>0</td>\n",
       "      <td>0</td>\n",
       "      <td>0</td>\n",
       "      <td>False</td>\n",
       "      <td>False</td>\n",
       "      <td>False</td>\n",
       "    </tr>\n",
       "    <tr>\n",
       "      <th>4</th>\n",
       "      <td>117429346</td>\n",
       "      <td>{'steamid': '76561199272140924', 'num_games_ow...</td>\n",
       "      <td>english</td>\n",
       "      <td>YES GOOD GAME</td>\n",
       "      <td>1655934675</td>\n",
       "      <td>1655934675</td>\n",
       "      <td>True</td>\n",
       "      <td>1</td>\n",
       "      <td>0</td>\n",
       "      <td>0.523809552192687988</td>\n",
       "      <td>0</td>\n",
       "      <td>False</td>\n",
       "      <td>True</td>\n",
       "      <td>False</td>\n",
       "    </tr>\n",
       "  </tbody>\n",
       "</table>\n",
       "</div>"
      ],
      "text/plain": [
       "  recommendationid                                             author  \\\n",
       "0        118057004  {'steamid': '76561197993103773', 'num_games_ow...   \n",
       "1        117936665  {'steamid': '76561199352887065', 'num_games_ow...   \n",
       "2        117802415  {'steamid': '76561199278500439', 'num_games_ow...   \n",
       "3        117547089  {'steamid': '76561199211042912', 'num_games_ow...   \n",
       "4        117429346  {'steamid': '76561199272140924', 'num_games_ow...   \n",
       "\n",
       "     language                                             review  \\\n",
       "0  portuguese  ola que se passa com o jogo \\ndiz erro de cone...   \n",
       "1     english  Well designed and interesting.  GL continually...   \n",
       "2     english  I like the feature of chat as you are able to ...   \n",
       "3     english                                         Great Game   \n",
       "4     english                                      YES GOOD GAME   \n",
       "\n",
       "   timestamp_created  timestamp_updated  voted_up  votes_up  votes_funny  \\\n",
       "0         1656762394         1656762394      True         0            0   \n",
       "1         1656604756         1656604756      True         0            0   \n",
       "2         1656433810         1656433810      True         0            0   \n",
       "3         1656116447         1656116447      True         0            0   \n",
       "4         1655934675         1655934675      True         1            0   \n",
       "\n",
       "    weighted_vote_score  comment_count  steam_purchase  received_for_free  \\\n",
       "0                     0              0           False              False   \n",
       "1                     0              0           False               True   \n",
       "2                     0              0           False               True   \n",
       "3                     0              0           False              False   \n",
       "4  0.523809552192687988              0           False               True   \n",
       "\n",
       "   written_during_early_access  \n",
       "0                        False  \n",
       "1                        False  \n",
       "2                        False  \n",
       "3                        False  \n",
       "4                        False  "
      ]
     },
     "execution_count": 8,
     "metadata": {},
     "output_type": "execute_result"
    }
   ],
   "source": [
    "df = pd.DataFrame(reviews)\n",
    "\n",
    "# preview dataframe\n",
    "df.head()"
   ]
  },
  {
   "cell_type": "markdown",
   "id": "9c2cbf1e",
   "metadata": {},
   "source": [
    "### Explanatory/Exploratory Data Analysis\n",
    "\n",
    "Explore what each column contains and asess data integrity/quality "
   ]
  },
  {
   "cell_type": "code",
   "execution_count": 9,
   "id": "46f4f352",
   "metadata": {
    "scrolled": true
   },
   "outputs": [
    {
     "name": "stdout",
     "output_type": "stream",
     "text": [
      "<class 'pandas.core.frame.DataFrame'>\n",
      "RangeIndex: 1180 entries, 0 to 1179\n",
      "Data columns (total 14 columns):\n",
      " #   Column                       Non-Null Count  Dtype \n",
      "---  ------                       --------------  ----- \n",
      " 0   recommendationid             1180 non-null   object\n",
      " 1   author                       1180 non-null   object\n",
      " 2   language                     1180 non-null   object\n",
      " 3   review                       1180 non-null   object\n",
      " 4   timestamp_created            1180 non-null   int64 \n",
      " 5   timestamp_updated            1180 non-null   int64 \n",
      " 6   voted_up                     1180 non-null   bool  \n",
      " 7   votes_up                     1180 non-null   int64 \n",
      " 8   votes_funny                  1180 non-null   int64 \n",
      " 9   weighted_vote_score          1180 non-null   object\n",
      " 10  comment_count                1180 non-null   int64 \n",
      " 11  steam_purchase               1180 non-null   bool  \n",
      " 12  received_for_free            1180 non-null   bool  \n",
      " 13  written_during_early_access  1180 non-null   bool  \n",
      "dtypes: bool(4), int64(5), object(5)\n",
      "memory usage: 96.9+ KB\n"
     ]
    }
   ],
   "source": [
    "df.info()"
   ]
  },
  {
   "cell_type": "markdown",
   "id": "573f9844",
   "metadata": {},
   "source": [
    "Columns are as follows:\n",
    "\n",
    "- recommendationid: The unique id for the review in question\n",
    "- author: An object representing a steam user\n",
    "- language: Language of the review in string format\n",
    "- review: The raw review in string format\n",
    "- timestamp_created: The date of the review in unix format\n",
    "- timestamp_updated: The date of the last changes to the review in unix format\n",
    "- voted_up: Boolean representing if the review was a positive or negative review\n",
    "- votes_up: Number of upvotes\n",
    "- votes_funny: Number of funny votes\n",
    "- weighted_vote_score: A weighted vote score determined by Valve\n",
    "- comment_count: Number of comments made by other users to the review in question\n",
    "- steam_purchase: Boolean representing if the game was acquired through a purchase\n",
    "- received_for_free: Boolean representing if the game was acquired for free\n",
    "- written_during_early_access: Boolean representing if the review was written during early access"
   ]
  },
  {
   "cell_type": "code",
   "execution_count": 10,
   "id": "abcb6dc4",
   "metadata": {
    "scrolled": false
   },
   "outputs": [
    {
     "data": {
      "text/html": [
       "<div>\n",
       "<style scoped>\n",
       "    .dataframe tbody tr th:only-of-type {\n",
       "        vertical-align: middle;\n",
       "    }\n",
       "\n",
       "    .dataframe tbody tr th {\n",
       "        vertical-align: top;\n",
       "    }\n",
       "\n",
       "    .dataframe thead th {\n",
       "        text-align: right;\n",
       "    }\n",
       "</style>\n",
       "<table border=\"1\" class=\"dataframe\">\n",
       "  <thead>\n",
       "    <tr style=\"text-align: right;\">\n",
       "      <th></th>\n",
       "      <th>timestamp_created</th>\n",
       "      <th>timestamp_updated</th>\n",
       "      <th>votes_up</th>\n",
       "      <th>votes_funny</th>\n",
       "      <th>comment_count</th>\n",
       "    </tr>\n",
       "  </thead>\n",
       "  <tbody>\n",
       "    <tr>\n",
       "      <th>count</th>\n",
       "      <td>1.180000e+03</td>\n",
       "      <td>1.180000e+03</td>\n",
       "      <td>1180.000000</td>\n",
       "      <td>1180.000000</td>\n",
       "      <td>1180.000000</td>\n",
       "    </tr>\n",
       "    <tr>\n",
       "      <th>mean</th>\n",
       "      <td>1.586233e+09</td>\n",
       "      <td>1.587434e+09</td>\n",
       "      <td>2.155932</td>\n",
       "      <td>0.371186</td>\n",
       "      <td>0.103390</td>\n",
       "    </tr>\n",
       "    <tr>\n",
       "      <th>std</th>\n",
       "      <td>4.051306e+07</td>\n",
       "      <td>4.023075e+07</td>\n",
       "      <td>7.777292</td>\n",
       "      <td>1.885937</td>\n",
       "      <td>0.658594</td>\n",
       "    </tr>\n",
       "    <tr>\n",
       "      <th>min</th>\n",
       "      <td>1.512992e+09</td>\n",
       "      <td>1.512992e+09</td>\n",
       "      <td>0.000000</td>\n",
       "      <td>0.000000</td>\n",
       "      <td>0.000000</td>\n",
       "    </tr>\n",
       "    <tr>\n",
       "      <th>25%</th>\n",
       "      <td>1.561969e+09</td>\n",
       "      <td>1.562270e+09</td>\n",
       "      <td>0.000000</td>\n",
       "      <td>0.000000</td>\n",
       "      <td>0.000000</td>\n",
       "    </tr>\n",
       "    <tr>\n",
       "      <th>50%</th>\n",
       "      <td>1.590174e+09</td>\n",
       "      <td>1.590751e+09</td>\n",
       "      <td>0.000000</td>\n",
       "      <td>0.000000</td>\n",
       "      <td>0.000000</td>\n",
       "    </tr>\n",
       "    <tr>\n",
       "      <th>75%</th>\n",
       "      <td>1.616278e+09</td>\n",
       "      <td>1.617118e+09</td>\n",
       "      <td>1.000000</td>\n",
       "      <td>0.000000</td>\n",
       "      <td>0.000000</td>\n",
       "    </tr>\n",
       "    <tr>\n",
       "      <th>max</th>\n",
       "      <td>1.656762e+09</td>\n",
       "      <td>1.656762e+09</td>\n",
       "      <td>117.000000</td>\n",
       "      <td>35.000000</td>\n",
       "      <td>11.000000</td>\n",
       "    </tr>\n",
       "  </tbody>\n",
       "</table>\n",
       "</div>"
      ],
      "text/plain": [
       "       timestamp_created  timestamp_updated     votes_up  votes_funny  \\\n",
       "count       1.180000e+03       1.180000e+03  1180.000000  1180.000000   \n",
       "mean        1.586233e+09       1.587434e+09     2.155932     0.371186   \n",
       "std         4.051306e+07       4.023075e+07     7.777292     1.885937   \n",
       "min         1.512992e+09       1.512992e+09     0.000000     0.000000   \n",
       "25%         1.561969e+09       1.562270e+09     0.000000     0.000000   \n",
       "50%         1.590174e+09       1.590751e+09     0.000000     0.000000   \n",
       "75%         1.616278e+09       1.617118e+09     1.000000     0.000000   \n",
       "max         1.656762e+09       1.656762e+09   117.000000    35.000000   \n",
       "\n",
       "       comment_count  \n",
       "count    1180.000000  \n",
       "mean        0.103390  \n",
       "std         0.658594  \n",
       "min         0.000000  \n",
       "25%         0.000000  \n",
       "50%         0.000000  \n",
       "75%         0.000000  \n",
       "max        11.000000  "
      ]
     },
     "execution_count": 10,
     "metadata": {},
     "output_type": "execute_result"
    }
   ],
   "source": [
    "df.describe()"
   ]
  },
  {
   "cell_type": "code",
   "execution_count": 11,
   "id": "89ed1217",
   "metadata": {},
   "outputs": [
    {
     "data": {
      "text/plain": [
       "recommendationid               0\n",
       "author                         0\n",
       "language                       0\n",
       "review                         0\n",
       "timestamp_created              0\n",
       "timestamp_updated              0\n",
       "voted_up                       0\n",
       "votes_up                       0\n",
       "votes_funny                    0\n",
       "weighted_vote_score            0\n",
       "comment_count                  0\n",
       "steam_purchase                 0\n",
       "received_for_free              0\n",
       "written_during_early_access    0\n",
       "dtype: int64"
      ]
     },
     "execution_count": 11,
     "metadata": {},
     "output_type": "execute_result"
    }
   ],
   "source": [
    "# check for nulls\n",
    "df.isna().sum()"
   ]
  },
  {
   "cell_type": "markdown",
   "id": "8021ac1b",
   "metadata": {},
   "source": [
    "The 'author' column contains data about the users making a review. It will be put into a seperate DataFrame with the 'steamid' as the primary keys."
   ]
  },
  {
   "cell_type": "code",
   "execution_count": 12,
   "id": "a62bfe34",
   "metadata": {
    "scrolled": true
   },
   "outputs": [
    {
     "data": {
      "text/html": [
       "<div>\n",
       "<style scoped>\n",
       "    .dataframe tbody tr th:only-of-type {\n",
       "        vertical-align: middle;\n",
       "    }\n",
       "\n",
       "    .dataframe tbody tr th {\n",
       "        vertical-align: top;\n",
       "    }\n",
       "\n",
       "    .dataframe thead th {\n",
       "        text-align: right;\n",
       "    }\n",
       "</style>\n",
       "<table border=\"1\" class=\"dataframe\">\n",
       "  <thead>\n",
       "    <tr style=\"text-align: right;\">\n",
       "      <th></th>\n",
       "      <th>steamid</th>\n",
       "      <th>num_games_owned</th>\n",
       "      <th>num_reviews</th>\n",
       "      <th>playtime_forever</th>\n",
       "      <th>playtime_last_two_weeks</th>\n",
       "      <th>playtime_at_review</th>\n",
       "      <th>last_played</th>\n",
       "    </tr>\n",
       "  </thead>\n",
       "  <tbody>\n",
       "    <tr>\n",
       "      <th>0</th>\n",
       "      <td>76561197993103773</td>\n",
       "      <td>11</td>\n",
       "      <td>2</td>\n",
       "      <td>1521</td>\n",
       "      <td>1080</td>\n",
       "      <td>1196</td>\n",
       "      <td>1656866065</td>\n",
       "    </tr>\n",
       "    <tr>\n",
       "      <th>1</th>\n",
       "      <td>76561199352887065</td>\n",
       "      <td>0</td>\n",
       "      <td>1</td>\n",
       "      <td>1316</td>\n",
       "      <td>1316</td>\n",
       "      <td>851</td>\n",
       "      <td>1656866589</td>\n",
       "    </tr>\n",
       "    <tr>\n",
       "      <th>2</th>\n",
       "      <td>76561199278500439</td>\n",
       "      <td>0</td>\n",
       "      <td>1</td>\n",
       "      <td>6325</td>\n",
       "      <td>2496</td>\n",
       "      <td>5121</td>\n",
       "      <td>1656866349</td>\n",
       "    </tr>\n",
       "    <tr>\n",
       "      <th>3</th>\n",
       "      <td>76561199211042912</td>\n",
       "      <td>4</td>\n",
       "      <td>1</td>\n",
       "      <td>46041</td>\n",
       "      <td>8061</td>\n",
       "      <td>40338</td>\n",
       "      <td>1656865822</td>\n",
       "    </tr>\n",
       "    <tr>\n",
       "      <th>4</th>\n",
       "      <td>76561199272140924</td>\n",
       "      <td>4</td>\n",
       "      <td>5</td>\n",
       "      <td>41</td>\n",
       "      <td>1</td>\n",
       "      <td>40</td>\n",
       "      <td>1656456497</td>\n",
       "    </tr>\n",
       "  </tbody>\n",
       "</table>\n",
       "</div>"
      ],
      "text/plain": [
       "             steamid  num_games_owned  num_reviews  playtime_forever  \\\n",
       "0  76561197993103773               11            2              1521   \n",
       "1  76561199352887065                0            1              1316   \n",
       "2  76561199278500439                0            1              6325   \n",
       "3  76561199211042912                4            1             46041   \n",
       "4  76561199272140924                4            5                41   \n",
       "\n",
       "   playtime_last_two_weeks  playtime_at_review  last_played  \n",
       "0                     1080                1196   1656866065  \n",
       "1                     1316                 851   1656866589  \n",
       "2                     2496                5121   1656866349  \n",
       "3                     8061               40338   1656865822  \n",
       "4                        1                  40   1656456497  "
      ]
     },
     "execution_count": 12,
     "metadata": {},
     "output_type": "execute_result"
    }
   ],
   "source": [
    "df_author = pd.json_normalize(df['author'])\n",
    "df_author.head()"
   ]
  },
  {
   "cell_type": "code",
   "execution_count": 13,
   "id": "7f422667",
   "metadata": {},
   "outputs": [
    {
     "name": "stdout",
     "output_type": "stream",
     "text": [
      "<class 'pandas.core.frame.DataFrame'>\n",
      "RangeIndex: 1180 entries, 0 to 1179\n",
      "Data columns (total 7 columns):\n",
      " #   Column                   Non-Null Count  Dtype \n",
      "---  ------                   --------------  ----- \n",
      " 0   steamid                  1180 non-null   object\n",
      " 1   num_games_owned          1180 non-null   int64 \n",
      " 2   num_reviews              1180 non-null   int64 \n",
      " 3   playtime_forever         1180 non-null   int64 \n",
      " 4   playtime_last_two_weeks  1180 non-null   int64 \n",
      " 5   playtime_at_review       1180 non-null   int64 \n",
      " 6   last_played              1180 non-null   int64 \n",
      "dtypes: int64(6), object(1)\n",
      "memory usage: 64.7+ KB\n"
     ]
    }
   ],
   "source": [
    "df_author.info()"
   ]
  },
  {
   "cell_type": "markdown",
   "id": "fb6e0344",
   "metadata": {},
   "source": [
    "Columns for df_author are as follows:\n",
    "\n",
    "- steamid: unique user id\n",
    "- num_games_owned: number of games owned by this user\n",
    "- num_reviews: number of reviews (for all games on the Steam store) written by this user\n",
    "- playtime_forever: playtime logged playing this game by this user in minutes\n",
    "- playtime_last_two_weeks: playtime logged in past two weeks (as of date data request was made) in minutes\n",
    "- playtime_at_review: playtime logged at time of reviewing\n",
    "- last_played: date of last playtime in unix format"
   ]
  },
  {
   "cell_type": "code",
   "execution_count": 14,
   "id": "df59533a",
   "metadata": {},
   "outputs": [
    {
     "data": {
      "text/html": [
       "<div>\n",
       "<style scoped>\n",
       "    .dataframe tbody tr th:only-of-type {\n",
       "        vertical-align: middle;\n",
       "    }\n",
       "\n",
       "    .dataframe tbody tr th {\n",
       "        vertical-align: top;\n",
       "    }\n",
       "\n",
       "    .dataframe thead th {\n",
       "        text-align: right;\n",
       "    }\n",
       "</style>\n",
       "<table border=\"1\" class=\"dataframe\">\n",
       "  <thead>\n",
       "    <tr style=\"text-align: right;\">\n",
       "      <th></th>\n",
       "      <th>num_games_owned</th>\n",
       "      <th>num_reviews</th>\n",
       "      <th>playtime_forever</th>\n",
       "      <th>playtime_last_two_weeks</th>\n",
       "      <th>playtime_at_review</th>\n",
       "      <th>last_played</th>\n",
       "    </tr>\n",
       "  </thead>\n",
       "  <tbody>\n",
       "    <tr>\n",
       "      <th>count</th>\n",
       "      <td>1180.000000</td>\n",
       "      <td>1180.000000</td>\n",
       "      <td>1.180000e+03</td>\n",
       "      <td>1180.000000</td>\n",
       "      <td>1180.000000</td>\n",
       "      <td>1.180000e+03</td>\n",
       "    </tr>\n",
       "    <tr>\n",
       "      <th>mean</th>\n",
       "      <td>117.912712</td>\n",
       "      <td>63.660169</td>\n",
       "      <td>5.857559e+04</td>\n",
       "      <td>466.033051</td>\n",
       "      <td>25412.533898</td>\n",
       "      <td>1.610540e+09</td>\n",
       "    </tr>\n",
       "    <tr>\n",
       "      <th>std</th>\n",
       "      <td>530.410171</td>\n",
       "      <td>415.386803</td>\n",
       "      <td>1.415677e+05</td>\n",
       "      <td>1946.112936</td>\n",
       "      <td>73351.183429</td>\n",
       "      <td>4.552993e+07</td>\n",
       "    </tr>\n",
       "    <tr>\n",
       "      <th>min</th>\n",
       "      <td>0.000000</td>\n",
       "      <td>1.000000</td>\n",
       "      <td>5.000000e+00</td>\n",
       "      <td>0.000000</td>\n",
       "      <td>5.000000</td>\n",
       "      <td>1.512990e+09</td>\n",
       "    </tr>\n",
       "    <tr>\n",
       "      <th>25%</th>\n",
       "      <td>0.000000</td>\n",
       "      <td>1.000000</td>\n",
       "      <td>9.487500e+02</td>\n",
       "      <td>0.000000</td>\n",
       "      <td>329.000000</td>\n",
       "      <td>1.581456e+09</td>\n",
       "    </tr>\n",
       "    <tr>\n",
       "      <th>50%</th>\n",
       "      <td>10.000000</td>\n",
       "      <td>2.000000</td>\n",
       "      <td>8.780500e+03</td>\n",
       "      <td>0.000000</td>\n",
       "      <td>2323.500000</td>\n",
       "      <td>1.622743e+09</td>\n",
       "    </tr>\n",
       "    <tr>\n",
       "      <th>75%</th>\n",
       "      <td>62.250000</td>\n",
       "      <td>8.000000</td>\n",
       "      <td>5.230825e+04</td>\n",
       "      <td>0.000000</td>\n",
       "      <td>14751.000000</td>\n",
       "      <td>1.653250e+09</td>\n",
       "    </tr>\n",
       "    <tr>\n",
       "      <th>max</th>\n",
       "      <td>7767.000000</td>\n",
       "      <td>7313.000000</td>\n",
       "      <td>1.789941e+06</td>\n",
       "      <td>20139.000000</td>\n",
       "      <td>869258.000000</td>\n",
       "      <td>1.656867e+09</td>\n",
       "    </tr>\n",
       "  </tbody>\n",
       "</table>\n",
       "</div>"
      ],
      "text/plain": [
       "       num_games_owned  num_reviews  playtime_forever  \\\n",
       "count      1180.000000  1180.000000      1.180000e+03   \n",
       "mean        117.912712    63.660169      5.857559e+04   \n",
       "std         530.410171   415.386803      1.415677e+05   \n",
       "min           0.000000     1.000000      5.000000e+00   \n",
       "25%           0.000000     1.000000      9.487500e+02   \n",
       "50%          10.000000     2.000000      8.780500e+03   \n",
       "75%          62.250000     8.000000      5.230825e+04   \n",
       "max        7767.000000  7313.000000      1.789941e+06   \n",
       "\n",
       "       playtime_last_two_weeks  playtime_at_review   last_played  \n",
       "count              1180.000000         1180.000000  1.180000e+03  \n",
       "mean                466.033051        25412.533898  1.610540e+09  \n",
       "std                1946.112936        73351.183429  4.552993e+07  \n",
       "min                   0.000000            5.000000  1.512990e+09  \n",
       "25%                   0.000000          329.000000  1.581456e+09  \n",
       "50%                   0.000000         2323.500000  1.622743e+09  \n",
       "75%                   0.000000        14751.000000  1.653250e+09  \n",
       "max               20139.000000       869258.000000  1.656867e+09  "
      ]
     },
     "execution_count": 14,
     "metadata": {},
     "output_type": "execute_result"
    }
   ],
   "source": [
    "df_author.describe()"
   ]
  },
  {
   "cell_type": "code",
   "execution_count": 15,
   "id": "99a8879c",
   "metadata": {},
   "outputs": [
    {
     "data": {
      "text/plain": [
       "steamid                    0\n",
       "num_games_owned            0\n",
       "num_reviews                0\n",
       "playtime_forever           0\n",
       "playtime_last_two_weeks    0\n",
       "playtime_at_review         0\n",
       "last_played                0\n",
       "dtype: int64"
      ]
     },
     "execution_count": 15,
     "metadata": {},
     "output_type": "execute_result"
    }
   ],
   "source": [
    "df_author.isna().sum()"
   ]
  },
  {
   "cell_type": "markdown",
   "id": "c4080fd4",
   "metadata": {},
   "source": [
    "All playtime stats are given in minutes, and last_played is a date provided in unix/epoch time format.\n",
    "\n",
    "Reference: https://developer.valvesoftware.com/wiki/Steam_Web_API"
   ]
  },
  {
   "cell_type": "markdown",
   "id": "b59b256c",
   "metadata": {},
   "source": [
    "Plot a correlation matrix."
   ]
  },
  {
   "cell_type": "code",
   "execution_count": 16,
   "id": "18d3ad04",
   "metadata": {},
   "outputs": [
    {
     "data": {
      "text/plain": [
       "<AxesSubplot:>"
      ]
     },
     "execution_count": 16,
     "metadata": {},
     "output_type": "execute_result"
    },
    {
     "data": {
      "image/png": "[encoded data removed]",
      "text/plain": [
       "<Figure size 720x360 with 2 Axes>"
      ]
     },
     "metadata": {
      "needs_background": "light"
     },
     "output_type": "display_data"
    }
   ],
   "source": [
    "plt.figure(figsize=(10,5))\n",
    "sns.heatmap(df_author.corr(),cbar=True,annot=True,cmap='Blues')"
   ]
  },
  {
   "cell_type": "markdown",
   "id": "7da3c7d8",
   "metadata": {},
   "source": [
    "It can be seen that there is a strong correlation (defined as >0.7) of 0.8 between the reviewer's playtime at the time of review, and their total playtime for the game."
   ]
  },
  {
   "cell_type": "markdown",
   "id": "02b4969a",
   "metadata": {},
   "source": [
    "Plot a histogram showing what most of the reviewers playtimes at review are."
   ]
  },
  {
   "cell_type": "code",
   "execution_count": 17,
   "id": "15c800de",
   "metadata": {},
   "outputs": [
    {
     "data": {
      "text/plain": [
       "<AxesSubplot:xlabel='playtime_at_review', ylabel='Count'>"
      ]
     },
     "execution_count": 17,
     "metadata": {},
     "output_type": "execute_result"
    },
    {
     "data": {
      "image/png": "[encoded data removed]",
      "text/plain": [
       "<Figure size 432x288 with 1 Axes>"
      ]
     },
     "metadata": {
      "needs_background": "light"
     },
     "output_type": "display_data"
    }
   ],
   "source": [
    "sns.histplot(df_author.playtime_at_review,bins=20)"
   ]
  },
  {
   "cell_type": "markdown",
   "id": "3aa894e8",
   "metadata": {},
   "source": [
    "Plot the relationship between playtime_at_review and playtime_forever"
   ]
  },
  {
   "cell_type": "code",
   "execution_count": 18,
   "id": "1031914a",
   "metadata": {
    "scrolled": false
   },
   "outputs": [
    {
     "data": {
      "image/png": "[encoded data removed]",
      "text/plain": [
       "<Figure size 720x504 with 1 Axes>"
      ]
     },
     "metadata": {
      "needs_background": "light"
     },
     "output_type": "display_data"
    }
   ],
   "source": [
    "plt.figure(figsize=(10,7))\n",
    "plt.scatter(x='playtime_at_review',y='playtime_forever',data=df_author)\n",
    "plt.yticks(ticks=plt.yticks()[0], labels=plt.yticks()[0])\n",
    "plt.xticks(ticks=plt.xticks()[0], labels=plt.xticks()[0])\n",
    "plt.xlabel('Playtime at review')\n",
    "plt.ylabel('Total Playtime')\n",
    "\n",
    "plt.show()"
   ]
  },
  {
   "cell_type": "markdown",
   "id": "2c521cb1",
   "metadata": {},
   "source": [
    "A lot of the playtime at review values fall under 200-300,000  and total playtime under 500,000. Resize the graph to reflect this."
   ]
  },
  {
   "cell_type": "code",
   "execution_count": 19,
   "id": "0b7d2ace",
   "metadata": {},
   "outputs": [
    {
     "data": {
      "image/png": "[encoded data removed]",
      "text/plain": [
       "<Figure size 720x504 with 1 Axes>"
      ]
     },
     "metadata": {
      "needs_background": "light"
     },
     "output_type": "display_data"
    }
   ],
   "source": [
    "plt.figure(figsize=(10,7))\n",
    "plt.scatter(x='playtime_at_review',y='playtime_forever',data=df_author)\n",
    "plt.yticks(ticks=plt.yticks()[0], labels=plt.yticks()[0])\n",
    "plt.xticks(ticks=plt.xticks()[0], labels=plt.xticks()[0])\n",
    "plt.xlabel('Playtime at review')\n",
    "plt.ylabel('Total Playtime')\n",
    "\n",
    "plt.xlim(left=-10000,right=200000)\n",
    "plt.ylim(bottom=-10000,top=500000)\n",
    "\n",
    "plt.show()"
   ]
  },
  {
   "cell_type": "markdown",
   "id": "700e3b9a",
   "metadata": {},
   "source": [
    "Add 'steamid' column from df_author back into dataframe containing reviews. \n",
    "\n",
    "This will be the foreign key for the df_author dataframe."
   ]
  },
  {
   "cell_type": "code",
   "execution_count": 20,
   "id": "551d2de1",
   "metadata": {},
   "outputs": [],
   "source": [
    "df['steamid'] = df_author['steamid']"
   ]
  },
  {
   "cell_type": "markdown",
   "id": "8722aabb",
   "metadata": {},
   "source": [
    "Reorder the 'author_id' column to immediately after 'author', and drop the 'author' column"
   ]
  },
  {
   "cell_type": "code",
   "execution_count": 21,
   "id": "971ac5a2",
   "metadata": {},
   "outputs": [
    {
     "data": {
      "text/plain": [
       "['recommendationid',\n",
       " 'author',\n",
       " 'language',\n",
       " 'review',\n",
       " 'timestamp_created',\n",
       " 'timestamp_updated',\n",
       " 'voted_up',\n",
       " 'votes_up',\n",
       " 'votes_funny',\n",
       " 'weighted_vote_score',\n",
       " 'comment_count',\n",
       " 'steam_purchase',\n",
       " 'received_for_free',\n",
       " 'written_during_early_access',\n",
       " 'steamid']"
      ]
     },
     "execution_count": 21,
     "metadata": {},
     "output_type": "execute_result"
    }
   ],
   "source": [
    "list(df.columns)"
   ]
  },
  {
   "cell_type": "code",
   "execution_count": 22,
   "id": "473fb956",
   "metadata": {},
   "outputs": [
    {
     "data": {
      "text/html": [
       "<div>\n",
       "<style scoped>\n",
       "    .dataframe tbody tr th:only-of-type {\n",
       "        vertical-align: middle;\n",
       "    }\n",
       "\n",
       "    .dataframe tbody tr th {\n",
       "        vertical-align: top;\n",
       "    }\n",
       "\n",
       "    .dataframe thead th {\n",
       "        text-align: right;\n",
       "    }\n",
       "</style>\n",
       "<table border=\"1\" class=\"dataframe\">\n",
       "  <thead>\n",
       "    <tr style=\"text-align: right;\">\n",
       "      <th></th>\n",
       "      <th>recommendationid</th>\n",
       "      <th>steamid</th>\n",
       "      <th>language</th>\n",
       "      <th>review</th>\n",
       "      <th>timestamp_created</th>\n",
       "      <th>timestamp_updated</th>\n",
       "      <th>voted_up</th>\n",
       "      <th>votes_up</th>\n",
       "      <th>votes_funny</th>\n",
       "      <th>weighted_vote_score</th>\n",
       "      <th>comment_count</th>\n",
       "      <th>steam_purchase</th>\n",
       "      <th>received_for_free</th>\n",
       "      <th>written_during_early_access</th>\n",
       "    </tr>\n",
       "  </thead>\n",
       "  <tbody>\n",
       "    <tr>\n",
       "      <th>0</th>\n",
       "      <td>118057004</td>\n",
       "      <td>76561197993103773</td>\n",
       "      <td>portuguese</td>\n",
       "      <td>ola que se passa com o jogo \\ndiz erro de cone...</td>\n",
       "      <td>1656762394</td>\n",
       "      <td>1656762394</td>\n",
       "      <td>True</td>\n",
       "      <td>0</td>\n",
       "      <td>0</td>\n",
       "      <td>0</td>\n",
       "      <td>0</td>\n",
       "      <td>False</td>\n",
       "      <td>False</td>\n",
       "      <td>False</td>\n",
       "    </tr>\n",
       "    <tr>\n",
       "      <th>1</th>\n",
       "      <td>117936665</td>\n",
       "      <td>76561199352887065</td>\n",
       "      <td>english</td>\n",
       "      <td>Well designed and interesting.  GL continually...</td>\n",
       "      <td>1656604756</td>\n",
       "      <td>1656604756</td>\n",
       "      <td>True</td>\n",
       "      <td>0</td>\n",
       "      <td>0</td>\n",
       "      <td>0</td>\n",
       "      <td>0</td>\n",
       "      <td>False</td>\n",
       "      <td>True</td>\n",
       "      <td>False</td>\n",
       "    </tr>\n",
       "    <tr>\n",
       "      <th>2</th>\n",
       "      <td>117802415</td>\n",
       "      <td>76561199278500439</td>\n",
       "      <td>english</td>\n",
       "      <td>I like the feature of chat as you are able to ...</td>\n",
       "      <td>1656433810</td>\n",
       "      <td>1656433810</td>\n",
       "      <td>True</td>\n",
       "      <td>0</td>\n",
       "      <td>0</td>\n",
       "      <td>0</td>\n",
       "      <td>0</td>\n",
       "      <td>False</td>\n",
       "      <td>True</td>\n",
       "      <td>False</td>\n",
       "    </tr>\n",
       "    <tr>\n",
       "      <th>3</th>\n",
       "      <td>117547089</td>\n",
       "      <td>76561199211042912</td>\n",
       "      <td>english</td>\n",
       "      <td>Great Game</td>\n",
       "      <td>1656116447</td>\n",
       "      <td>1656116447</td>\n",
       "      <td>True</td>\n",
       "      <td>0</td>\n",
       "      <td>0</td>\n",
       "      <td>0</td>\n",
       "      <td>0</td>\n",
       "      <td>False</td>\n",
       "      <td>False</td>\n",
       "      <td>False</td>\n",
       "    </tr>\n",
       "    <tr>\n",
       "      <th>4</th>\n",
       "      <td>117429346</td>\n",
       "      <td>76561199272140924</td>\n",
       "      <td>english</td>\n",
       "      <td>YES GOOD GAME</td>\n",
       "      <td>1655934675</td>\n",
       "      <td>1655934675</td>\n",
       "      <td>True</td>\n",
       "      <td>1</td>\n",
       "      <td>0</td>\n",
       "      <td>0.523809552192687988</td>\n",
       "      <td>0</td>\n",
       "      <td>False</td>\n",
       "      <td>True</td>\n",
       "      <td>False</td>\n",
       "    </tr>\n",
       "  </tbody>\n",
       "</table>\n",
       "</div>"
      ],
      "text/plain": [
       "  recommendationid            steamid    language  \\\n",
       "0        118057004  76561197993103773  portuguese   \n",
       "1        117936665  76561199352887065     english   \n",
       "2        117802415  76561199278500439     english   \n",
       "3        117547089  76561199211042912     english   \n",
       "4        117429346  76561199272140924     english   \n",
       "\n",
       "                                              review  timestamp_created  \\\n",
       "0  ola que se passa com o jogo \\ndiz erro de cone...         1656762394   \n",
       "1  Well designed and interesting.  GL continually...         1656604756   \n",
       "2  I like the feature of chat as you are able to ...         1656433810   \n",
       "3                                         Great Game         1656116447   \n",
       "4                                      YES GOOD GAME         1655934675   \n",
       "\n",
       "   timestamp_updated  voted_up  votes_up  votes_funny   weighted_vote_score  \\\n",
       "0         1656762394      True         0            0                     0   \n",
       "1         1656604756      True         0            0                     0   \n",
       "2         1656433810      True         0            0                     0   \n",
       "3         1656116447      True         0            0                     0   \n",
       "4         1655934675      True         1            0  0.523809552192687988   \n",
       "\n",
       "   comment_count  steam_purchase  received_for_free  \\\n",
       "0              0           False              False   \n",
       "1              0           False               True   \n",
       "2              0           False               True   \n",
       "3              0           False              False   \n",
       "4              0           False               True   \n",
       "\n",
       "   written_during_early_access  \n",
       "0                        False  \n",
       "1                        False  \n",
       "2                        False  \n",
       "3                        False  \n",
       "4                        False  "
      ]
     },
     "execution_count": 22,
     "metadata": {},
     "output_type": "execute_result"
    }
   ],
   "source": [
    "df = df[\n",
    "    ['recommendationid',\n",
    "     'steamid',\n",
    "     'language',\n",
    "     'review',\n",
    "     'timestamp_created',\n",
    "     'timestamp_updated',\n",
    "     'voted_up',\n",
    "     'votes_up',\n",
    "     'votes_funny',\n",
    "     'weighted_vote_score',\n",
    "     'comment_count',\n",
    "     'steam_purchase',\n",
    "     'received_for_free',\n",
    "     'written_during_early_access',\n",
    "     ]\n",
    "    ]\n",
    "\n",
    "df.head()"
   ]
  },
  {
   "cell_type": "markdown",
   "id": "e73f119c",
   "metadata": {},
   "source": [
    "Check to see if the dataframe datatypes are ideal."
   ]
  },
  {
   "cell_type": "code",
   "execution_count": 23,
   "id": "ffe141f0",
   "metadata": {
    "scrolled": true
   },
   "outputs": [
    {
     "data": {
      "text/plain": [
       "recommendationid               object\n",
       "steamid                        object\n",
       "language                       object\n",
       "review                         object\n",
       "timestamp_created               int64\n",
       "timestamp_updated               int64\n",
       "voted_up                         bool\n",
       "votes_up                        int64\n",
       "votes_funny                     int64\n",
       "weighted_vote_score            object\n",
       "comment_count                   int64\n",
       "steam_purchase                   bool\n",
       "received_for_free                bool\n",
       "written_during_early_access      bool\n",
       "dtype: object"
      ]
     },
     "execution_count": 23,
     "metadata": {},
     "output_type": "execute_result"
    }
   ],
   "source": [
    "df.dtypes"
   ]
  },
  {
   "cell_type": "markdown",
   "id": "96d0d866",
   "metadata": {},
   "source": [
    "The 'weighted_vote_score' should be changed to a float."
   ]
  },
  {
   "cell_type": "code",
   "execution_count": 24,
   "id": "2debd541",
   "metadata": {},
   "outputs": [
    {
     "data": {
      "text/plain": [
       "recommendationid                object\n",
       "steamid                         object\n",
       "language                        object\n",
       "review                          object\n",
       "timestamp_created                int64\n",
       "timestamp_updated                int64\n",
       "voted_up                          bool\n",
       "votes_up                         int64\n",
       "votes_funny                      int64\n",
       "weighted_vote_score            float64\n",
       "comment_count                    int64\n",
       "steam_purchase                    bool\n",
       "received_for_free                 bool\n",
       "written_during_early_access       bool\n",
       "dtype: object"
      ]
     },
     "execution_count": 24,
     "metadata": {},
     "output_type": "execute_result"
    }
   ],
   "source": [
    "df['weighted_vote_score'] = df['weighted_vote_score'].astype('float64')\n",
    "df.dtypes"
   ]
  },
  {
   "cell_type": "markdown",
   "id": "34359537",
   "metadata": {},
   "source": [
    "### Output to SQL\n",
    "\n",
    "Output the tables to SQL for data storage.\n",
    "\n",
    "A helper function to create a MySQL connection."
   ]
  },
  {
   "cell_type": "code",
   "execution_count": 25,
   "id": "2024f408",
   "metadata": {},
   "outputs": [],
   "source": [
    "import pymysql\n",
    "from sqlalchemy import create_engine"
   ]
  },
  {
   "cell_type": "markdown",
   "id": "c5b84207",
   "metadata": {},
   "source": [
    "Create engine and connect to SQL"
   ]
  },
  {
   "cell_type": "code",
   "execution_count": 26,
   "id": "a7d5bda5",
   "metadata": {},
   "outputs": [
    {
     "name": "stdout",
     "output_type": "stream",
     "text": [
      "Enter password: ········\n",
      "SQL connection created.\n"
     ]
    }
   ],
   "source": [
    "user='root'\n",
    "password=getpass('Enter password: ')\n",
    "host='localhost'\n",
    "port='3306'\n",
    "\n",
    "try:\n",
    "    engine = create_engine(fr'mysql+pymysql://{user}:{password}@{host}:{port}', echo=False)\n",
    "    print('SQL connection created.')\n",
    "except Exception as e:\n",
    "    print(f'Exception occured: {e}')"
   ]
  },
  {
   "cell_type": "markdown",
   "id": "1cf61d8c",
   "metadata": {},
   "source": [
    "Set up the database for loading"
   ]
  },
  {
   "cell_type": "code",
   "execution_count": 27,
   "id": "4ba80c83",
   "metadata": {},
   "outputs": [],
   "source": [
    "engine.execute('DROP database IF EXISTS march_of_empires')\n",
    "engine.execute('CREATE DATABASE march_of_empires')\n",
    "engine.execute('USE march_of_empires')\n",
    "\n",
    "df_author.to_sql(name='authors', con=engine, if_exists = 'replace', index=False)\n",
    "df.to_sql(name='reviews', con=engine, if_exists = 'replace', index=False);"
   ]
  },
  {
   "cell_type": "markdown",
   "id": "285c9654",
   "metadata": {},
   "source": [
    "Double check in MySQL to see that the tables have sucessfully loaded.\n",
    "\n",
    "*Authors table*\n",
    "![Authors](img/sql1.png)\n",
    "\n",
    "*Reviews table*\n",
    "![Reviews](img/sql2.png)"
   ]
  },
  {
   "cell_type": "markdown",
   "id": "2ce2f9c1",
   "metadata": {},
   "source": [
    "### Modify the datatypes and keys of the database\n",
    "\n",
    "Set up the primary/foreign keys and datatypes"
   ]
  },
  {
   "cell_type": "code",
   "execution_count": 28,
   "id": "50e981c4",
   "metadata": {},
   "outputs": [
    {
     "data": {
      "text/plain": [
       "<sqlalchemy.engine.cursor.LegacyCursorResult at 0x29052db50a0>"
      ]
     },
     "execution_count": 28,
     "metadata": {},
     "output_type": "execute_result"
    }
   ],
   "source": [
    "# change data types for id columns to bigint\n",
    "engine.execute('ALTER TABLE authors MODIFY COLUMN steamid bigint')\n",
    "engine.execute('ALTER TABLE reviews MODIFY COLUMN steamid bigint')\n",
    "engine.execute('ALTER TABLE reviews MODIFY COLUMN recommendationid bigint')\n",
    "\n",
    "# set authors.steamid as authors PK\n",
    "engine.execute('ALTER TABLE authors ADD PRIMARY KEY (steamid)')\n",
    "\n",
    "# set reviews.recommendationid as reviews PK\n",
    "engine.execute('ALTER TABLE reviews ADD PRIMARY KEY (recommendationid)')\n",
    "\n",
    "# set reviews.steamid as reviews a FK\n",
    "engine.execute('ALTER TABLE reviews ADD FOREIGN KEY (steamid) REFERENCES authors(steamid)')"
   ]
  },
  {
   "cell_type": "markdown",
   "id": "e976bae5",
   "metadata": {},
   "source": [
    "## SQL Queries\n",
    "For related SQL queries, see \"march_of_empires.sql\" in the file directory."
   ]
  },
  {
   "cell_type": "markdown",
   "id": "03f95560",
   "metadata": {},
   "source": [
    "## Data Processing\n",
    "\n",
    "We are interested in what the reviewers have to say about the game. So the column of most interest is 'review'\n",
    "\n",
    "Reviews in languages besides English will require additional language translation. So we will limit the language to English for now.\n",
    "\n",
    "Isolate the reviews column as a new Pandas Series."
   ]
  },
  {
   "cell_type": "code",
   "execution_count": 29,
   "id": "b8731ef2",
   "metadata": {},
   "outputs": [
    {
     "data": {
      "text/plain": [
       "1       Well designed and interesting.  GL continually...\n",
       "2       I like the feature of chat as you are able to ...\n",
       "3                                              Great Game\n",
       "4                                           YES GOOD GAME\n",
       "9       You have to stay active, to keep the gold comi...\n",
       "                              ...                        \n",
       "1171    Been playing for 4 months on mobile, game is c...\n",
       "1173                               P2W. Dont even bother.\n",
       "1174                                                  p2w\n",
       "1178    SHITTY GAME JUST A STANDARD P2W game dont spen...\n",
       "1179                          Gameloft = Phone port trash\n",
       "Name: review, Length: 423, dtype: object"
      ]
     },
     "execution_count": 29,
     "metadata": {},
     "output_type": "execute_result"
    }
   ],
   "source": [
    "df_english = df[df['language']=='english']\n",
    "\n",
    "# interested in english reviews column\n",
    "reviews_english = df_english['review']\n",
    "reviews_english"
   ]
  },
  {
   "cell_type": "code",
   "execution_count": 30,
   "id": "6503299d",
   "metadata": {},
   "outputs": [
    {
     "data": {
      "text/html": [
       "<div>\n",
       "<style scoped>\n",
       "    .dataframe tbody tr th:only-of-type {\n",
       "        vertical-align: middle;\n",
       "    }\n",
       "\n",
       "    .dataframe tbody tr th {\n",
       "        vertical-align: top;\n",
       "    }\n",
       "\n",
       "    .dataframe thead th {\n",
       "        text-align: right;\n",
       "    }\n",
       "</style>\n",
       "<table border=\"1\" class=\"dataframe\">\n",
       "  <thead>\n",
       "    <tr style=\"text-align: right;\">\n",
       "      <th></th>\n",
       "      <th>recommendationid</th>\n",
       "      <th>steamid</th>\n",
       "      <th>language</th>\n",
       "      <th>review</th>\n",
       "      <th>timestamp_created</th>\n",
       "      <th>timestamp_updated</th>\n",
       "      <th>voted_up</th>\n",
       "      <th>votes_up</th>\n",
       "      <th>votes_funny</th>\n",
       "      <th>weighted_vote_score</th>\n",
       "      <th>comment_count</th>\n",
       "      <th>steam_purchase</th>\n",
       "      <th>received_for_free</th>\n",
       "      <th>written_during_early_access</th>\n",
       "    </tr>\n",
       "  </thead>\n",
       "  <tbody>\n",
       "    <tr>\n",
       "      <th>1</th>\n",
       "      <td>117936665</td>\n",
       "      <td>76561199352887065</td>\n",
       "      <td>english</td>\n",
       "      <td>Well designed and interesting.  GL continually...</td>\n",
       "      <td>1656604756</td>\n",
       "      <td>1656604756</td>\n",
       "      <td>True</td>\n",
       "      <td>0</td>\n",
       "      <td>0</td>\n",
       "      <td>0.000000</td>\n",
       "      <td>0</td>\n",
       "      <td>False</td>\n",
       "      <td>True</td>\n",
       "      <td>False</td>\n",
       "    </tr>\n",
       "    <tr>\n",
       "      <th>2</th>\n",
       "      <td>117802415</td>\n",
       "      <td>76561199278500439</td>\n",
       "      <td>english</td>\n",
       "      <td>I like the feature of chat as you are able to ...</td>\n",
       "      <td>1656433810</td>\n",
       "      <td>1656433810</td>\n",
       "      <td>True</td>\n",
       "      <td>0</td>\n",
       "      <td>0</td>\n",
       "      <td>0.000000</td>\n",
       "      <td>0</td>\n",
       "      <td>False</td>\n",
       "      <td>True</td>\n",
       "      <td>False</td>\n",
       "    </tr>\n",
       "    <tr>\n",
       "      <th>3</th>\n",
       "      <td>117547089</td>\n",
       "      <td>76561199211042912</td>\n",
       "      <td>english</td>\n",
       "      <td>Great Game</td>\n",
       "      <td>1656116447</td>\n",
       "      <td>1656116447</td>\n",
       "      <td>True</td>\n",
       "      <td>0</td>\n",
       "      <td>0</td>\n",
       "      <td>0.000000</td>\n",
       "      <td>0</td>\n",
       "      <td>False</td>\n",
       "      <td>False</td>\n",
       "      <td>False</td>\n",
       "    </tr>\n",
       "    <tr>\n",
       "      <th>4</th>\n",
       "      <td>117429346</td>\n",
       "      <td>76561199272140924</td>\n",
       "      <td>english</td>\n",
       "      <td>YES GOOD GAME</td>\n",
       "      <td>1655934675</td>\n",
       "      <td>1655934675</td>\n",
       "      <td>True</td>\n",
       "      <td>1</td>\n",
       "      <td>0</td>\n",
       "      <td>0.523810</td>\n",
       "      <td>0</td>\n",
       "      <td>False</td>\n",
       "      <td>True</td>\n",
       "      <td>False</td>\n",
       "    </tr>\n",
       "    <tr>\n",
       "      <th>9</th>\n",
       "      <td>116605762</td>\n",
       "      <td>76561198042708364</td>\n",
       "      <td>english</td>\n",
       "      <td>You have to stay active, to keep the gold comi...</td>\n",
       "      <td>1654555451</td>\n",
       "      <td>1654555451</td>\n",
       "      <td>False</td>\n",
       "      <td>0</td>\n",
       "      <td>0</td>\n",
       "      <td>0.000000</td>\n",
       "      <td>0</td>\n",
       "      <td>False</td>\n",
       "      <td>False</td>\n",
       "      <td>False</td>\n",
       "    </tr>\n",
       "    <tr>\n",
       "      <th>...</th>\n",
       "      <td>...</td>\n",
       "      <td>...</td>\n",
       "      <td>...</td>\n",
       "      <td>...</td>\n",
       "      <td>...</td>\n",
       "      <td>...</td>\n",
       "      <td>...</td>\n",
       "      <td>...</td>\n",
       "      <td>...</td>\n",
       "      <td>...</td>\n",
       "      <td>...</td>\n",
       "      <td>...</td>\n",
       "      <td>...</td>\n",
       "      <td>...</td>\n",
       "    </tr>\n",
       "    <tr>\n",
       "      <th>1171</th>\n",
       "      <td>38237289</td>\n",
       "      <td>76561198016119609</td>\n",
       "      <td>english</td>\n",
       "      <td>Been playing for 4 months on mobile, game is c...</td>\n",
       "      <td>1513006629</td>\n",
       "      <td>1513006629</td>\n",
       "      <td>True</td>\n",
       "      <td>8</td>\n",
       "      <td>0</td>\n",
       "      <td>0.349722</td>\n",
       "      <td>0</td>\n",
       "      <td>False</td>\n",
       "      <td>False</td>\n",
       "      <td>False</td>\n",
       "    </tr>\n",
       "    <tr>\n",
       "      <th>1173</th>\n",
       "      <td>38237193</td>\n",
       "      <td>76561198033517329</td>\n",
       "      <td>english</td>\n",
       "      <td>P2W. Dont even bother.</td>\n",
       "      <td>1513006367</td>\n",
       "      <td>1513006367</td>\n",
       "      <td>False</td>\n",
       "      <td>19</td>\n",
       "      <td>1</td>\n",
       "      <td>0.583463</td>\n",
       "      <td>0</td>\n",
       "      <td>False</td>\n",
       "      <td>False</td>\n",
       "      <td>False</td>\n",
       "    </tr>\n",
       "    <tr>\n",
       "      <th>1174</th>\n",
       "      <td>38236440</td>\n",
       "      <td>76561198113186156</td>\n",
       "      <td>english</td>\n",
       "      <td>p2w</td>\n",
       "      <td>1513004338</td>\n",
       "      <td>1513004338</td>\n",
       "      <td>False</td>\n",
       "      <td>9</td>\n",
       "      <td>1</td>\n",
       "      <td>0.569310</td>\n",
       "      <td>1</td>\n",
       "      <td>False</td>\n",
       "      <td>False</td>\n",
       "      <td>False</td>\n",
       "    </tr>\n",
       "    <tr>\n",
       "      <th>1178</th>\n",
       "      <td>38233104</td>\n",
       "      <td>76561198073326208</td>\n",
       "      <td>english</td>\n",
       "      <td>SHITTY GAME JUST A STANDARD P2W game dont spen...</td>\n",
       "      <td>1512992940</td>\n",
       "      <td>1512992940</td>\n",
       "      <td>False</td>\n",
       "      <td>48</td>\n",
       "      <td>2</td>\n",
       "      <td>0.684685</td>\n",
       "      <td>0</td>\n",
       "      <td>False</td>\n",
       "      <td>False</td>\n",
       "      <td>False</td>\n",
       "    </tr>\n",
       "    <tr>\n",
       "      <th>1179</th>\n",
       "      <td>38232874</td>\n",
       "      <td>76561198076154141</td>\n",
       "      <td>english</td>\n",
       "      <td>Gameloft = Phone port trash</td>\n",
       "      <td>1512991946</td>\n",
       "      <td>1512991946</td>\n",
       "      <td>False</td>\n",
       "      <td>105</td>\n",
       "      <td>8</td>\n",
       "      <td>0.773731</td>\n",
       "      <td>11</td>\n",
       "      <td>False</td>\n",
       "      <td>False</td>\n",
       "      <td>False</td>\n",
       "    </tr>\n",
       "  </tbody>\n",
       "</table>\n",
       "<p>423 rows × 14 columns</p>\n",
       "</div>"
      ],
      "text/plain": [
       "     recommendationid            steamid language  \\\n",
       "1           117936665  76561199352887065  english   \n",
       "2           117802415  76561199278500439  english   \n",
       "3           117547089  76561199211042912  english   \n",
       "4           117429346  76561199272140924  english   \n",
       "9           116605762  76561198042708364  english   \n",
       "...               ...                ...      ...   \n",
       "1171         38237289  76561198016119609  english   \n",
       "1173         38237193  76561198033517329  english   \n",
       "1174         38236440  76561198113186156  english   \n",
       "1178         38233104  76561198073326208  english   \n",
       "1179         38232874  76561198076154141  english   \n",
       "\n",
       "                                                 review  timestamp_created  \\\n",
       "1     Well designed and interesting.  GL continually...         1656604756   \n",
       "2     I like the feature of chat as you are able to ...         1656433810   \n",
       "3                                            Great Game         1656116447   \n",
       "4                                         YES GOOD GAME         1655934675   \n",
       "9     You have to stay active, to keep the gold comi...         1654555451   \n",
       "...                                                 ...                ...   \n",
       "1171  Been playing for 4 months on mobile, game is c...         1513006629   \n",
       "1173                             P2W. Dont even bother.         1513006367   \n",
       "1174                                                p2w         1513004338   \n",
       "1178  SHITTY GAME JUST A STANDARD P2W game dont spen...         1512992940   \n",
       "1179                        Gameloft = Phone port trash         1512991946   \n",
       "\n",
       "      timestamp_updated  voted_up  votes_up  votes_funny  weighted_vote_score  \\\n",
       "1            1656604756      True         0            0             0.000000   \n",
       "2            1656433810      True         0            0             0.000000   \n",
       "3            1656116447      True         0            0             0.000000   \n",
       "4            1655934675      True         1            0             0.523810   \n",
       "9            1654555451     False         0            0             0.000000   \n",
       "...                 ...       ...       ...          ...                  ...   \n",
       "1171         1513006629      True         8            0             0.349722   \n",
       "1173         1513006367     False        19            1             0.583463   \n",
       "1174         1513004338     False         9            1             0.569310   \n",
       "1178         1512992940     False        48            2             0.684685   \n",
       "1179         1512991946     False       105            8             0.773731   \n",
       "\n",
       "      comment_count  steam_purchase  received_for_free  \\\n",
       "1                 0           False               True   \n",
       "2                 0           False               True   \n",
       "3                 0           False              False   \n",
       "4                 0           False               True   \n",
       "9                 0           False              False   \n",
       "...             ...             ...                ...   \n",
       "1171              0           False              False   \n",
       "1173              0           False              False   \n",
       "1174              1           False              False   \n",
       "1178              0           False              False   \n",
       "1179             11           False              False   \n",
       "\n",
       "      written_during_early_access  \n",
       "1                           False  \n",
       "2                           False  \n",
       "3                           False  \n",
       "4                           False  \n",
       "9                           False  \n",
       "...                           ...  \n",
       "1171                        False  \n",
       "1173                        False  \n",
       "1174                        False  \n",
       "1178                        False  \n",
       "1179                        False  \n",
       "\n",
       "[423 rows x 14 columns]"
      ]
     },
     "execution_count": 30,
     "metadata": {},
     "output_type": "execute_result"
    }
   ],
   "source": [
    "df_english"
   ]
  },
  {
   "cell_type": "markdown",
   "id": "2e7881b9",
   "metadata": {},
   "source": [
    "Clean the text for further analysis. Keep only basic punctuation (?,!.;:) and set all to lowercase for easier string matching. Refer to the transformed data as 'reviews_basic' "
   ]
  },
  {
   "cell_type": "code",
   "execution_count": 31,
   "id": "9615a309",
   "metadata": {},
   "outputs": [],
   "source": [
    "#keep letters, numbers, basic punctuation, space\n",
    "whitelist = set(string.digits+string.ascii_letters+r' .?!;'+'\\'')  \n",
    "reviews_basic = []\n",
    "\n",
    "# clean the reviews\n",
    "for review_raw in reviews_english:\n",
    "    # remove line and tab breaks, make all lowercase\n",
    "    temp = ''.join(filter(whitelist.__contains__, review_raw.replace('\\n',' ').replace('\\t',' '))).lower()\n",
    "    reviews_basic.append(temp)"
   ]
  },
  {
   "cell_type": "code",
   "execution_count": 32,
   "id": "c4cc4e43",
   "metadata": {},
   "outputs": [
    {
     "data": {
      "text/plain": [
       "0      Well designed and interesting.  GL continually...\n",
       "1      I like the feature of chat as you are able to ...\n",
       "2                                             Great Game\n",
       "3                                          YES GOOD GAME\n",
       "4      You have to stay active, to keep the gold comi...\n",
       "                             ...                        \n",
       "418    Been playing for 4 months on mobile, game is c...\n",
       "419                               P2W. Dont even bother.\n",
       "420                                                  p2w\n",
       "421    SHITTY GAME JUST A STANDARD P2W game dont spen...\n",
       "422                          Gameloft = Phone port trash\n",
       "Name: review, Length: 423, dtype: object"
      ]
     },
     "execution_count": 32,
     "metadata": {},
     "output_type": "execute_result"
    }
   ],
   "source": [
    "reviews_english=reviews_english.reset_index(drop=True)\n",
    "reviews_english"
   ]
  },
  {
   "cell_type": "code",
   "execution_count": 33,
   "id": "bc52f708",
   "metadata": {
    "scrolled": true
   },
   "outputs": [
    {
     "name": "stdout",
     "output_type": "stream",
     "text": [
      "Raw:\n",
      " this game is best.\n",
      "\n",
      "Clean:\n",
      " this game is best.\n"
     ]
    }
   ],
   "source": [
    "# compare a random raw and cleaned\n",
    "i = random.randint(0,len(reviews_english))\n",
    "print(f'Raw:\\n {reviews_english[i]}')\n",
    "print(f'\\nClean:\\n {reviews_basic[i]}')"
   ]
  },
  {
   "cell_type": "markdown",
   "id": "28228f02",
   "metadata": {},
   "source": [
    "In addition, some acronyms such as \"P2W\" (pay to win) will be of interest. \n",
    "\n",
    "So it will be useful to convert all acronyms similar to this to a full phrase.\n",
    "\n",
    "First, define a dictionary/phrase book of commonly used gaming terms.\n",
    "\n",
    "Reference: https://ag.hyperxgaming.com/article/8983/gaming-acronyms-every-gamer-should-know"
   ]
  },
  {
   "cell_type": "code",
   "execution_count": 34,
   "id": "b16200e5",
   "metadata": {},
   "outputs": [],
   "source": [
    "ACRONYMS_DICT = {\n",
    "                'rpg': 'role playing game',\n",
    "                'rts': 'real time strategy',\n",
    "                'tbs': 'turn based strategy',\n",
    "                'fps': 'frames per second',\n",
    "                'tps': 'third person shooter',\n",
    "                'br': 'battle royale',\n",
    "                'moba': 'multiplayer online battle arena',\n",
    "                'mmo': 'massively multiplayer online',\n",
    "                'tcg' : 'trading card game',\n",
    "                'ccg': 'collectible card game',\n",
    "                'dlc' : 'downloadable content',\n",
    "                'p2w' : 'pay to win',\n",
    "                'p2p' : 'pay to play',\n",
    "                'glhf': 'good luck, have fun',\n",
    "                'gg' : 'good game',\n",
    "                'ggwp': 'good game well played',\n",
    "                'wp': 'well played',\n",
    "                'afk': 'away from keyboard',\n",
    "                #'pog': 'pog', # not acronym - shock/surprise\n",
    "                #'pogchamp' : 'pogchamp', # not acronym - shock/surprise\n",
    "                #'kappa' : 'kappa', # not acroynym - sarcasm/humor\n",
    "                'fgc' : 'fighting game community',\n",
    "                'op' : 'overpowered', # can also mean 'original poster' in a comment/forum thread\n",
    "                'up' : 'underpowered',\n",
    "                #'buff' : 'buff', # not acronym - strengthen\n",
    "                #'nerf' : 'nerf', # not acronym - weaken\n",
    "                'ui' : 'user interface',\n",
    "                'hud' : 'heads up display', \n",
    "                'fov': 'field of view',\n",
    "                'los': 'line of sight',\n",
    "                'aoe': 'area of effect', \n",
    "                'dps': 'damage per second',\n",
    "                'dot': 'damage over time',\n",
    "                'aggro' : 'aggro', # not acronym - aggrevate/draw attention\n",
    "                'cs' : 'creep score', # unique to mobas\n",
    "                'pvp' : 'player vs player',\n",
    "                'pve' : 'player vs environment',\n",
    "                'npc' : 'non player character',\n",
    "                'hp' : 'health', # or health points\n",
    "                'mp' : 'mana', # or mana points\n",
    "                'xp' : 'experience', # or experience points\n",
    "                'mvp' : 'most valuable player'\n",
    "                }"
   ]
  },
  {
   "cell_type": "markdown",
   "id": "f2013371",
   "metadata": {},
   "source": [
    "Helper functions to replace acronyms with words. "
   ]
  },
  {
   "cell_type": "code",
   "execution_count": 35,
   "id": "e58d94fb",
   "metadata": {},
   "outputs": [],
   "source": [
    "def acronym_to_words(review,acronyms_dict):\n",
    "    '''\n",
    "    Convert any acronyms to words given a user review.\n",
    "    Args: review --> str\n",
    "    Returns: review_no_acronyms --> str\n",
    "    '''\n",
    "    review_word_lst = review.split()\n",
    "    count = 0\n",
    "    for word in review_word_lst:\n",
    "        if word in acronyms_dict:\n",
    "            # replace with word from acronyms dict\n",
    "            review_word_lst[review_word_lst.index(word)] = acronyms_dict[word]\n",
    "            count+=1\n",
    "    return count,' '.join(review_word_lst)\n",
    "\n",
    "def replace_acronyms(reviews_list,acronyms_dict):\n",
    "    '''\n",
    "    Replace all acronyms with words/phrases\n",
    "    Args: reviews_list --> list, acronyms_dict --> dict\n",
    "    Returns: reviews_list --> list\n",
    "    '''\n",
    "    total = 0\n",
    "    reviews_list_no_acronyms = []\n",
    "    for review in reviews_list:\n",
    "        result = acronym_to_words(review,acronyms_dict)\n",
    "        total += result[0]\n",
    "        reviews_list_no_acronyms.append(result[1])\n",
    "    print(f'Total of {total} acronyms changed.')\n",
    "    return reviews_list_no_acronyms"
   ]
  },
  {
   "cell_type": "markdown",
   "id": "458d022f",
   "metadata": {},
   "source": [
    "Remove any relevant acronyms, and refer to the transformed data as 'reviews_no_acronyms'"
   ]
  },
  {
   "cell_type": "code",
   "execution_count": 36,
   "id": "50b58e12",
   "metadata": {
    "scrolled": true
   },
   "outputs": [
    {
     "name": "stdout",
     "output_type": "stream",
     "text": [
      "Total of 70 acronyms changed.\n"
     ]
    },
    {
     "data": {
      "text/plain": [
       "['well designed and interesting. gl continually deploys new features to keep us engaged.',\n",
       " 'i like the feature of chat as you are able to speak with players from around the globe and join in alliances to advance your champion',\n",
       " 'great game']"
      ]
     },
     "execution_count": 36,
     "metadata": {},
     "output_type": "execute_result"
    }
   ],
   "source": [
    "reviews_no_acronyms = replace_acronyms(reviews_basic,ACRONYMS_DICT)\n",
    "reviews_no_acronyms[:3]"
   ]
  },
  {
   "cell_type": "markdown",
   "id": "c48be19a",
   "metadata": {},
   "source": [
    "Join the cleaned reviews back to the Dataframe. Keep the reviews in sentence list format seperate for now, but these can be  added back anytime."
   ]
  },
  {
   "cell_type": "code",
   "execution_count": 37,
   "id": "7ead0b35",
   "metadata": {
    "scrolled": false
   },
   "outputs": [
    {
     "data": {
      "text/plain": [
       "['recommendationid',\n",
       " 'steamid',\n",
       " 'language',\n",
       " 'review',\n",
       " 'timestamp_created',\n",
       " 'timestamp_updated',\n",
       " 'voted_up',\n",
       " 'votes_up',\n",
       " 'votes_funny',\n",
       " 'weighted_vote_score',\n",
       " 'comment_count',\n",
       " 'steam_purchase',\n",
       " 'received_for_free',\n",
       " 'written_during_early_access']"
      ]
     },
     "execution_count": 37,
     "metadata": {},
     "output_type": "execute_result"
    }
   ],
   "source": [
    "cols = list(df_english.columns)\n",
    "cols"
   ]
  },
  {
   "cell_type": "code",
   "execution_count": 38,
   "id": "582d8cf2",
   "metadata": {},
   "outputs": [
    {
     "data": {
      "text/plain": [
       "4"
      ]
     },
     "execution_count": 38,
     "metadata": {},
     "output_type": "execute_result"
    }
   ],
   "source": [
    "df_english.columns.get_loc('timestamp_created')"
   ]
  },
  {
   "cell_type": "code",
   "execution_count": 39,
   "id": "84203215",
   "metadata": {},
   "outputs": [
    {
     "data": {
      "text/html": [
       "<div>\n",
       "<style scoped>\n",
       "    .dataframe tbody tr th:only-of-type {\n",
       "        vertical-align: middle;\n",
       "    }\n",
       "\n",
       "    .dataframe tbody tr th {\n",
       "        vertical-align: top;\n",
       "    }\n",
       "\n",
       "    .dataframe thead th {\n",
       "        text-align: right;\n",
       "    }\n",
       "</style>\n",
       "<table border=\"1\" class=\"dataframe\">\n",
       "  <thead>\n",
       "    <tr style=\"text-align: right;\">\n",
       "      <th></th>\n",
       "      <th>recommendationid</th>\n",
       "      <th>steamid</th>\n",
       "      <th>language</th>\n",
       "      <th>review</th>\n",
       "      <th>review_clean</th>\n",
       "      <th>timestamp_created</th>\n",
       "      <th>timestamp_updated</th>\n",
       "      <th>voted_up</th>\n",
       "      <th>votes_up</th>\n",
       "      <th>votes_funny</th>\n",
       "      <th>weighted_vote_score</th>\n",
       "      <th>comment_count</th>\n",
       "      <th>steam_purchase</th>\n",
       "      <th>received_for_free</th>\n",
       "      <th>written_during_early_access</th>\n",
       "    </tr>\n",
       "  </thead>\n",
       "  <tbody>\n",
       "    <tr>\n",
       "      <th>1</th>\n",
       "      <td>117936665</td>\n",
       "      <td>76561199352887065</td>\n",
       "      <td>english</td>\n",
       "      <td>Well designed and interesting.  GL continually...</td>\n",
       "      <td>well designed and interesting. gl continually ...</td>\n",
       "      <td>1656604756</td>\n",
       "      <td>1656604756</td>\n",
       "      <td>True</td>\n",
       "      <td>0</td>\n",
       "      <td>0</td>\n",
       "      <td>0.000000</td>\n",
       "      <td>0</td>\n",
       "      <td>False</td>\n",
       "      <td>True</td>\n",
       "      <td>False</td>\n",
       "    </tr>\n",
       "    <tr>\n",
       "      <th>2</th>\n",
       "      <td>117802415</td>\n",
       "      <td>76561199278500439</td>\n",
       "      <td>english</td>\n",
       "      <td>I like the feature of chat as you are able to ...</td>\n",
       "      <td>i like the feature of chat as you are able to ...</td>\n",
       "      <td>1656433810</td>\n",
       "      <td>1656433810</td>\n",
       "      <td>True</td>\n",
       "      <td>0</td>\n",
       "      <td>0</td>\n",
       "      <td>0.000000</td>\n",
       "      <td>0</td>\n",
       "      <td>False</td>\n",
       "      <td>True</td>\n",
       "      <td>False</td>\n",
       "    </tr>\n",
       "    <tr>\n",
       "      <th>3</th>\n",
       "      <td>117547089</td>\n",
       "      <td>76561199211042912</td>\n",
       "      <td>english</td>\n",
       "      <td>Great Game</td>\n",
       "      <td>great game</td>\n",
       "      <td>1656116447</td>\n",
       "      <td>1656116447</td>\n",
       "      <td>True</td>\n",
       "      <td>0</td>\n",
       "      <td>0</td>\n",
       "      <td>0.000000</td>\n",
       "      <td>0</td>\n",
       "      <td>False</td>\n",
       "      <td>False</td>\n",
       "      <td>False</td>\n",
       "    </tr>\n",
       "    <tr>\n",
       "      <th>4</th>\n",
       "      <td>117429346</td>\n",
       "      <td>76561199272140924</td>\n",
       "      <td>english</td>\n",
       "      <td>YES GOOD GAME</td>\n",
       "      <td>yes good game</td>\n",
       "      <td>1655934675</td>\n",
       "      <td>1655934675</td>\n",
       "      <td>True</td>\n",
       "      <td>1</td>\n",
       "      <td>0</td>\n",
       "      <td>0.523810</td>\n",
       "      <td>0</td>\n",
       "      <td>False</td>\n",
       "      <td>True</td>\n",
       "      <td>False</td>\n",
       "    </tr>\n",
       "    <tr>\n",
       "      <th>9</th>\n",
       "      <td>116605762</td>\n",
       "      <td>76561198042708364</td>\n",
       "      <td>english</td>\n",
       "      <td>You have to stay active, to keep the gold comi...</td>\n",
       "      <td>you have to stay active to keep the gold comin...</td>\n",
       "      <td>1654555451</td>\n",
       "      <td>1654555451</td>\n",
       "      <td>False</td>\n",
       "      <td>0</td>\n",
       "      <td>0</td>\n",
       "      <td>0.000000</td>\n",
       "      <td>0</td>\n",
       "      <td>False</td>\n",
       "      <td>False</td>\n",
       "      <td>False</td>\n",
       "    </tr>\n",
       "    <tr>\n",
       "      <th>...</th>\n",
       "      <td>...</td>\n",
       "      <td>...</td>\n",
       "      <td>...</td>\n",
       "      <td>...</td>\n",
       "      <td>...</td>\n",
       "      <td>...</td>\n",
       "      <td>...</td>\n",
       "      <td>...</td>\n",
       "      <td>...</td>\n",
       "      <td>...</td>\n",
       "      <td>...</td>\n",
       "      <td>...</td>\n",
       "      <td>...</td>\n",
       "      <td>...</td>\n",
       "      <td>...</td>\n",
       "    </tr>\n",
       "    <tr>\n",
       "      <th>1171</th>\n",
       "      <td>38237289</td>\n",
       "      <td>76561198016119609</td>\n",
       "      <td>english</td>\n",
       "      <td>Been playing for 4 months on mobile, game is c...</td>\n",
       "      <td>been playing for 4 months on mobile game is cr...</td>\n",
       "      <td>1513006629</td>\n",
       "      <td>1513006629</td>\n",
       "      <td>True</td>\n",
       "      <td>8</td>\n",
       "      <td>0</td>\n",
       "      <td>0.349722</td>\n",
       "      <td>0</td>\n",
       "      <td>False</td>\n",
       "      <td>False</td>\n",
       "      <td>False</td>\n",
       "    </tr>\n",
       "    <tr>\n",
       "      <th>1173</th>\n",
       "      <td>38237193</td>\n",
       "      <td>76561198033517329</td>\n",
       "      <td>english</td>\n",
       "      <td>P2W. Dont even bother.</td>\n",
       "      <td>p2w. dont even bother.</td>\n",
       "      <td>1513006367</td>\n",
       "      <td>1513006367</td>\n",
       "      <td>False</td>\n",
       "      <td>19</td>\n",
       "      <td>1</td>\n",
       "      <td>0.583463</td>\n",
       "      <td>0</td>\n",
       "      <td>False</td>\n",
       "      <td>False</td>\n",
       "      <td>False</td>\n",
       "    </tr>\n",
       "    <tr>\n",
       "      <th>1174</th>\n",
       "      <td>38236440</td>\n",
       "      <td>76561198113186156</td>\n",
       "      <td>english</td>\n",
       "      <td>p2w</td>\n",
       "      <td>pay to win</td>\n",
       "      <td>1513004338</td>\n",
       "      <td>1513004338</td>\n",
       "      <td>False</td>\n",
       "      <td>9</td>\n",
       "      <td>1</td>\n",
       "      <td>0.569310</td>\n",
       "      <td>1</td>\n",
       "      <td>False</td>\n",
       "      <td>False</td>\n",
       "      <td>False</td>\n",
       "    </tr>\n",
       "    <tr>\n",
       "      <th>1178</th>\n",
       "      <td>38233104</td>\n",
       "      <td>76561198073326208</td>\n",
       "      <td>english</td>\n",
       "      <td>SHITTY GAME JUST A STANDARD P2W game dont spen...</td>\n",
       "      <td>shitty game just a standard pay to win game do...</td>\n",
       "      <td>1512992940</td>\n",
       "      <td>1512992940</td>\n",
       "      <td>False</td>\n",
       "      <td>48</td>\n",
       "      <td>2</td>\n",
       "      <td>0.684685</td>\n",
       "      <td>0</td>\n",
       "      <td>False</td>\n",
       "      <td>False</td>\n",
       "      <td>False</td>\n",
       "    </tr>\n",
       "    <tr>\n",
       "      <th>1179</th>\n",
       "      <td>38232874</td>\n",
       "      <td>76561198076154141</td>\n",
       "      <td>english</td>\n",
       "      <td>Gameloft = Phone port trash</td>\n",
       "      <td>gameloft phone port trash</td>\n",
       "      <td>1512991946</td>\n",
       "      <td>1512991946</td>\n",
       "      <td>False</td>\n",
       "      <td>105</td>\n",
       "      <td>8</td>\n",
       "      <td>0.773731</td>\n",
       "      <td>11</td>\n",
       "      <td>False</td>\n",
       "      <td>False</td>\n",
       "      <td>False</td>\n",
       "    </tr>\n",
       "  </tbody>\n",
       "</table>\n",
       "<p>423 rows × 15 columns</p>\n",
       "</div>"
      ],
      "text/plain": [
       "     recommendationid            steamid language  \\\n",
       "1           117936665  76561199352887065  english   \n",
       "2           117802415  76561199278500439  english   \n",
       "3           117547089  76561199211042912  english   \n",
       "4           117429346  76561199272140924  english   \n",
       "9           116605762  76561198042708364  english   \n",
       "...               ...                ...      ...   \n",
       "1171         38237289  76561198016119609  english   \n",
       "1173         38237193  76561198033517329  english   \n",
       "1174         38236440  76561198113186156  english   \n",
       "1178         38233104  76561198073326208  english   \n",
       "1179         38232874  76561198076154141  english   \n",
       "\n",
       "                                                 review  \\\n",
       "1     Well designed and interesting.  GL continually...   \n",
       "2     I like the feature of chat as you are able to ...   \n",
       "3                                            Great Game   \n",
       "4                                         YES GOOD GAME   \n",
       "9     You have to stay active, to keep the gold comi...   \n",
       "...                                                 ...   \n",
       "1171  Been playing for 4 months on mobile, game is c...   \n",
       "1173                             P2W. Dont even bother.   \n",
       "1174                                                p2w   \n",
       "1178  SHITTY GAME JUST A STANDARD P2W game dont spen...   \n",
       "1179                        Gameloft = Phone port trash   \n",
       "\n",
       "                                           review_clean  timestamp_created  \\\n",
       "1     well designed and interesting. gl continually ...         1656604756   \n",
       "2     i like the feature of chat as you are able to ...         1656433810   \n",
       "3                                            great game         1656116447   \n",
       "4                                         yes good game         1655934675   \n",
       "9     you have to stay active to keep the gold comin...         1654555451   \n",
       "...                                                 ...                ...   \n",
       "1171  been playing for 4 months on mobile game is cr...         1513006629   \n",
       "1173                             p2w. dont even bother.         1513006367   \n",
       "1174                                         pay to win         1513004338   \n",
       "1178  shitty game just a standard pay to win game do...         1512992940   \n",
       "1179                          gameloft phone port trash         1512991946   \n",
       "\n",
       "      timestamp_updated  voted_up  votes_up  votes_funny  weighted_vote_score  \\\n",
       "1            1656604756      True         0            0             0.000000   \n",
       "2            1656433810      True         0            0             0.000000   \n",
       "3            1656116447      True         0            0             0.000000   \n",
       "4            1655934675      True         1            0             0.523810   \n",
       "9            1654555451     False         0            0             0.000000   \n",
       "...                 ...       ...       ...          ...                  ...   \n",
       "1171         1513006629      True         8            0             0.349722   \n",
       "1173         1513006367     False        19            1             0.583463   \n",
       "1174         1513004338     False         9            1             0.569310   \n",
       "1178         1512992940     False        48            2             0.684685   \n",
       "1179         1512991946     False       105            8             0.773731   \n",
       "\n",
       "      comment_count  steam_purchase  received_for_free  \\\n",
       "1                 0           False               True   \n",
       "2                 0           False               True   \n",
       "3                 0           False              False   \n",
       "4                 0           False               True   \n",
       "9                 0           False              False   \n",
       "...             ...             ...                ...   \n",
       "1171              0           False              False   \n",
       "1173              0           False              False   \n",
       "1174              1           False              False   \n",
       "1178              0           False              False   \n",
       "1179             11           False              False   \n",
       "\n",
       "      written_during_early_access  \n",
       "1                           False  \n",
       "2                           False  \n",
       "3                           False  \n",
       "4                           False  \n",
       "9                           False  \n",
       "...                           ...  \n",
       "1171                        False  \n",
       "1173                        False  \n",
       "1174                        False  \n",
       "1178                        False  \n",
       "1179                        False  \n",
       "\n",
       "[423 rows x 15 columns]"
      ]
     },
     "execution_count": 39,
     "metadata": {},
     "output_type": "execute_result"
    }
   ],
   "source": [
    "# insert to right after 'review'\n",
    "df_english.insert(df_english.columns.get_loc('timestamp_created'), 'review_clean', reviews_no_acronyms)\n",
    "df_english"
   ]
  }
 ],
 "metadata": {
  "kernelspec": {
   "display_name": "Python 3 (ipykernel)",
   "language": "python",
   "name": "python3"
  },
  "language_info": {
   "codemirror_mode": {
    "name": "ipython",
    "version": 3
   },
   "file_extension": ".py",
   "mimetype": "text/x-python",
   "name": "python",
   "nbconvert_exporter": "python",
   "pygments_lexer": "ipython3",
   "version": "3.8.13"
  }
 },
 "nbformat": 4,
 "nbformat_minor": 5
}
